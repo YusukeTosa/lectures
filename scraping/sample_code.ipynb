{
 "cells": [
  {
   "cell_type": "markdown",
   "metadata": {},
   "source": [
    "# 1. Requestsの基礎\n",
    "tutorial\\\n",
    "https://requests-docs-ja.readthedocs.io/en/latest/user/quickstart/"
   ]
  },
  {
   "cell_type": "code",
   "execution_count": 1,
   "metadata": {},
   "outputs": [],
   "source": [
    "import requests"
   ]
  },
  {
   "cell_type": "code",
   "execution_count": 2,
   "metadata": {},
   "outputs": [],
   "source": [
    "r = requests.get('https://akademia.tech')"
   ]
  },
  {
   "cell_type": "code",
   "execution_count": 3,
   "metadata": {},
   "outputs": [
    {
     "data": {
      "text/plain": [
       "requests.models.Response"
      ]
     },
     "execution_count": 3,
     "metadata": {},
     "output_type": "execute_result"
    }
   ],
   "source": [
    "type(r)"
   ]
  },
  {
   "cell_type": "code",
   "execution_count": 4,
   "metadata": {},
   "outputs": [
    {
     "data": {
      "text/plain": [
       "{'Server': 'nginx/1.14.0 (Ubuntu)', 'Date': 'Mon, 24 Feb 2020 00:02:52 GMT', 'Content-Type': 'text/html; charset=utf-8', 'Transfer-Encoding': 'chunked', 'Connection': 'keep-alive', 'X-Frame-Options': 'DENY', 'Vary': 'Cookie', 'X-Content-Type-Options': 'nosniff', 'Set-Cookie': 'csrftoken=ywGMD7OJnvmV48Vzoej1Hs9UwPCWgB5xN0flciJvSTdn7OsS2DQQRMiZ7zXe2Jsw; expires=Mon, 22 Feb 2021 00:02:52 GMT; Max-Age=31449600; Path=/; SameSite=Lax', 'Cache-Control': 'max-age=0, must-revalidate, no-cache, no-store, private', 'Content-Encoding': 'gzip'}"
      ]
     },
     "execution_count": 4,
     "metadata": {},
     "output_type": "execute_result"
    }
   ],
   "source": [
    "r.headers"
   ]
  },
  {
   "cell_type": "code",
   "execution_count": 5,
   "metadata": {},
   "outputs": [
    {
     "data": {
      "text/plain": [
       "'\\n<!DOCTYPE html>\\n<html lang=\"ja\">\\n  <head>\\n    <meta charset=\"utf-8\" />\\n    <meta name=\"viewport\" content=\"width=device-width, initial-scale=1.0\" />\\n    <meta http-equiv=\"X-UA-Compatible\" content=\"ie=edge\" />\\n    \\n<meta\\n  name=\"description\"\\n  content=\"京都大学の工学部と経済学部を中心にIT(プログラミング)と学問とビジネスを繋ぐサークル、AkaDeMiAの紹介ページ。団体理念や活動内容、メンバーの一覧など。\"\\n/>\\n\\n    <link rel=\"icon\" href=\"/static/akademia_web/img/favicon.ico\" />\\n    <link\\n      rel=\"stylesheet\"\\n      href=\"/static/akademia_web/scss/main.css\"\\n    />\\n    \\n    <title>京都大学のITビジネス系学生団体AkaDeMiA</title>\\n    <!-- Global site tag (gtag.js) - Google Analytics -->\\n    <script\\n      async\\n      src=\"https://www.googletagmanager.com/gtag/js?id=UA-135958147-2\"\\n    ></script>\\n    <script>\\n      window.dataLayer = window.dataLayer || [];\\n      function gtag() {\\n        dataLayer.push(arguments);\\n      }\\n      gtag(\"js\", new Date());\\n      gtag(\"config\", \"UA-135958147-2\");\\n    </script>\\n  </head>\\n  <body>\\n    <div class=\"logo-left-pc\">\\n      <picture>\\n        <a href=\"/\">\\n          <img src=\"/static/akademia_web/svg/logo.svg\" alt=\"AkaDeMiA\" />\\n        </a>\\n      </picture>\\n    </div>\\n    \\n<div class=\"nav-right\">\\n  <div class=\"nav-links\">\\n    <div class=\"nav-links__item\" id=\"link-top\">\\n      <a href=\"#top\" class=\"\"\\n        ><img\\n          class=\"nav-right--img\"\\n          src=\"/static/akademia_web/svg/top.svg\"\\n      /></a>\\n      <div></div>\\n    </div>\\n    <div class=\"nav-links__item\" id=\"link-about\">\\n      <a href=\"#about\"\\n        ><img\\n          class=\"nav-right--img\"\\n          src=\"/static/akademia_web/svg/about.svg\"\\n      /></a>\\n      <div></div>\\n    </div>\\n    <div class=\"nav-links__item\" id=\"link-history\">\\n      <a href=\"#history\"\\n        ><img\\n          class=\"nav-right--img\"\\n          src=\"/static/akademia_web/svg/history.svg\"\\n      /></a>\\n      <div></div>\\n    </div>\\n    <div class=\"nav-links__item\" id=\"link-philosophy\">\\n      <a href=\"#philosophy\"\\n        ><img\\n          class=\"nav-right--img\"\\n          src=\"/static/akademia_web/svg/philosophy.svg\"\\n      /></a>\\n      <div></div>\\n    </div>\\n    <div class=\"nav-links__item\" id=\"link-event\">\\n      <a href=\"#event\"\\n        ><img\\n          class=\"nav-right--img\"\\n          src=\"/static/akademia_web/svg/event.svg\"\\n      /></a>\\n      <div></div>\\n    </div>\\n    <div class=\"nav-links__item\" id=\"link-blog\">\\n      <a href=\"#blog\"\\n        ><img\\n          class=\"nav-right--img\"\\n          src=\"/static/akademia_web/svg/blog.svg\"\\n      /></a>\\n      <div></div>\\n    </div>\\n    <div class=\"nav-links__item\" id=\"link-members\">\\n      <a href=\"#members\"\\n        ><img\\n          class=\"nav-right--img\"\\n          src=\"/static/akademia_web/svg/members.svg\"\\n      /></a>\\n      <div></div>\\n    </div>\\n    <div class=\"nav-links__item\" id=\"link-products\">\\n      <a href=\"#products\"\\n        ><img\\n          class=\"nav-right--img\"\\n          src=\"/static/akademia_web/svg/products.svg\"\\n      /></a>\\n      <div></div>\\n    </div>\\n    <div class=\"nav-links__item\" id=\"link-contact\">\\n      <a href=\"#contact\"\\n        ><img\\n          class=\"nav-right--img\"\\n          src=\"/static/akademia_web/svg/contact.svg\"\\n      /></a>\\n      <div></div>\\n    </div>\\n  </div>\\n</div>\\n\\n<div class=\"logo-menu-sp\" id=\"menu_btn\">\\n  <picture>\\n    <img\\n      src=\"/static/akademia_web/svg/logo_sp_menu.svg\"\\n      alt=\"AkaDeMiA\"\\n    />\\n  </picture>\\n</div>\\n<div class=\"popup-menu-wrapper\" id=\"menu\">\\n  <img\\n    class=\"delete_mark\"\\n    src=\"/static/akademia_web/svg/delete.svg\"\\n    id=\"delete_mark\"\\n  />\\n  <div class=\"menu-links\">\\n    <div class=\"menu-links__item\">\\n      <a href=\"#top\" class=\"\" id=\"top-btn\"\\n        ><svg\\n          class=\"menu-links__name\"\\n          xmlns=\"http://www.w3.org/2000/svg\"\\n          viewBox=\"0 0 59.87 21.42\"\\n        >\\n          <defs>\\n            <style>\\n              .cls-1 {\\n                fill: #fff;\\n                stroke: #fff;\\n              }\\n              path {\\n                fill-opacity: 1;\\n              }\\n            </style>\\n          </defs>\\n          <title>top</title>\\n          <g id=\"レイヤー_2\" data-name=\"レイヤー 2\">\\n            <g id=\"レイヤー_1-2\" data-name=\"レイヤー 1\">\\n              <g\\n                id=\"TOP_ABOUT_HISTORY_PHILOSOPHY_EVENT_BLOG_MEMBERS_PRODUCTS_CONTACT\"\\n                data-name=\"TOP ABOUT HISTORY PHILOSOPHY EVENT BLOG MEMBERS PRODUCTS CONTACT\"\\n              >\\n                <path class=\"cls-1\" d=\"M15.29.18V4H0V.18Zm-9.63,7h4v14h-4Z\" />\\n                <path\\n                  class=\"cls-1\"\\n                  d=\"M39.26,10.71c0,6-4.14,10.71-10.17,10.71s-10.2-4.68-10.2-10.71S23.06,0,29.09,0,39.26,4.68,39.26,10.71Zm-4.08,0C35.18,6.87,32.9,4,29.09,4S23,6.87,23,10.71s2.28,6.72,6.12,6.72S35.18,14.55,35.18,10.71Zm-4.08,0a2,2,0,1,1-2-2A2,2,0,0,1,31.1,10.71Z\"\\n                />\\n                <path\\n                  class=\"cls-1\"\\n                  d=\"M59.87,7.08c0,3.84-2.61,6.9-7.29,6.9H48.8v7.2h-4v-11h7.68A3.08,3.08,0,1,0,52.83,4a2,2,0,0,0-.35,0H44.8V.19h7.82C57.26.18,59.87,3.24,59.87,7.08Z\"\\n                />\\n              </g>\\n            </g>\\n          </g></svg\\n      ></a>\\n    </div>\\n    <div class=\"menu-links__item\">\\n      <a href=\"#about\" id=\"about-btn\"\\n        ><svg\\n          class=\"menu-links__name\"\\n          xmlns=\"http://www.w3.org/2000/svg\"\\n          viewBox=\"0 0 671.6 142.8\"\\n        >\\n          <defs>\\n            <style>\\n              .cls-1 {\\n                fill: #fff;\\n              }\\n            </style>\\n          </defs>\\n          <title>about</title>\\n          <g id=\"レイヤー_2\" data-name=\"レイヤー 2\">\\n            <g id=\"レイヤー_1-2\" data-name=\"レイヤー 1\">\\n              <g id=\"ABOUT\">\\n                <path\\n                  class=\"cls-1\"\\n                  d=\"M129.6,141.2H99.4L64.8,41.2l-34.6,100H0L51.2,1.2H78.4Z\"\\n                />\\n                <path\\n                  class=\"cls-1\"\\n                  d=\"M252.8,98.4c0,24.6-16,42.8-46.8,42.8H152.6V55.6h50.6c10.4,0,14.8-6.8,14.8-14.4s-4.4-14.4-14.8-14.4H152.6V1.2h50c26.8,0,42.6,18.2,42.6,40,0,10.2-5,19.4-12.6,26.2C244.8,73.4,252.8,83.8,252.8,98.4Zm-27.8,0c0-10-6.6-17.4-19-17.4H179.2v34.8H206C218.4,115.8,225,108.4,225,98.4Z\"\\n                />\\n                <path\\n                  class=\"cls-1\"\\n                  d=\"M410.6,71.4c0,40.2-27.6,71.4-67.8,71.4s-68-31.2-68-71.4S302.6,0,342.8,0,410.6,31.2,410.6,71.4Zm-27.2,0c0-25.6-15.2-44.8-40.6-44.8-25.6,0-40.8,19.2-40.8,44.8s15.2,44.8,40.8,44.8C368.2,116.2,383.4,97,383.4,71.4Zm-27.2,0a13.5,13.5,0,1,1-13.4-13.6,13.5,13.5,0,0,1,13.4,13.6Z\"\\n                />\\n                <path\\n                  class=\"cls-1\"\\n                  d=\"M463.2,23.8H436.6V1.2h26.6Zm54,59.2,26.2,11.4c-3.2,30.2-23.4,48.4-53.2,48.4-32.6,0-53.6-21.6-53.6-56.6V43.4h26.6V85.6c0,19,10.2,30.6,27,30.6,16.6,0,27-11.6,27-30.6ZM543.8,1.2V70.8L517.2,59.2V1.2Z\"\\n                />\\n                <path\\n                  class=\"cls-1\"\\n                  d=\"M671.6,1.2V26.8h-102V1.2ZM607.4,47.6H634v93.6H607.4Z\"\\n                />\\n              </g>\\n            </g>\\n          </g></svg\\n      ></a>\\n    </div>\\n    <div class=\"menu-links__item\">\\n      <a href=\"#history\" id=\"history-btn\"\\n        ><svg\\n          class=\"menu-links__name\"\\n          xmlns=\"http://www.w3.org/2000/svg\"\\n          viewBox=\"0 0 830.79 143.61\"\\n        >\\n          <defs>\\n            <style>\\n              .cls-1 {\\n                fill: #fff;\\n              }\\n            </style>\\n          </defs>\\n          <title>history</title>\\n          <g id=\"レイヤー_2\" data-name=\"レイヤー 2\">\\n            <g id=\"レイヤー_1-2\" data-name=\"レイヤー 1\">\\n              <g id=\"HISTORY\">\\n                <path\\n                  class=\"cls-1\"\\n                  d=\"M109.6,58.6v82.6H83V84H0V1.2H26.6V58.6ZM0,103.6H26.6v37.6H0ZM109.6,1.2V38.8H83V1.2Z\"\\n                />\\n                <path\\n                  class=\"cls-1\"\\n                  d=\"M168.2,1.2V23.8H141.6V1.2ZM141.6,43.4h26.6v97.8H141.6Z\"\\n                />\\n                <path\\n                  class=\"cls-1\"\\n                  d=\"M217.6,99.4c1,4,3.4,8.4,9.6,12.2L218,137c-13.8-6.4-22.6-16.6-24.8-28.2Zm82.8,1.2c0,23.2-16.2,43.4-52.4,43a87,87,0,0,1-10.2-.6l9-26.4c15.4-.6,25.2-6.8,25.2-14.8,0-8.6-6.2-12-29.6-19C210,73,197,61,197,40.4,197,22,210.4,0,246.4,0a62.83,62.83,0,0,1,17.4,2.4l-16.4,24H246c-13,0-20.8,5.2-20.8,13,0,6.6,5.6,11,27.2,17.6C279.6,65.2,300.4,74.8,300.4,100.6Z\"\\n                />\\n                <path\\n                  class=\"cls-1\"\\n                  d=\"M417.2,1.2V26.8h-102V1.2ZM353,47.6h26.6v93.6H353Z\"\\n                />\\n                <path\\n                  class=\"cls-1\"\\n                  d=\"M567,71.4c0,40.2-27.6,71.4-67.8,71.4s-68-31.2-68-71.4S459,0,499.2,0,567,31.2,567,71.4Zm-27.2,0c0-25.6-15.2-44.8-40.6-44.8-25.6,0-40.8,19.2-40.8,44.8s15.2,44.8,40.8,44.8c25.4,0,40.6-19.2,40.6-44.8Zm-27.2,0a13.5,13.5,0,1,1-13.4-13.6,13.5,13.5,0,0,1,13.4,13.6Z\"\\n                />\\n                <path\\n                  class=\"cls-1\"\\n                  d=\"M640,93.2H620.6v48H594V67.8h51.2c13.2,0,21.6-8.6,21.6-20.6s-8.4-20.4-21.6-20.4H594V1.2h51.8c31.2,0,48.6,20.4,48.6,46,0,18.8-9.2,34.8-26.6,42l30,52h-30Z\"\\n                />\\n                <path\\n                  class=\"cls-1\"\\n                  d=\"M830.79,1.2,782.19,88H755.6L706.8,1.2h30.6l31.4,58.2L800.4,1.2Zm-75.19,110h26.59v30H755.6Z\"\\n                />\\n              </g>\\n            </g>\\n          </g></svg\\n      ></a>\\n    </div>\\n    <div class=\"menu-links__item\">\\n      <a href=\"#philosophy\" id=\"philosophy-btn\"\\n        ><svg\\n          class=\"menu-links__name\"\\n          xmlns=\"http://www.w3.org/2000/svg\"\\n          viewBox=\"0 0 1252.39 143.61\"\\n        >\\n          <defs>\\n            <style>\\n              .cls-1 {\\n                fill: #fff;\\n              }\\n            </style>\\n          </defs>\\n          <title>philosophy</title>\\n          <g id=\"レイヤー_2\" data-name=\"レイヤー 2\">\\n            <g id=\"レイヤー_1-2\" data-name=\"レイヤー 1\">\\n              <g id=\"PHILOSOPHY\">\\n                <path\\n                  class=\"cls-1\"\\n                  d=\"M100.4,47.2c0,25.6-17.4,46-48.6,46H26.6v48H0V67.8H51.2C64.6,67.8,73,59.2,73,47.2S64.6,26.8,51.2,26.8H0V1.2H51.8C83,1.2,100.4,21.6,100.4,47.2Z\"\\n                />\\n                <path\\n                  class=\"cls-1\"\\n                  d=\"M237,58.6v82.6H210.4V84h-83V1.2H154V58.6Zm-109.6,45H154v37.6H127.4ZM237,1.2V38.8H210.4V1.2Z\"\\n                />\\n                <path\\n                  class=\"cls-1\"\\n                  d=\"M295.6,1.2V23.8H269V1.2ZM269,43.4h26.6v97.8H269Z\"\\n                />\\n                <path\\n                  class=\"cls-1\"\\n                  d=\"M354.2,23.8H327.6V1.2h26.6Zm0,73.4-26.6,26.4V43.4h26.6Zm57.39,18.6v25.4H339.2L365,115.8Z\"\\n                />\\n                <path\\n                  class=\"cls-1\"\\n                  d=\"M561.39,71.4c0,40.2-27.6,71.4-67.8,71.4s-68-31.2-68-71.4S453.39,0,493.59,0,561.39,31.2,561.39,71.4Zm-27.2,0c0-25.6-15.2-44.8-40.6-44.8C468,26.6,452.8,45.8,452.8,71.4s15.2,44.8,40.79,44.8C519,116.2,534.19,97,534.19,71.4Zm-27.2,0a13.5,13.5,0,1,1-13.4-13.6A13.5,13.5,0,0,1,507,71.4Z\"\\n                />\\n                <path\\n                  class=\"cls-1\"\\n                  d=\"M604.8,99.4c1,4,3.4,8.4,9.6,12.2L605.2,137c-13.8-6.4-22.6-16.6-24.8-28.2Zm82.79,1.2c0,23.2-16.19,43.4-52.39,43A87,87,0,0,1,625,143l9-26.4c15.4-.6,25.2-6.8,25.2-14.8,0-8.6-6.2-12-29.6-19C597.2,73,584.2,61,584.2,40.4,584.2,22,597.6,0,633.6,0A62.83,62.83,0,0,1,651,2.4l-16.4,24h-1.4c-13,0-20.8,5.2-20.8,13,0,6.6,5.6,11,27.2,17.6,27.2,8.2,48,17.8,48,43.6Z\"\\n                />\\n                <path\\n                  class=\"cls-1\"\\n                  d=\"M843.4,71.4c0,40.2-27.6,71.4-67.8,71.4s-68-31.2-68-71.4S735.4,0,775.6,0,843.4,31.2,843.4,71.4Zm-27.2,0c0-25.6-15.2-44.8-40.6-44.8-25.6,0-40.8,19.2-40.8,44.8s15.2,44.8,40.8,44.8C801,116.2,816.2,97,816.2,71.4Zm-27.2,0a13.5,13.5,0,1,1-13.4-13.6A13.5,13.5,0,0,1,789,71.4Z\"\\n                />\\n                <path\\n                  class=\"cls-1\"\\n                  d=\"M970.8,47.2c0,25.6-17.4,46-48.6,46H897v48H870.4V67.8h51.2c13.4,0,21.8-8.6,21.8-20.6S935,26.8,921.6,26.8H870.4V1.2h51.8C953.4,1.2,970.8,21.6,970.8,47.2Z\"\\n                />\\n                <path\\n                  class=\"cls-1\"\\n                  d=\"M1107.4,58.6v82.6h-26.6V84h-83V1.2h26.6V58.6Zm-109.6,45h26.6v37.6H997.8ZM1107.4,1.2V38.8h-26.6V1.2Z\"\\n                />\\n                <path\\n                  class=\"cls-1\"\\n                  d=\"M1252.39,1.2,1203.79,88h-26.6L1128.4,1.2H1159l31.39,58.2L1222,1.2Zm-75.2,110h26.6v30h-26.6Z\"\\n                />\\n              </g>\\n            </g>\\n          </g></svg\\n      ></a>\\n    </div>\\n    <div class=\"menu-links__item\">\\n      <a href=\"#event\" id=\"event-btn\"\\n        ><svg\\n          class=\"menu-links__name\"\\n          xmlns=\"http://www.w3.org/2000/svg\"\\n          viewBox=\"0 0 628.2 142.8\"\\n        >\\n          <defs>\\n            <style>\\n              .cls-1 {\\n                fill: #fff;\\n              }\\n            </style>\\n          </defs>\\n          <title>event</title>\\n          <g id=\"レイヤー_2\" data-name=\"レイヤー 2\">\\n            <g id=\"レイヤー_1-2\" data-name=\"レイヤー 1\">\\n              <g id=\"EVENT\">\\n                <path\\n                  class=\"cls-1\"\\n                  d=\"M91.8,26.8H0V1.2H91.8ZM85.6,84H0V58.6H85.6ZM93,115.8v25.4H0V115.8Z\"\\n                />\\n                <path\\n                  class=\"cls-1\"\\n                  d=\"M169.2,66.8l-14,40.4L117,1.2h29.6ZM245.4,1.2l-50.6,140H167.6V141L215.8,1.2Z\"\\n                />\\n                <path\\n                  class=\"cls-1\"\\n                  d=\"M360.2,26.8H268.4V1.2h91.8ZM354,84H268.4V58.6H354Zm7.4,31.8v25.4h-93V115.8Z\"\\n                />\\n                <path\\n                  class=\"cls-1\"\\n                  d=\"M472.8,1.2h26.6V142.8h-1.8L417,62.8v78.4H390.4V0h1.8l80.6,79.8Z\"\\n                />\\n                <path\\n                  class=\"cls-1\"\\n                  d=\"M628.2,1.2V26.8h-102V1.2ZM564,47.6h26.6v93.6H564Z\"\\n                />\\n              </g>\\n            </g>\\n          </g></svg\\n      ></a>\\n    </div>\\n    <div class=\"menu-links__item\">\\n      <a href=\"#blog\" id=\"blog-btn\"\\n        ><svg\\n          class=\"menu-links__name\"\\n          xmlns=\"http://www.w3.org/2000/svg\"\\n          viewBox=\"0 0 510 143.32\"\\n        >\\n          <defs>\\n            <style>\\n              .cls-1 {\\n                fill: #fff;\\n              }\\n            </style>\\n          </defs>\\n          <title>blog</title>\\n          <g id=\"レイヤー_2\" data-name=\"レイヤー 2\">\\n            <g id=\"レイヤー_1-2\" data-name=\"レイヤー 1\">\\n              <g id=\"BLOG\">\\n                <path\\n                  class=\"cls-1\"\\n                  d=\"M100.2,98.5c0,24.6-16,42.8-46.8,42.8H0V55.7H50.6c10.4,0,14.8-6.8,14.8-14.4S61,26.9,50.6,26.9H0V1.3H50c26.8,0,42.6,18.2,42.6,40,0,10.2-5,19.4-12.6,26.2C92.2,73.5,100.2,83.9,100.2,98.5Zm-27.8,0c0-10-6.6-17.4-19-17.4H26.6v34.8H53.4c12.4,0,19-7.4,19-17.4Z\"\\n                />\\n                <path\\n                  class=\"cls-1\"\\n                  d=\"M153.8,23.9H127.2V1.3h26.6Zm0,73.4-26.6,26.4V43.5h26.6Zm57.4,18.6v25.4H138.8l25.8-25.4Z\"\\n                />\\n                <path\\n                  class=\"cls-1\"\\n                  d=\"M361,71.5c0,40.2-27.6,71.4-67.8,71.4s-68-31.2-68-71.4S253,.1,293.2.1,361,31.3,361,71.5Zm-27.2,0c0-25.6-15.2-44.8-40.6-44.8-25.6,0-40.8,19.2-40.8,44.8s15.2,44.8,40.8,44.8C318.6,116.3,333.8,97.1,333.8,71.5Zm-27.2,0a13.5,13.5,0,1,1-13.4-13.6A13.5,13.5,0,0,1,306.6,71.5Z\"\\n                />\\n                <path\\n                  class=\"cls-1\"\\n                  d=\"M510,58.5v63.2c-10.2,13.8-35.2,23.8-60.4,21.2-40-4.2-65.6-31.2-65.6-71.4S410,2.3,450.6.1c22-1,42.4,5.4,55.2,15.6L492,35.1a71,71,0,0,0-40.8-8.8c-22.8.8-40,19.6-40,45.2s15.4,41.4,40.6,44.8c13.8,1.8,25.4-.8,32.6-6.2V58.5Z\"\\n                />\\n              </g>\\n            </g>\\n          </g></svg\\n      ></a>\\n    </div>\\n    <div class=\"menu-links__item\">\\n      <a href=\"#members\" id=\"members-btn\"\\n        ><svg\\n          class=\"menu-links__name\"\\n          xmlns=\"http://www.w3.org/2000/svg\"\\n          viewBox=\"0 0 938 143.61\"\\n        >\\n          <defs>\\n            <style>\\n              .cls-1 {\\n                fill: #fff;\\n              }\\n            </style>\\n          </defs>\\n          <title>members</title>\\n          <g id=\"レイヤー_2\" data-name=\"レイヤー 2\">\\n            <g id=\"レイヤー_1-2\" data-name=\"レイヤー 1\">\\n              <g id=\"MEMBERS\">\\n                <path\\n                  class=\"cls-1\"\\n                  d=\"M137.4,0V141.2H110.8V65.6L69.4,109.8H67.6l-41-44.2v75.6H0V0H1.6l67,74,67-74Z\"\\n                />\\n                <path\\n                  class=\"cls-1\"\\n                  d=\"M262.4,115.8v25.4h-93V115.8ZM255,84H169.4V58.6H255Zm6.2-57.2H169.4V1.2h91.8Z\"\\n                />\\n                <path\\n                  class=\"cls-1\"\\n                  d=\"M428.8,0V141.2H402.2V65.6l-41.4,44.2H359L318,65.6v75.6H291.4V0H293l67,74L427,0Z\"\\n                />\\n                <path\\n                  class=\"cls-1\"\\n                  d=\"M561,98.4c0,24.6-16,42.8-46.8,42.8H460.8V55.6h50.6c10.4,0,14.8-6.8,14.8-14.4s-4.4-14.4-14.8-14.4H460.8V1.2h50c26.8,0,42.6,18.2,42.6,40,0,10.2-5,19.4-12.6,26.2C553,73.4,561,83.8,561,98.4Zm-27.8,0c0-10-6.6-17.4-19-17.4H487.4v34.8h26.8C526.6,115.8,533.2,108.4,533.2,98.4Z\"\\n                />\\n                <path\\n                  class=\"cls-1\"\\n                  d=\"M681,115.8v25.4H588V115.8ZM673.6,84H588V58.6h85.6Zm6.2-57.2H588V1.2h91.8Z\"\\n                />\\n                <path\\n                  class=\"cls-1\"\\n                  d=\"M756,93.2H736.6v48H710V67.8h51.2c13.2,0,21.6-8.6,21.6-20.6s-8.4-20.4-21.6-20.4H710V1.2h51.8c31.2,0,48.6,20.4,48.6,46,0,18.8-9.2,34.8-26.6,42l30,52h-30Z\"\\n                />\\n                <path\\n                  class=\"cls-1\"\\n                  d=\"M938,100.6c0,23.2-16.2,43.4-52.4,43a87,87,0,0,1-10.2-.6l9-26.4c15.4-.6,25.2-6.8,25.2-14.8,0-8.6-6.2-12-29.6-19C847.6,73,834.6,61,834.6,40.4,834.6,22,848,0,884,0a62.83,62.83,0,0,1,17.4,2.4L885,26.4h-1.4c-13,0-20.8,5.2-20.8,13,0,6.6,5.6,11,27.2,17.6C917.2,65.2,938,74.8,938,100.6Zm-82.8-1.2c1,4,3.4,8.4,9.6,12.2L855.6,137c-13.8-6.4-22.6-16.6-24.8-28.2Z\"\\n                />\\n              </g>\\n            </g>\\n          </g></svg\\n      ></a>\\n    </div>\\n    <div class=\"menu-links__item\">\\n      <a href=\"#products\" id=\"products-btn\"\\n        ><svg\\n          class=\"menu-links__name\"\\n          xmlns=\"http://www.w3.org/2000/svg\"\\n          viewBox=\"0 0 1065.42 143.61\"\\n        >\\n          <defs>\\n            <style>\\n              .cls-1 {\\n                fill: #fff;\\n              }\\n            </style>\\n          </defs>\\n          <title>products</title>\\n          <g id=\"レイヤー_2\" data-name=\"レイヤー 2\">\\n            <g id=\"レイヤー_1-2\" data-name=\"レイヤー 1\">\\n              <g id=\"PRODUCTS\">\\n                <path\\n                  class=\"cls-1\"\\n                  d=\"M100.4,47.2c0,25.6-17.4,46-48.6,46H26.6v48H0V67.8H51.2C64.6,67.8,73,59.2,73,47.2S64.6,26.8,51.2,26.8H0V1.2H51.8C83,1.2,100.4,21.6,100.4,47.2Z\"\\n                />\\n                <path\\n                  class=\"cls-1\"\\n                  d=\"M173.4,93.2H154v48H127.4V67.8h51.2c13.2,0,21.6-8.6,21.6-20.6s-8.4-20.4-21.6-20.4H127.4V1.2h51.8c31.2,0,48.6,20.4,48.6,46,0,18.8-9.2,34.8-26.6,42l30,52h-30Z\"\\n                />\\n                <path\\n                  class=\"cls-1\"\\n                  d=\"M385,71.4c0,40.2-27.6,71.4-67.8,71.4s-68-31.2-68-71.4S277,0,317.23,0,385,31.2,385,71.4Zm-27.2,0c0-25.6-15.2-44.8-40.6-44.8-25.6,0-40.8,19.2-40.8,44.8s15.2,44.8,40.8,44.8C342.63,116.2,357.83,97,357.83,71.4Zm-27.2,0a13.5,13.5,0,1,1-13.4-13.6A13.5,13.5,0,0,1,330.63,71.4Z\"\\n                />\\n                <path\\n                  class=\"cls-1\"\\n                  d=\"M530.4,71.2c0,41-27,70-73.4,70H412V75.6h26.6v40.2h17.8c29.4,0,47.4-17.8,47.4-44.6,0-26.6-18-44.4-47.4-44.4H412V1.2h45C503.4,1.2,530.4,30.4,530.4,71.2Z\"\\n                />\\n                <path\\n                  class=\"cls-1\"\\n                  d=\"M584,23.8H557.4V1.2H584ZM638,83l26.2,11.4c-3.2,30.2-23.4,48.4-53.2,48.4-32.63,0-53.63-21.6-53.63-56.6V43.4H584V85.6c0,19,10.19,30.6,27,30.6,16.61,0,27-11.6,27-30.6Zm26.6-81.8V70.8L638,59.2V1.2Z\"\\n                />\\n                <path\\n                  class=\"cls-1\"\\n                  d=\"M792.22,98l24.2,12c-11.4,20-32.2,32.8-58,32.8-40.2,0-67.8-31.2-67.8-71.4S718.22,0,758.42,0c25.8,0,46.6,13,58,32.8l-24.2,12c-6.8-11.2-18.4-18.2-33.8-18.2-25.4,0-40.6,19.2-40.6,44.8s15.2,44.8,40.6,44.8C773.82,116.2,785.4,109.2,792.22,98ZM759,58.2a13.5,13.5,0,1,1-13.5,13.5A13.49,13.49,0,0,1,759,58.2Z\"\\n                />\\n                <path\\n                  class=\"cls-1\"\\n                  d=\"M940.22,1.2V26.8h-102V1.2ZM876,47.6h26.6v93.6H876Z\"\\n                />\\n                <path\\n                  class=\"cls-1\"\\n                  d=\"M982.62,99.4c1,4,3.4,8.4,9.6,12.2L983,137c-13.8-6.4-22.6-16.6-24.8-28.2Zm82.8,1.2c0,23.2-16.2,43.4-52.4,43a87,87,0,0,1-10.2-.6l9-26.4c15.4-.6,25.2-6.8,25.2-14.8,0-8.6-6.2-12-29.6-19C975,73,962,61,962,40.4,962,22,975.42,0,1011.42,0a62.83,62.83,0,0,1,17.4,2.4l-16.4,24H1011c-13,0-20.8,5.2-20.8,13,0,6.6,5.6,11,27.2,17.6,27.2,8.2,48,17.8,48,43.6Z\"\\n                />\\n              </g>\\n            </g>\\n          </g></svg\\n      ></a>\\n    </div>\\n    <div class=\"menu-links__item\">\\n      <a href=\"#contact\" id=\"contact-btn\"\\n        ><svg\\n          class=\"menu-links__name\"\\n          xmlns=\"http://www.w3.org/2000/svg\"\\n          viewBox=\"0 0 937.6 142.8\"\\n        >\\n          <defs>\\n            <style>\\n              .cls-1 {\\n                fill: #fff;\\n              }\\n            </style>\\n          </defs>\\n          <title>contact</title>\\n          <g id=\"レイヤー_2\" data-name=\"レイヤー 2\">\\n            <g id=\"レイヤー_1-2\" data-name=\"レイヤー 1\">\\n              <g id=\"CONTACT\">\\n                <path\\n                  class=\"cls-1\"\\n                  d=\"M101.6,98l24.2,12c-11.4,20-32.2,32.8-58,32.8C27.6,142.8,0,111.6,0,71.4S27.6,0,67.8,0c25.8,0,46.6,13,58,32.8l-24.2,12C94.8,33.6,83.2,26.6,67.8,26.6c-25.4,0-40.6,19.2-40.6,44.8s15.2,44.8,40.6,44.8C83.2,116.2,94.8,109.2,101.6,98ZM68.4,58.2A13.5,13.5,0,1,1,54.9,71.7,13.49,13.49,0,0,1,68.4,58.2Z\"\\n                />\\n                <path\\n                  class=\"cls-1\"\\n                  d=\"M279.6,71.4c0,40.2-27.6,71.4-67.8,71.4s-68-31.2-68-71.4S171.6,0,211.8,0,279.6,31.2,279.6,71.4Zm-27.2,0c0-25.6-15.2-44.8-40.6-44.8-25.6,0-40.8,19.2-40.8,44.8s15.2,44.8,40.8,44.8c25.4,0,40.6-19.2,40.6-44.8Zm-27.2,0a13.5,13.5,0,1,1-13.4-13.6,13.5,13.5,0,0,1,13.4,13.6Z\"\\n                />\\n                <path\\n                  class=\"cls-1\"\\n                  d=\"M389,1.2h26.6V142.8h-1.8l-80.6-80v78.4H306.6V0h1.8L389,79.8Z\"\\n                />\\n                <path\\n                  class=\"cls-1\"\\n                  d=\"M544.4,1.2V26.8h-102V1.2ZM480.2,47.6h26.6v93.6H480.2Z\"\\n                />\\n                <path\\n                  class=\"cls-1\"\\n                  d=\"M676,141.2H645.8l-34.6-100-34.6,100H546.4l51.2-140h27.2Z\"\\n                />\\n                <path\\n                  class=\"cls-1\"\\n                  d=\"M789.6,98l24.2,12c-11.4,20-32.2,32.8-58,32.8-40.2,0-67.8-31.2-67.8-71.4S715.6,0,755.8,0c25.8,0,46.6,13,58,32.8l-24.2,12c-6.8-11.2-18.4-18.2-33.8-18.2-25.4,0-40.6,19.2-40.6,44.8s15.2,44.8,40.6,44.8C771.2,116.2,782.8,109.2,789.6,98ZM756.4,58.2a13.5,13.5,0,1,1-13.5,13.5A13.49,13.49,0,0,1,756.4,58.2Z\"\\n                />\\n                <path\\n                  class=\"cls-1\"\\n                  d=\"M937.6,1.2V26.8h-102V1.2ZM873.4,47.6H900v93.6H873.4Z\"\\n                />\\n              </g>\\n            </g>\\n          </g>\\n        </svg>\\n      </a>\\n    </div>\\n  </div>\\n</div>\\n\\n<div class=\"index-content\" id=\"top\">\\n  <div id=\"logo\" class=\"p-logo\">\\n    <svg\\n      id=\"logo_animation\"\\n      xmlns=\"http://www.w3.org/2000/svg\"\\n      width=\"200px\"\\n      viewBox=\"0 0 362.33 387.86\"\\n    >\\n      <defs>\\n        <style>\\n          .cls-1 {\\n            fill: transparent;\\n            stroke: #040000;\\n          }\\n          path {\\n            fill-opacity: 0;\\n            transition: fill-opacity 1s;\\n          }\\n          .fill path {\\n            fill: #040000;\\n            fill-opacity: 1;\\n            stroke: none;\\n          }\\n        </style>\\n      </defs>\\n      <g>\\n        <path\\n          class=\"cls-1\"\\n          d=\"M165,290.29V140.48L294.7,65.55,267.7,50,137.91,124.87V274.69Z\"\\n        />\\n        <path\\n          class=\"cls-1\"\\n          d=\"M78.46,240.35V90.52L208.18,15.6,181.18,0,51.42,74.93V224.75Z\"\\n        />\\n        <path\\n          class=\"cls-1\"\\n          d=\"M121.69,265.32V115.51L251.45,40.58l-27-15.6-129.78,75V249.72Z\"\\n        />\\n        <path\\n          class=\"cls-1\"\\n          d=\"M222.8,148.55c8.27-4.92,16.43-2.62,19.9,4.27L311,113.43V74.93L181.18,149.84V299.68l129.75-74.91V186.25l-68.29,39.43c-3.17,11-10.76,21.76-20,27.17-11,6.41-21.69.21-21.63-12.5.06-14.08,9.51-30.23,21.63-37.46,8.22-4.91,16.34-2.65,19.83,4.16L311,167.52V132.15l-68.17,39.34c-3.22,11-10.76,21.61-20,27-11,6.41-21.69.21-21.63-12.5C201.25,171.93,210.7,155.78,222.8,148.55Z\"\\n        />\\n        <path\\n          class=\"cls-1\"\\n          d=\"M68.87,369h-10v18.13H56V330.52h2.85v35.7H68l13.69-18.06h3.47L70.88,367l16.84,20.16H84.06Z\"\\n        />\\n        <path\\n          class=\"cls-1\"\\n          d=\"M124.18,361.2v26h-2.8v-8a18.39,18.39,0,0,1-15.95,8.58c-5.34,0-12.05-2.2-12.05-9.64,0-7.61,6.8-10.36,14.4-12.14,6.47-1.46,13.53-2.2,13.53-5.92,0-5.25-3.08-9.71-10.78-9.71-7.28,0-11.17,3.88-12.39,8.9l-2.75-.64c1.2-4.79,4.79-11,15.15-11C116.29,347.6,124.18,350.42,124.18,361.2Zm-2.75,4.53c-3.49.74-7.54,1.94-13,3-9,1.85-12.07,4.54-12.07,9.39,0,4.69,4.3,6.89,9.48,6.89,8.83,0,15.54-6.38,15.54-14.08Z\"\\n        />\\n        <path\\n          class=\"cls-1\"\\n          d=\"M183,358.84c0,16.6-10.93,28.32-29.71,28.32H135V360.62h10.78v16.31H153c11.91,0,19.19-7.22,19.19-18.06s-7.28-18-19.19-18H135V330.52h18.22C172,330.52,183,342.33,183,358.84Z\"\\n        />\\n        <path\\n          class=\"cls-1\"\\n          d=\"M197.28,371.56A8.7,8.7,0,0,0,206,378a8.56,8.56,0,0,0,7.22-3.47l8.9,4.37a18.33,18.33,0,0,1-16.12,9c-11.26,0-19.74-8.9-19.74-20.16s8.09-20.06,19.35-20.06,18.06,8.83,18.06,20.06a21.14,21.14,0,0,1-.33,3.89h-26Zm-.09-7.54h16.18c-.87-3.89-3.32-6.64-7.86-6.64s-7.33,2.75-8.33,6.64Z\"\\n        />\\n        <path\\n          class=\"cls-1\"\\n          d=\"M286.07,330v57.13H275.29V356.57l-16.76,17.9h-.72l-16.63-17.9v30.59H230.44V330h.64l27.1,29.9L285.31,330Z\"\\n        />\\n        <path\\n          class=\"cls-1\"\\n          d=\"M292.93,336.76A6,6,0,0,1,305,336.6v.16a6,6,0,0,1-12.07,0Z\"\\n        />\\n        <rect class=\"cls-1\" x=\"293.58\" y=\"348.16\" width=\"10.77\" height=\"39\" />\\n        <path\\n          class=\"cls-1\"\\n          d=\"M330.55,330.52l-20.72,56.64h12.23l19.49-56.64Z\"\\n        />\\n        <path class=\"cls-1\" d=\"M344.33,337.93l18,49.2H350.18l-11.33-33.32Z\" />\\n        <path class=\"cls-1\" d=\"M21.85,330.52,0,387.16H3l21.92-56.64\" />\\n        <path class=\"cls-1\" d=\"M24.9,338.45l18.84,48.71h3l-20.3-52.69Z\" />\\n      </g>\\n    </svg>\\n  </div>\\n\\n  <div id=\"about\" class=\"p-about\">\\n    <img class=\"bg_1\" src=\"/static/akademia_web/svg/asset01.svg\" />\\n    <img class=\"bg_2\" src=\"/static/akademia_web/svg/asset02.svg\" />\\n    <div class=\"p-about__title section-title\">\\n      <img src=\"/static/akademia_web/svg/about.svg\" />\\n    </div>\\n    <div class=\"content\">\\n      <p class=\"content__txt\">\\n        ビジネスは大学生の必修科目である\\n      </p>\\n      <br />\\n      <p class=\"content__txt\">\\n        京都大学で活動している学生団体AkaDeMiA（アカデミア）です。\\n      </p>\\n      <p class=\"content__txt\">\\n        『勉強×ビジネス』を理念に、勉強会·講演会·アプリ開発·サービス開発などを行っています。\\n      </p>\\n      <p class=\"content__txt\">\\n        AkaDeMiA代表、京都大学工学部情報学科2回生の古渡健太です。大学入学以降、ビジネスというキーワードを軸に様々な活動に関わってきましたが、まだまだ日々勉強中です。ですので、AkaDeMiAはトップダウンで運営するような組織ではなく、むしろ自主ゼミのような、メンバーみんなで互いを高め合っていけるような場にしていきたいと思っています。ぜひお気軽にご連絡ください。\\n      </p>\\n    </div>\\n    <div class=\"profile\">\\n      <img\\n        class=\"profile__title\"\\n        src=\"/static/akademia_web/svg/profile_90.svg\"\\n      />\\n      <picture class=\"profile__img\">\\n        <source\\n          srcset=\"/static/akademia_web/img/kowatari_mono.webp\"\\n          type=\"image/webp\"\\n        />\\n        <img src=\"/static/akademia_web/img/kowatari_mono.png\" />\\n      </picture>\\n      <div class=\"profile__name-sp\">古渡健太</div>\\n      <div class=\"content\">\\n        <div class=\"content__txt\">\\n          <p>2019年4月\\u3000京都大学工学部情報学科\\u3000入学</p>\\n          <p>\\n            入学後、国際系のサークルに入った後に、AkaDeMiAにジョイン。高いビジネスマインドと勤勉さで先輩らを驚愕させ、現在の代表をつとめる。哲学的ロマンチスト。メインの開発言語はPythonとWeb言語。年齢より大人に見られることをいい事と思いつつも少しだけ気にしてるらしい。\\n          </p>\\n        </div>\\n        <span class=\"content__name-pc\">古渡健太</span>\\n      </div>\\n    </div>\\n  </div>\\n\\n  <div id=\"history\" class=\"p-history\">\\n    <img class=\"bg_3\" src=\"/static/akademia_web/svg/asset03.svg\" />\\n    <img class=\"bg_4\" src=\"/static/akademia_web/svg/asset04.svg\" />\\n    <div class=\"p-history__title section-title\">\\n      <img src=\"/static/akademia_web/svg/history.svg\" />\\n    </div>\\n\\n    <div class=\"history\">\\n      <h2 class=\"history__year\">2018年</h2>\\n      <h3 class=\"history__month\">5月</h3>\\n      <ul class=\"history-list\">\\n        <li class=\"history-list__item\">自主ゼミとして学生団体AkaDeMiA発足</li>\\n        <li class=\"history-list__item\">Pythonの勉強会</li>\\n        <li class=\"history-list__item\">ビジネス研究</li>\\n        <li class=\"history-list__item\">アイデアソン</li>\\n      </ul>\\n      <h3 class=\"history__month\">7月</h3>\\n      <ul class=\"history-list\">\\n        <li class=\"history-list__item\">RPA制作プロジェクト開始</li>\\n        <li class=\"history-list__item\">VBA·GAS勉強会</li>\\n      </ul>\\n      <h3 class=\"history__month\">8月</h3>\\n      <ul class=\"history-list\">\\n        <li class=\"history-list__item\">野球部よりデータ分析ソフトの依頼</li>\\n        <li class=\"history-list__item\">データ分析ソフトの制作</li>\\n      </ul>\\n      <h3 class=\"history__month\">10月</h3>\\n      <ul class=\"history-list\">\\n        <li class=\"history-list__item\">野球部のデータ分析ソフトを納品</li>\\n      </ul>\\n      <h3 class=\"history__month\">11月</h3>\\n      <ul class=\"history-list\">\\n        <li class=\"history-list__item\">Web事業開始</li>\\n        <li class=\"history-list__item\">DjangoなどWeb関連の勉強会</li>\\n      </ul>\\n\\n      <h2 class=\"history__year\">2019年</h2>\\n      <h3 class=\"history__month\">2月</h3>\\n      <ul class=\"history-list\">\\n        <li class=\"history-list__item\">一般社団法人IMA-Iから依頼</li>\\n        <li class=\"history-list__item\">IMA-IのWebサイトの制作</li>\\n        <li class=\"history-list__item\">その他2サイトの制作</li>\\n        <li class=\"history-list__item\">データ分析などの勉強会</li>\\n      </ul>\\n      <h3 class=\"history__month\">6月</h3>\\n      <ul class=\"history-list\">\\n        <li class=\"p-history-list__item\">IMA-IのWebサイトの納品</li>\\n      </ul>\\n      <h3 class=\"history__month\">8月</h3>\\n      <ul class=\"history-list\">\\n        <li class=\"history-list__item\">サークル内企業、株式会社DeMiA設立</li>\\n        <li class=\"history-list__item\">Webの自主練習</li>\\n        <li class=\"history-list__item\">スマホアプリの勉強会</li>\\n        <li class=\"history-list__item\">JavaScriptの勉強会</li>\\n      </ul>\\n    </div>\\n  </div>\\n\\n  <div id=\"philosophy\" class=\"p-philosophy\">\\n    <img class=\"bg_8\" src=\"/static/akademia_web/svg/asset08.svg\" />\\n    <img class=\"bg_5\" src=\"/static/akademia_web/svg/asset05.svg\" />\\n    <div class=\"p-philosophy__title section-title\">\\n      <img src=\"/static/akademia_web/svg/philosophy.svg\" />\\n    </div>\\n    <div class=\"content\">\\n      <img\\n        class=\"content__title-pc\"\\n        src=\"/static/akademia_web/svg/study-business.svg\"\\n      />\\n      <img\\n        class=\"content__title-sp\"\\n        src=\"/static/akademia_web/svg/study-business_sp.svg\"\\n      />\\n      <div class=\"content__txt\">\\n        <p>\\n          2019年は、これからの時代の働き方を考えさせられる大きな変化が相次いだ年でした。5月には、経団連の中西会長やトヨタ自動車の豊田社長から、「終身雇用を守っていくのは難しい」旨の発言がありました。大学を卒業して就職し、定年まで働くのが当たり前だという大きなパラダイムが崩壊しつつあり、学部時代に起業する人も増えつつあります。\\n        </p>\\n        <!-- prettier-ignore -->\\n        <p>\\n          起業という文脈においては、3月には四条烏丸の京都経済センターに、起業支援の場を提供するKOIN（Kyoto Open Innovation Network）がオープンし、11月には京大のすぐそばに、シード期のスタートアップへの投資を行っているTHE\\n          SEEDの京都オフィスであるSEEDKYOTOがオープンしました。\\n        </p>\\n        <p>\\n          こうした変化の流れの中、我々学生団体AkaDeMiAは、『勉強×ビジネス』という理念のもと、ビジネスにつながる知識を学び、実践できる場を提供していきます。学部での授業では学ぶことのできない重要な知識を勉強会や講演会でインプットし、アプリやサービスの開発を通してその知識のアウトプットを行うことで、これからの時代を自分の力で生き抜く力を身につけることができると強く信じています。ぜひ我々と一緒に時代の変化を捉えていきましょう。\\n        </p>\\n      </div>\\n    </div>\\n  </div>\\n\\n  <div id=\"event\" class=\"p-event\">\\n    <img class=\"bg_7\" src=\"/static/akademia_web/svg/asset07.svg\" />\\n    <img class=\"bg_6\" src=\"/static/akademia_web/svg/asset06.svg\" />\\n    <div class=\"p-event__title section-title\">\\n      <img src=\"/static/akademia_web/svg/event.svg\" />\\n    </div>\\n    <table class=\"p-table\">\\n      <tbody>\\n        \\n        <tr>\\n          <td class=\"img\">\\n            <a href=\"/event/post/1\">\\n              <img src=\"/media/event/images_7.jpeg\" />\\n            </a>\\n          </td>\\n          <th>\\n            <a href=\"/event/post/1\">\\n              <span class=\"title\">2020年4月19日\\u3000デザイナー向けイベントを開催します</span><br />\\n              <span class=\"published\">2020.02.16</span\\n              ><br />\\n              \\n              <span class=\"category\">Tech</span>\\n              \\n              <span class=\"category\">Study</span>\\n              \\n            </a>\\n          </th>\\n          <td class=\"body\">\\n            <a href=\"/event/post/1\">\\n              <div>デザイニングの勉強をしたくても、なかなか体系的な学習を個人で行うのは難しいですよね。<br>\\r\\nそこで、学生団体AkaDeMiAでは、半日でデザイン手法の大枠を学べるようなイベントを開催します。<br>\\r\\n場所は大学付近のオフィスで、少し長いですが、作った名刺を後日お渡しします！大学生でも、自分のことを紹介する名刺が…</div>\\n            </a>\\n          </td>\\n        </tr>\\n        \\n        <tr>\\n          <td class=\"img\">\\n            <a href=\"/event/post/2\">\\n              <img src=\"/media/event/53201c68fefb072eeca2b6f014dd6811_t.jpeg\" />\\n            </a>\\n          </td>\\n          <th>\\n            <a href=\"/event/post/2\">\\n              <span class=\"title\">2020年4月25日\\u3000プログラミングイベントを開催します</span><br />\\n              <span class=\"published\">2020.02.16</span\\n              ><br />\\n              \\n              <span class=\"category\">Tech</span>\\n              \\n              <span class=\"category\">Study</span>\\n              \\n            </a>\\n          </th>\\n          <td class=\"body\">\\n            <a href=\"/event/post/2\">\\n              <div>独学でプログラミングの勉強をするのはなにかと問題が多い、という京大生のあなた！<br>\\r\\n様々な数学の問題をPythonで解いてみませんか？環境構築から丁寧にご説明します！きっと新たな世界を見つけることができると思います。現状、想定しているのは円周率計算・ニュートン法の実現を考えています！数学好き・プログラミング興味…</div>\\n            </a>\\n          </td>\\n        </tr>\\n        \\n      </tbody>\\n    </table>\\n    <div class=\"view-more\">\\n      <a href=\"/event/\">\\n        <img src=\"/static/akademia_web/svg/view-more.svg\" />\\n      </a>\\n    </div>\\n  </div>\\n\\n  <div id=\"blog\" class=\"p-blog\">\\n    <img class=\"bg_9\" src=\"/static/akademia_web/svg/asset09.svg\" />\\n    <div class=\"p-blog__title section-title\">\\n      <img src=\"/static/akademia_web/svg/blog.svg\" />\\n    </div>\\n    <table class=\"p-table\">\\n      <tbody>\\n        \\n        <tr>\\n          <td class=\"img\">\\n            <a href=\"/blog/post/1\">\\n              <img src=\"/media/blog/IMG_20200215_225613.jpg\" />\\n            </a>\\n          </td>\\n          <th>\\n            <a href=\"/blog/post/1\">\\n              <span class=\"title\">学生団体AkaDeMiA\\u3000Webサイトを公開しました。</span><br />\\n              <span class=\"published\">2020.02.16</span\\n              ><br />\\n              \\n              <span class=\"category\">News</span>\\n              \\n              <span class=\"category\">Tech</span>\\n              \\n            </a>\\n          </th>\\n          <td class=\"body\">\\n            <a href=\"/blog/post/1\">\\n              <div>本Webサイトは、<strong>PythonのWebフレームワークであるdjango</strong>を用いて、<strong>AWS</strong>から配信されています。\\r\\nデザインでは<strong>フラットデザイン</strong>を採用し、モノクロ調のテイストで硬さを主張するようにしました。\\r\\n開発はデザ…</div>\\n            </a>\\n          </td>\\n        </tr>\\n        \\n        <tr>\\n          <td class=\"img\">\\n            <a href=\"/blog/post/2\">\\n              <img src=\"/media/blog/IMG_20200215_225613_QbRL0aP.jpg\" />\\n            </a>\\n          </td>\\n          <th>\\n            <a href=\"/blog/post/2\">\\n              <span class=\"title\">新歓イベントの企画について</span><br />\\n              <span class=\"published\">2020.02.16</span\\n              ><br />\\n              \\n              <span class=\"category\">News</span>\\n              \\n              <span class=\"category\">Report</span>\\n              \\n              <span class=\"category\">Others</span>\\n              \\n            </a>\\n          </th>\\n          <td class=\"body\">\\n            <a href=\"/blog/post/2\">\\n              <div>新歓イベントの企画を担当している、<strong>中の人</strong>です。<br>\\r\\n学生団体AkaDeMiAは、多くある他のサークルよりは、<strong>お堅い活動を行っている？</strong>と個人的には思うので、新歓の企画が結構難しいです。例えば安易に<strong>バーベキュー</strong>とか…</div>\\n            </a>\\n          </td>\\n        </tr>\\n        \\n      </tbody>\\n    </table>\\n    <div class=\"view-more\">\\n      <a href=\"/blog/\">\\n        <img src=\"/static/akademia_web/svg/view-more.svg\" />\\n      </a>\\n    </div>\\n  </div>\\n\\n  <div id=\"members\" class=\"p-members\">\\n    <img class=\"bg_10\" src=\"/static/akademia_web/svg/asset10.svg\" />\\n    <div class=\"p-members__title-sp section-title\">\\n      <img src=\"/static/akademia_web/svg/members.svg\" />\\n    </div>\\n    <div class=\"cards-wrapper\">\\n      \\n      <div class=\"card\">\\n        <img\\n          src=\"/media/members/IMG_20200215_190256.jpg\"\\n          alt=\"Luc Khai Hai\"\\n          class=\"card__img\"\\n          id=\"member_btn_0\"\\n        />\\n        <div class=\"card__name\">Luc Khai Hai</div>\\n        <div class=\"detail\" id=\"member_wrapper_0\">\\n          <img\\n            src=\"/static/akademia_web/svg/delete.svg\"\\n            class=\"delete_mark\"\\n            id=\"delete_0\"\\n          />\\n          <img\\n            src=\"/media/members/IMG_20200215_190256.jpg\"\\n            alt=\"Luc Khai Hai\"\\n            class=\"detail__img\"\\n          />\\n          <div class=\"content\">\\n            <div class=\"content__name\">Luc Khai Hai</div>\\n            <div class=\"content__belongs\">京都大学電気電子工学科 3回生</div>\\n            <div class=\"content__txt\">こんにちは。ルックといいます。\\r\\nAkaDeMiAでは、主に講師として、ServerサイドからC、Kotlin及びPythonなどのコーディングを学んでいます。ビジネスサイドにも興味があるので、これからもっと知見を深めていきたいと思っています。\\r\\n好きな食べ物はさやえんどうスナックです。\\r\\n皆さん、よろしくお願いします。</div>\\n          </div>\\n        </div>\\n      </div>\\n      \\n      <div class=\"card\">\\n        <img\\n          src=\"/media/members/IMG_20200215_212111.jpg\"\\n          alt=\"井ノ本 洋斗\"\\n          class=\"card__img\"\\n          id=\"member_btn_1\"\\n        />\\n        <div class=\"card__name\">井ノ本 洋斗</div>\\n        <div class=\"detail\" id=\"member_wrapper_1\">\\n          <img\\n            src=\"/static/akademia_web/svg/delete.svg\"\\n            class=\"delete_mark\"\\n            id=\"delete_1\"\\n          />\\n          <img\\n            src=\"/media/members/IMG_20200215_212111.jpg\"\\n            alt=\"井ノ本 洋斗\"\\n            class=\"detail__img\"\\n          />\\n          <div class=\"content\">\\n            <div class=\"content__name\">井ノ本 洋斗</div>\\n            <div class=\"content__belongs\">京都大学電気電子工学科 3回生</div>\\n            <div class=\"content__txt\">開発フェーズに於いて、持続可能性というのは重要で、システムが安定した後、要件の追加があった際に、コーディングしたエンジニアがいない場合のことまで考えたルール作成・コーディングをせねば、システムエンジニアリングとは言えないと思っています。よろしくお願いします。</div>\\n          </div>\\n        </div>\\n      </div>\\n      \\n      <div class=\"card\">\\n        <img\\n          src=\"/media/members/IMG_20200215_212315.jpg\"\\n          alt=\"林 一成\"\\n          class=\"card__img\"\\n          id=\"member_btn_2\"\\n        />\\n        <div class=\"card__name\">林 一成</div>\\n        <div class=\"detail\" id=\"member_wrapper_2\">\\n          <img\\n            src=\"/static/akademia_web/svg/delete.svg\"\\n            class=\"delete_mark\"\\n            id=\"delete_2\"\\n          />\\n          <img\\n            src=\"/media/members/IMG_20200215_212315.jpg\"\\n            alt=\"林 一成\"\\n            class=\"detail__img\"\\n          />\\n          <div class=\"content\">\\n            <div class=\"content__name\">林 一成</div>\\n            <div class=\"content__belongs\">京都大学経済学部 2回生</div>\\n            <div class=\"content__txt\">フロントエンドエンジニアリングに慣れてきた林と申します。UIに関して、ユーザーの導線を意識するのは当たり前で、取集したデータをいかにUXとして分析・フィードバックするかという時代に達している現在、幅広い分野での知見を持つのは非常に重要です。</div>\\n          </div>\\n        </div>\\n      </div>\\n      \\n      <div class=\"card\">\\n        <img\\n          src=\"/media/members/1270.jpg\"\\n          alt=\"土佐 祐介\"\\n          class=\"card__img\"\\n          id=\"member_btn_3\"\\n        />\\n        <div class=\"card__name\">土佐 祐介</div>\\n        <div class=\"detail\" id=\"member_wrapper_3\">\\n          <img\\n            src=\"/static/akademia_web/svg/delete.svg\"\\n            class=\"delete_mark\"\\n            id=\"delete_3\"\\n          />\\n          <img\\n            src=\"/media/members/1270.jpg\"\\n            alt=\"土佐 祐介\"\\n            class=\"detail__img\"\\n          />\\n          <div class=\"content\">\\n            <div class=\"content__name\">土佐 祐介</div>\\n            <div class=\"content__belongs\">京都大学電気電子工学科 3回生</div>\\n            <div class=\"content__txt\">機械学習とデータ分析に興味があります。既存のデータセットを既存のアルゴリズムで実装するだけではAIエンジニアとは言えません。まずは原理を数理的な観点から認知し、イメージングするところからだと思い、日々研鑽しています。よろしくお願いします。</div>\\n          </div>\\n        </div>\\n      </div>\\n      \\n      <div class=\"card\">\\n        <img\\n          src=\"/media/members/IMG_20200215_213532.jpg\"\\n          alt=\"Saxena Prakhar\"\\n          class=\"card__img\"\\n          id=\"member_btn_4\"\\n        />\\n        <div class=\"card__name\">Saxena Prakhar</div>\\n        <div class=\"detail\" id=\"member_wrapper_4\">\\n          <img\\n            src=\"/static/akademia_web/svg/delete.svg\"\\n            class=\"delete_mark\"\\n            id=\"delete_4\"\\n          />\\n          <img\\n            src=\"/media/members/IMG_20200215_213532.jpg\"\\n            alt=\"Saxena Prakhar\"\\n            class=\"detail__img\"\\n          />\\n          <div class=\"content\">\\n            <div class=\"content__name\">Saxena Prakhar</div>\\n            <div class=\"content__belongs\">京都大学電気電子工学科 3回生</div>\\n            <div class=\"content__txt\">日本に来て四年目のインド人エンジニアです。蓋然性に賭けた包括的な実践よりも、直近のタスクを恣意的に優先することが肝腎である場合も惣別、多かったりしますよね。</div>\\n          </div>\\n        </div>\\n      </div>\\n      \\n      <div class=\"card\">\\n        <img\\n          src=\"/media/members/IMG_20200215_213653.jpg\"\\n          alt=\"梶塚 匠\"\\n          class=\"card__img\"\\n          id=\"member_btn_5\"\\n        />\\n        <div class=\"card__name\">梶塚 匠</div>\\n        <div class=\"detail\" id=\"member_wrapper_5\">\\n          <img\\n            src=\"/static/akademia_web/svg/delete.svg\"\\n            class=\"delete_mark\"\\n            id=\"delete_5\"\\n          />\\n          <img\\n            src=\"/media/members/IMG_20200215_213653.jpg\"\\n            alt=\"梶塚 匠\"\\n            class=\"detail__img\"\\n          />\\n          <div class=\"content\">\\n            <div class=\"content__name\">梶塚 匠</div>\\n            <div class=\"content__belongs\">京都大学経済学部 2回生</div>\\n            <div class=\"content__txt\">集団でのコーディングは、個人でのコーディングと比較して、開発ルールを明確にし、都度確認・更新し、最終的なイメージを結合せねばならないという難点がありますよね。早いうちに体験したいなら入ってみるといいと思います。</div>\\n          </div>\\n        </div>\\n      </div>\\n      \\n    </div>\\n    <div class=\"p-members__title-pc\">\\n      <img src=\"/static/akademia_web/svg/members_270.svg\" />\\n    </div>\\n  </div>\\n\\n  <div id=\"products\" class=\"p-products\">\\n    <img class=\"bg_11\" src=\"/static/akademia_web/svg/asset11.svg\" />\\n    <img class=\"bg_12\" src=\"/static/akademia_web/svg/asset12.svg\" />\\n    <img class=\"bg_13\" src=\"/static/akademia_web/svg/asset13.svg\" />\\n    <div class=\"p-products__title section-title\">\\n      <img src=\"/static/akademia_web/svg/products.svg\" />\\n    </div>\\n    <div class=\"product\">\\n      <picture class=\"product__img\">\\n        <source\\n          srcset=\"/static/akademia_web/img/product-baseball-club.webp\"\\n          type=\"image/webp\"\\n        />\\n        <img\\n          src=\"/static/akademia_web/img/product-baseball-club.png\"\\n          alt=\"野球部のデータ分析ツール\"\\n        />\\n      </picture>\\n      <div class=\"product__caption\">\\n        京都大学硬式野球部様 試合情報分析アプリ\\n      </div>\\n      <div class=\"product__description\">\\n        <p>\\n          京都大学硬式野球部が試合の分析に使う分析ツールを作成いたしました。\\n        </p>\\n        <p>\\n          データを入力するだけで自動で分析を行い、必要な情報を導き出すことで以降の練習や試合に役立てることができるように工夫いたしました。\\n        </p>\\n      </div>\\n    </div>\\n  </div>\\n\\n  <div id=\"contact\" class=\"p-contact\">\\n    <img class=\"bg_14\" src=\"/static/akademia_web/svg/asset14.svg\" />\\n    <div class=\"p-contact__title section-title\">\\n      <img src=\"/static/akademia_web/svg/contact.svg\" />\\n    </div>\\n    <form action=\"\" method=\"post\" class=\"p-contact__form\" name=\"contact\">\\n      <input type=\"hidden\" name=\"csrfmiddlewaretoken\" value=\"Xw2L3fAGzhTP5DMcyJeHJawxxbQkaIbRc0BkCqvs4FKh8jjvc8LwTuFC8VbCWQyQ\">\\n      <div class=\"p-contact__form-field\">\\n        <div class=\"p-contact__form-label\">氏名（必須）</div>\\n        <input\\n          class=\"p-contact__form-input\"\\n          type=\"text\"\\n          name=\"name\"\\n          id=\"contact-name\"\\n          placeholder=\"赤出 美亜\"\\n          required\\n        />\\n      </div>\\n      <div class=\"p-contact__form-field\">\\n        <div class=\"p-contact__form-label\">所属（必須）</div>\\n        <input\\n          class=\"p-contact__form-input\"\\n          type=\"text\"\\n          name=\"belonging\"\\n          id=\"contact-belonging\"\\n          placeholder=\"AkaDeMiA\"\\n          required\\n        />\\n      </div>\\n      <div class=\"p-contact__form-field\">\\n        <div class=\"p-contact__form-label\">メールアドレス（必須）</div>\\n        <input\\n          class=\"p-contact__form-input\"\\n          type=\"email\"\\n          name=\"email\"\\n          id=\"contact-email\"\\n          placeholder=\"akademia@example.com\"\\n          required\\n        />\\n      </div>\\n      <div class=\"p-contact__form-field\">\\n        <div class=\"p-contact__form-label\">電話番号</div>\\n        <input\\n          class=\"p-contact__form-input\"\\n          type=\"tel\"\\n          name=\"tel\"\\n          id=\"contact-tel\"\\n          placeholder=\"000-0000-0000\"\\n          pattern=\"^[0-9]+(-[0-9]+)*\"\\n        />\\n      </div>\\n      <div class=\"p-contact__form-field\">\\n        <div class=\"p-contact__form-label\">住所</div>\\n        <input\\n          class=\"p-contact__form-input\"\\n          type=\"text\"\\n          name=\"address\"\\n          id=\"contact-address\"\\n          placeholder=\"京都府京都市左京区出美亜町○-○\"\\n        />\\n      </div>\\n      <div class=\"p-contact__form-field\">\\n        <div class=\"p-contact__form-label\">お問い合わせ内容（必須）</div>\\n        <textarea\\n          class=\"p-contact__form-input\"\\n          type=\"text\"\\n          name=\"content\"\\n          id=\"contact-content\"\\n          placeholder=\"お問い合わせ内容をご記入ください。\"\\n          rows=\"7\"\\n          required\\n        ></textarea>\\n      </div>\\n      <div class=\"p-contact__privacy-policy\">\\n        <a href=\"/privacy_policy/\" target=\"_blank\">\\n          <img\\n            src=\"/static/akademia_web/svg/privacy-policy.svg\"\\n            alt=\"Privacy Policy\"\\n          />\\n        </a>\\n      </div>\\n      <div class=\"p-contact__send\">\\n        <button type=\"submit\" class=\"p-contact__send\">\\n          <picture>\\n            <img src=\"/static/akademia_web/svg/send.svg\" alt=\"Send\" />\\n          </picture>\\n        </button>\\n      </div>\\n    </form>\\n  </div>\\n</div>\\n\\n    <footer class=\"footer\">\\n      <!-- <div class=\"sns-wrapper\">\\n        <div class=\"sns-wrapper__icon\">\\n          <a href=\"#\">\\n            <img src=\"/static/akademia_web/svg/facebook.svg\" />\\n          </a>\\n        </div>\\n        <div class=\"sns-wrapper__icon\">\\n          <a href=\"#\">\\n            <img src=\"/static/akademia_web/svg/twitter.svg\" />\\n          </a>\\n        </div>\\n      </div> -->\\n      <div class=\"copyright\">© 2020 AkaDeMiA</div>\\n    </footer>\\n    \\n<script\\n  src=\"https://cdnjs.cloudflare.com/ajax/libs/animejs/3.1.0/anime.min.js\"\\n  integrity=\"sha256-98Q574VkbV+PkxXCKSgL6jVq9mrVbS7uCdA+vt0sLS8=\"\\n  crossorigin=\"anonymous\"\\n></script>\\n<script\\n  src=\"https://cdnjs.cloudflare.com/ajax/libs/vivus/0.4.4/vivus.min.js\"\\n  integrity=\"sha256-u/d/ZywUFyU/VmJ/TjCml5Hvl0GbgEvr3BvOvBGp5P8=\"\\n  crossorigin=\"anonymous\"\\n></script>\\n<script src=\"/static/CACHE/js/index.930839cfb1c0.js\"></script> \\n  </body>\\n</html>\\n'"
      ]
     },
     "execution_count": 5,
     "metadata": {},
     "output_type": "execute_result"
    }
   ],
   "source": [
    "r.text"
   ]
  },
  {
   "cell_type": "code",
   "execution_count": 6,
   "metadata": {},
   "outputs": [
    {
     "data": {
      "text/plain": [
       "<RequestsCookieJar[Cookie(version=0, name='csrftoken', value='ywGMD7OJnvmV48Vzoej1Hs9UwPCWgB5xN0flciJvSTdn7OsS2DQQRMiZ7zXe2Jsw', port=None, port_specified=False, domain='akademia.tech', domain_specified=False, domain_initial_dot=False, path='/', path_specified=True, secure=False, expires=1613952171, discard=False, comment=None, comment_url=None, rest={'SameSite': 'Lax'}, rfc2109=False)]>"
      ]
     },
     "execution_count": 6,
     "metadata": {},
     "output_type": "execute_result"
    }
   ],
   "source": [
    "r.cookies"
   ]
  },
  {
   "cell_type": "code",
   "execution_count": 7,
   "metadata": {},
   "outputs": [
    {
     "data": {
      "text/plain": [
       "'ywGMD7OJnvmV48Vzoej1Hs9UwPCWgB5xN0flciJvSTdn7OsS2DQQRMiZ7zXe2Jsw'"
      ]
     },
     "execution_count": 7,
     "metadata": {},
     "output_type": "execute_result"
    }
   ],
   "source": [
    "r.cookies['csrftoken']"
   ]
  },
  {
   "cell_type": "code",
   "execution_count": 8,
   "metadata": {},
   "outputs": [
    {
     "data": {
      "text/plain": [
       "[]"
      ]
     },
     "execution_count": 8,
     "metadata": {},
     "output_type": "execute_result"
    }
   ],
   "source": [
    "r.history"
   ]
  },
  {
   "cell_type": "code",
   "execution_count": 9,
   "metadata": {},
   "outputs": [
    {
     "data": {
      "text/plain": [
       "[<Response [301]>]"
      ]
     },
     "execution_count": 9,
     "metadata": {},
     "output_type": "execute_result"
    }
   ],
   "source": [
    "r_1 = requests.get('http://akademia.tech')\n",
    "r_1.history"
   ]
  },
  {
   "cell_type": "code",
   "execution_count": 10,
   "metadata": {},
   "outputs": [],
   "source": [
    "r_2 = requests.get('https://www.google.com/search', params={'q':'DeMiA'})"
   ]
  },
  {
   "cell_type": "code",
   "execution_count": 11,
   "metadata": {},
   "outputs": [
    {
     "data": {
      "text/plain": [
       "'https://www.google.com/search?q=DeMiA'"
      ]
     },
     "execution_count": 11,
     "metadata": {},
     "output_type": "execute_result"
    }
   ],
   "source": [
    "r_2.url"
   ]
  },
  {
   "cell_type": "code",
   "execution_count": 12,
   "metadata": {},
   "outputs": [
    {
     "data": {
      "text/plain": [
       "'<!doctype html><html lang=\"ja\"><head><meta charset=\"UTF-8\"><meta content=\"/images/branding/googleg/1x/googleg_standard_color_128dp.png\" itemprop=\"image\"><title>DeMiA - Google &#26908;&#32034;</title><script nonce=\"2XxTLueK0bkuq4yac6o6Sw==\">(function(){\\ndocument.documentElement.addEventListener(\"submit\",function(b){var a;if(a=b.target){var c=a.getAttribute(\"data-submitfalse\");a=\"1\"==c||\"q\"==c&&!a.elements.q.value?!0:!1}else a=!1;a&&(b.preventDefault(),b.stopPropagation())},!0);document.documentElement.addEventListener(\"click\",function(b){var a;a:{for(a=b.target;a&&a!=document.documentElement;a=a.parentElement)if(\"A\"==a.tagName){a=\"1\"==a.getAttribute(\"data-nohref\");break a}a=!1}a&&b.preventDefault()},!0);}).call(this);(function(){\\nvar a=window.performance;window.start=(new Date).getTime();a:{var b=window;if(a){var c=a.timing;if(c){var d=c.navigationStart,f=c.responseStart;if(f>d&&f<=window.start){window.start=f;b.wsrt=f-d;break a}}a.now&&(b.wsrt=Math.floor(a.now()))}}window.google=window.google||{};var h=function(g){g&&g.target.setAttribute(\"data-iml\",(new Date).getTime())};document.documentElement.addEventListener(\"load\",h,!0);google.rglh=function(){document.documentElement.removeEventListener(\"load\",h,!0)};}).call(this);(function(){\\nvar c=[],e=0;window.ping=function(b){-1==b.indexOf(\"&zx\")&&(b+=\"&zx=\"+(new Date).getTime());var a=new Image,d=e++;c[d]=a;a.onerror=a.onload=a.onabort=function(){delete c[d]};a.src=b};}).call(this);</script><style>body{margin:0 auto;max-width:736px;padding:0 8px}a{color:#1967D2;text-decoration:none;tap-highlight-color:rgba(0,0,0,.1)}a:visited{color:#4B11A8}a:hover{text-decoration:underline}img{border:0}html{font-family:Roboto,HelveticaNeue,Arial,sans-serif;font-size:14px;line-height:20px;text-size-adjust:100%;color:#3C4043;word-wrap:break-word;background-color:#fff}.bRsWnc{background-color:#fff;border-top:1px solid #e0e0e0;height:39px;overflow:hidden}.N6RWV{height:51px;overflow-scrolling:touch;overflow-x:auto;overflow-y:hidden}.Uv67qb{box-pack:justify;font-size:12px;line-height:37px;justify-content:space-between;justify-content:space-between}.Uv67qb a,.Uv67qb span{color:#757575;display:block;flex:none;padding:0 16px;text-align:center;text-transform:uppercase;}span.OXXup{border-bottom:2px solid #4285f4;color:#4285f4;font-weight:bold}a.eZt8xd:visited{color:#757575}.FElbsf{border-left:1px solid rgba(0,0,0,.12)}header article{overflow:visible}.Pg70bf{height:39px;display:box;display:flex;display:flex;width:100%}.H0PQec{position:relative;flex:1}.sbc{display:flex;width:100%}.Pg70bf input{margin:2px 4px 2px 8px;}.x{width:26px;color:#757575;font:27px/38px arial, sans-serif;line-height:40px;}#qdClwb{flex:0 0 auto;width:39px;height:39px;border-bottom:0;padding:0;border-top-right-radius:8px;background-color:#3b78e7;border:1px solid #3367d6;background-image:url(data:image/gif;base64,R0lGODdhJAAjAPIHAODr/nCk+MPZ/FmV96zK+/7+/5K5+kqL9iwAAAAAJAAjAEADani63P4wykmbKcQRXDscQAEMXmmeaLQVLCukzyC09AjfeK7v/MAajACLhPMVAgwjsUcEiZa8xgAYrVqv2Kx2iwsIAAABknfBBAKrTE4IcMyot8ur8datqIbQfJdnAfo2WE6BV05wXIiJigkAOw==);}.sc{font-size:;position:absolute;top:39px;left:0;right:0;box-shadow:0px 2px 5px rgba(0,0,0,.2);z-index:2;background-color:#fff}.sc>div{padding:10px 10px;padding-left:16px;padding-left:14px;border-top:1px solid #DFE1E5}.scs{background-color:#f5f5f5;}.noHIxc{display:block;font-size:16px;padding:0 0 0 8px;flex:1;height:35px;outline:none;border:none;width:100%;-webkit-tap-highlight-color:rgba(0,0,0,0);overflow:hidden;}.sbc input[type=text]{background:none}.sml .cOl4Id{display:none}.l{display:none}.sml header{background:none}.sml .l{display:block;padding:0 8px}.sml .l{letter-spacing:-1px;text-align:center;border-radius:2px 0 0 0;font:22px/36px Futura, Arial, sans-serif;font-smoothing:antialiased}.bz1lBb{background:#fff;border-radius:8px 8px 0 0;box-shadow:0 1px 6px rgba(32, 33, 36, 0.18);margin-top:10px}.KP7LCb{border-radius:0 0 8px 8px;box-shadow:0 2px 3px rgba(32, 33, 36, 0.18);margin-bottom:10px;overflow:hidden}.cOl4Id{letter-spacing:-1px;text-align:center;font:22pt Futura, Arial, sans-serif;padding:10px 0 5px 0;height:37px;font-smoothing:antialiased}.cOl4Id span{display:inline-block}.S591j{height:100%}.V6gwVd{color:#4285f4}.iWkuvd{color:#ea4335}.cDrQ7{color:#fbcc05}.ntlR9{color:#34a853}.tJ3Myc{-webkit-transform:rotate(-20deg);position:relative;left:-1px;display:inline-block}footer{text-align:center;margin-top:18px}footer a,footer a:visited,.smiUbb{color:#5f6368}.ksTU4c{margin:0 13px}#mCljob{margin-top:36px}#mCljob>div{margin:20px}</style></head><body jsmodel=\" TvHxbe\"><header id=\"hdr\"><script nonce=\"2XxTLueK0bkuq4yac6o6Sw==\">(function(){var c=500;(function(){window.screen&&window.screen.width<=c&&window.screen.height<=c&&document.getElementById(\"hdr\").classList.add(\"sml\");}).call(this);})();</script><div class=\"cOl4Id\"><a href=\"/?sa=X&amp;ved=0ahUKEwjQvdy98ejnAhXiGaYKHYbeBykQOwgC\"><span class=\"V6gwVd\">G</span><span class=\"iWkuvd\">o</span><span class=\"cDrQ7\">o</span><span class=\"V6gwVd\">g</span><span class=\"ntlR9\">l</span><span class=\"iWkuvd tJ3Myc\">e</span></a></div><div class=\"bz1lBb\"><form class=\"Pg70bf\" id=\"sf\"><a class=\"l\" href=\"/?output=search&amp;ie=UTF-8&amp;sa=X&amp;ved=0ahUKEwjQvdy98ejnAhXiGaYKHYbeBykQPAgE\"><span class=\"V6gwVd\">G</span><span class=\"iWkuvd\">o</span><span class=\"cDrQ7\">o</span><span class=\"V6gwVd\">g</span><span class=\"ntlR9\">l</span><span class=\"iWkuvd tJ3Myc\">e</span></a><input name=\"ie\" value=\"ISO-8859-1\" type=\"hidden\"><div class=\"H0PQec\"><div class=\"sbc esbc\"><input class=\"noHIxc\" value=\"DeMiA\" autocapitalize=\"none\" autocomplete=\"off\" name=\"q\" spellcheck=\"false\" type=\"text\"><input name=\"oq\" type=\"hidden\"><input name=\"aqs\" type=\"hidden\"><div class=\"x\">×</div><div class=\"sc\"></div></div></div><button id=\"qdClwb\" type=\"submit\"></button></form></div><noscript><meta content=\"0;url=/search?q=DeMiA&amp;ie=UTF-8&amp;gbv=1&amp;sei=rBJTXtC3OOKzmAWGvZ_IAg\" http-equiv=\"refresh\"><style>table,div,span,p{display:none}</style><div style=\"display:block\">&#25968;&#31186;&#12383;&#12387;&#12390;&#12418;&#12522;&#12480;&#12452;&#12524;&#12463;&#12488;&#12373;&#12428;&#12394;&#12356;&#22580;&#21512;&#12399;&#12289;<a href=\"/search?q=DeMiA&amp;ie=UTF-8&amp;gbv=1&amp;sei=rBJTXtC3OOKzmAWGvZ_IAg\">&#12371;&#12371;&#12434;&#12463;&#12522;&#12483;&#12463;</a>&#12375;&#12390;&#12367;&#12384;&#12373;&#12356;&#12290;</div></noscript></header><div id=\"main\"><div><div class=\"KP7LCb\"> <div class=\"bRsWnc\"> <div class=\"N6RWV\"> <div class=\"Pg70bf Uv67qb\"> <span class=\"OXXup\">&#12377;&#12409;&#12390;</span><a class=\"eZt8xd\" href=\"https://maps.google.com/maps?q=DeMiA&amp;um=1&amp;ie=UTF-8&amp;sa=X&amp;ved=0ahUKEwjQvdy98ejnAhXiGaYKHYbeBykQ_AUICCgB\">&#22320;&#22259;</a><a class=\"eZt8xd\" href=\"/search?q=DeMiA&amp;ie=UTF-8&amp;source=lnms&amp;tbm=isch&amp;sa=X&amp;ved=0ahUKEwjQvdy98ejnAhXiGaYKHYbeBykQ_AUICSgC\">&#30011;&#20687;</a><a class=\"eZt8xd\" href=\"/search?q=DeMiA&amp;ie=UTF-8&amp;source=lnms&amp;tbm=nws&amp;sa=X&amp;ved=0ahUKEwjQvdy98ejnAhXiGaYKHYbeBykQ_AUICigD\">&#12491;&#12517;&#12540;&#12473;</a>  <a href=\"/search?q=DeMiA&amp;ie=UTF-8&amp;source=lnms&amp;tbm=vid&amp;sa=X&amp;ved=0ahUKEwjQvdy98ejnAhXiGaYKHYbeBykQ_AUICygE\">&#21205;&#30011;</a>  <a href=\"/search?q=DeMiA&amp;ie=UTF-8&amp;source=lnms&amp;tbm=shop&amp;sa=X&amp;ved=0ahUKEwjQvdy98ejnAhXiGaYKHYbeBykQ_AUIDCgF\">&#12471;&#12519;&#12483;&#12500;&#12531;&#12464;</a>  <a href=\"/search?q=DeMiA&amp;ie=UTF-8&amp;source=lnms&amp;tbm=bks&amp;sa=X&amp;ved=0ahUKEwjQvdy98ejnAhXiGaYKHYbeBykQ_AUIDSgG\">&#26360;&#31821;</a>  <div class=\"FElbsf\"><a href=\"/advanced_search\" style=\"white-space:nowrap\" id=\"st-toggle\" role=\"button\">&#26908;&#32034;&#12484;&#12540;&#12523;</a></div> </div> </div> </div> </div><div class=\"Pg70bf wEsjbd ZINbbc xpd O9g5cc uUPGi\" style=\"display:none\" id=\"st-card\"><style>.wEsjbd{background-color:#fff;height:44px;white-space:nowrap}.coPU8c{height:60px;overflow-scrolling:touch;overflow-x:auto;overflow-y:hidden}.Xj2aue{height:44px;overflow:hidden}.RnNGze{margin:11px 16px}.wEsjbd div,.wEsjbd a,.wEsjbd li{outline-width:0;outline:none}</style><div class=\"Xj2aue\"><div class=\"coPU8c\"><div class=\"RnNGze\"><style>.PA9J5{display:inline-block}.RXaOfd{display:inline-block;height:22px;position:relative;padding-top:0;padding-bottom:0;padding-right:16px;padding-left:0;line-height:22px;cursor:pointer;text-transform:uppercase;font-size:12px;color:#757575}.sa1toc{display:none;position:absolute;background:#fff;border:1px solid #d6d6d6;box-shadow:0 2px 4px rgba(0,0,0,0.3);margin:0;white-space:nowrap;z-index:103;line-height:17px;padding-top:5px;padding-bottom:5px;padding-left:0px}.PA9J5:hover .sa1toc{display:block}.mGSy8d a:active,.RXaOfd:active{color:#4285f4}</style><div class=\"PA9J5\"><div class=\"RXaOfd\" role=\"button\" tabindex=\"0\"><style>.TWMOUc{display:inline-block;padding-right:14px;white-space:nowrap}.vQYuGf{font-weight:bold}.OmTIzf{border-color:#909090 transparent;border-style:solid;border-width:4px 4px 0 4px;width:0;height:0;margin-left:-10px;top:50%;margin-top:-2px;position:absolute}.RXaOfd:active .OmTIzf{border-color:#4285f4 transparent}</style><div class=\"TWMOUc\">&#12377;&#12409;&#12390;&#12398;&#35328;&#35486;</div><span class=\"OmTIzf\"></span></div><ul class=\"sa1toc ozatM\"><style>.ozatM{font-size:12px;text-transform:uppercase}.ozatM .yNFsl,.ozatM li{list-style-type:none;list-style-position:outside;list-style-image:none}.yNFsl.SkUj4c,.yNFsl a{color:rgba(0,0,0,0.54);text-decoration:none;padding:6px 44px 6px 14px;line-height:17px;display:block}.SkUj4c{background-image:url(//ssl.gstatic.com/ui/v1/menu/checkmark2.png);background-position:right center;background-repeat:no-repeat}.SkUj4c:active{background-color:#f5f5f5}</style><li class=\"yNFsl SkUj4c\">&#12377;&#12409;&#12390;&#12398;&#35328;&#35486;</li><li class=\"yNFsl\"><a href=\"/search?q=DeMiA&amp;ie=UTF-8&amp;source=lnt&amp;tbs=lr:lang_1ja&amp;lr=lang_ja&amp;sa=X&amp;ved=0ahUKEwjQvdy98ejnAhXiGaYKHYbeBykQpwUIDw\">&#26085;&#26412;&#35486;&#12398;&#12506;&#12540;&#12472;&#12434;&#26908;&#32034;</a></li></ul></div><div class=\"PA9J5\"><div class=\"RXaOfd\" role=\"button\" tabindex=\"0\"><div class=\"TWMOUc\">&#26399;&#38291;&#25351;&#23450;&#12394;&#12375;</div><span class=\"OmTIzf\"></span></div><ul class=\"sa1toc ozatM\"><li class=\"yNFsl SkUj4c\">&#26399;&#38291;&#25351;&#23450;&#12394;&#12375;</li><li class=\"yNFsl\"><a href=\"/search?q=DeMiA&amp;ie=UTF-8&amp;source=lnt&amp;tbs=qdr:h&amp;sa=X&amp;ved=0ahUKEwjQvdy98ejnAhXiGaYKHYbeBykQpwUIEQ\"> 1 &#26178;&#38291;&#20197;&#20869;</a></li><li class=\"yNFsl\"><a href=\"/search?q=DeMiA&amp;ie=UTF-8&amp;source=lnt&amp;tbs=qdr:d&amp;sa=X&amp;ved=0ahUKEwjQvdy98ejnAhXiGaYKHYbeBykQpwUIEg\"> 24 &#26178;&#38291;&#20197;&#20869;</a></li><li class=\"yNFsl\"><a href=\"/search?q=DeMiA&amp;ie=UTF-8&amp;source=lnt&amp;tbs=qdr:w&amp;sa=X&amp;ved=0ahUKEwjQvdy98ejnAhXiGaYKHYbeBykQpwUIEw\"> 1 &#36913;&#38291;&#20197;&#20869;</a></li><li class=\"yNFsl\"><a href=\"/search?q=DeMiA&amp;ie=UTF-8&amp;source=lnt&amp;tbs=qdr:m&amp;sa=X&amp;ved=0ahUKEwjQvdy98ejnAhXiGaYKHYbeBykQpwUIFA\"> 1 &#12363;&#26376;&#20197;&#20869;</a></li><li class=\"yNFsl\"><a href=\"/search?q=DeMiA&amp;ie=UTF-8&amp;source=lnt&amp;tbs=qdr:y&amp;sa=X&amp;ved=0ahUKEwjQvdy98ejnAhXiGaYKHYbeBykQpwUIFQ\"> 1 &#24180;&#20197;&#20869;</a></li></ul></div><div class=\"PA9J5\"><div class=\"RXaOfd\" role=\"button\" tabindex=\"0\"><div class=\"TWMOUc\">&#12377;&#12409;&#12390;&#12398;&#32080;&#26524;</div><span class=\"OmTIzf\"></span></div><ul class=\"sa1toc ozatM\"><li class=\"yNFsl SkUj4c\">&#12377;&#12409;&#12390;&#12398;&#32080;&#26524;</li><li class=\"yNFsl\"><a href=\"/search?q=DeMiA&amp;ie=UTF-8&amp;source=lnt&amp;tbs=li:1&amp;sa=X&amp;ved=0ahUKEwjQvdy98ejnAhXiGaYKHYbeBykQpwUIFw\">&#23436;&#20840;&#19968;&#33268;</a></li></ul></div></div></div></div><script nonce=\"2XxTLueK0bkuq4yac6o6Sw==\">(function(){\\nvar a=document.getElementById(\"st-toggle\"),b=document.getElementById(\"st-card\");a&&b&&a.addEventListener(\"click\",function(c){b.style.display=b.style.display?\"\":\"none\";c.preventDefault()},!1);}).call(this);</script></div></div><style>.ZINbbc{background-color:#fff;margin-bottom:10px;box-shadow:0 1px 6px rgba(32, 33, 36, 0.28);border-radius:8px}.uUPGi{font-size:14px;line-height:20px;}.O9g5cc>*:first-child{border-top-left-radius:8px;border-top-right-radius:8px}.O9g5cc>*:last-child{border-bottom-left-radius:8px;border-bottom-right-radius:8px}.O9g5cc>.qxDOhb>*:first-child{border-top-left-radius:8px;border-top-right-radius:8px}.O9g5cc>.qxDOhb>*:last-child{border-bottom-left-radius:8px;border-bottom-right-radius:8px}.rl7ilb{display:block;clear:both}.kCrYT{padding:12px 16px 12px}a.fdYsqf{color:#4B11A8}.BNeawe{white-space:pre-line;word-wrap:break-word}.vvjwJb{color:#1967D2;font-size:16px;line-height:20px}.vvjwJb a:visited{color:#4B11A8}.vvjwJb.HrGdeb{color:rgba(255,255,255,1)}.vvjwJb.HrGdeb a:visited{color:rgba(255,255,255,.7)}.UPmit{font-size:14px;line-height:20px}.UPmit.HrGdeb{color:rgba(255,255,255,.7)}.UPmit.AP7Wnd{color:rgba(0,102,33,1)}.x54gtf{height:1px;background-color:#dfe1e5;margin:0 16px}.Q0HXG{height:1px;background-color:#dfe1e5}.Ap5OSd{padding-bottom:12px}.s3v9rd{font-size:14px;line-height:20px}.s3v9rd.HrGdeb{color:rgba(255,255,255,1)}.s3v9rd.AP7Wnd{color:#202124}.mSx1Ee{padding-left:48px;margin:0}.v9i61e{padding-bottom:8px}.XLloXe{color:#1967D2;font-size:14px;line-height:20px}.XLloXe a:visited{color:#4B11A8}.XLloXe.HrGdeb{color:rgba(255,255,255,1)}.XLloXe.HrGdeb a:visited{color:rgba(255,255,255,.7)}.nGphre{float:right;padding-left:16px}.UykT9d{border-radius:8px;display:block}.nYT7Qb{clear:both}.R0jTRc{vertical-align:middle}.deIvCb{font-size:16px;line-height:20px;font-weight:400}.deIvCb.HrGdeb{color:rgba(255,255,255,1)}.deIvCb.AP7Wnd{color:#202124}.tAd8D{font-size:14px;line-height:20px}.tAd8D.HrGdeb{color:rgba(255,255,255,.7)}.tAd8D.AP7Wnd{color:#70757A}.r0bn4c.tr0dw{color:rgba(255,255,255,.7)}.r0bn4c.rQMQod{color:#70757A}.tP9Zud{display:inline-block;}.QzarWc{color:#3C4043}.oqSTJd{color:#757575}.Hk2yDb,.Hk2yDb span{background-repeat:repeat-x;background-size:14px,14px;height:14px;width:70px}.Hk2yDb{display:inline-block;font-size:0;line-height:0;position:relative;top:1px}.Hk2yDb span{display:block}.Hk2yDb.KsR1A{background-image:url(data:image/png;base64,iVBORw0KGgoAAAANSUhEUgAAACgAAAAoBAMAAAB+0KVeAAAAD1BMVEVMaXEAAAAAAAAAAAAAAACF6eB8AAAABXRSTlMAID8OM2w9R7oAAACdSURBVHgBvdGBCcIwEEbhq+kAaXEA+5oBYuoAmnb/mQT5gcMDCoB+AIEA9y7EfmrIFl1uFrXVol4sSFBjB3LsQCzNsMQOlNjhq5S26Qrwmjbdp6PjlKMq4SiXwNOAhrOadDeymoyAPP1zfEUGJJvTNdFOLxFzElLPQqNb0/8F+x39iDTYzR56ucws7pBePtnU/aKomrpbM5sM1f7pDdrTIIXMnb07AAAAAElFTkSuQmCC)}.Hk2yDb.KsR1A span{background-image:url(data:image/png;base64,iVBORw0KGgoAAAANSUhEUgAAACgAAAAoBAMAAAB+0KVeAAAAGFBMVEVMaXH0tAD0tAD0tAD0tAD0tAD0tAD0tAB7hoq7AAAACHRSTlMAP6Ib/oXVZJ3/vYgAAADHSURBVHgBnNE1A4JgGARgmtHW0dxtZ+OA0dbRdrX/v+RLmkc/9H3MH2HjEcgVIrA1iMCZEoF7NWwycA6hBKxDmAZ6IawA/aDx0FMLoGjgKIAdA3d0WM89SkfYOZaWl5SOdwSiGe0EMW4/jkIP5vdeU2t2k14sUGugKJ6GKGdfG0aoE/+l509I7y/4azfiL7/l4IDIU4rmHwv0zZUH94AaZ421f4DO1ofVCFmgbGwbQNwzahtrJ4sRoUQvva8JuRo9vcA8RyMAAIXWR1O6HNlyAAAAAElFTkSuQmCC)}.e1wPee{text-decoration:underline}.skVgpb{display:table;table-layout:fixed;width:100%}.VGHMXd{display:table-cell;vertical-align:middle;height:52px;text-align:center}.LpaDrb{margin:0 auto 8px;display:block}.vbShOe{padding-top:0}.EYOsld{display:inline-block;position:relative}.BFi9Zb{overflow:hidden;position:relative}.S7Jdze{align-items:center;display:flex;flex-direction:column;justify-content:space-around}.ji5jpf{text-align:center}.uEec3{font-size:12px;line-height:16px}.uEec3.HrGdeb{color:rgba(255,255,255,.7)}.uEec3.AP7Wnd{color:#70757A}.AVsepf{padding-bottom:8px}.AVsepf.u2x1Od{padding-bottom:0}.rLshyf,.BmP5tf{padding-top:12px;padding-bottom:12px}.w1C3Le,.BmP5tf,.G5NbBd{padding-left:16px;padding-right:16px;}.G5NbBd{padding-bottom:12px}.nMymef{display:flex}.G5eFlf{flex:1;display:block}.nMymef span{text-align:center}</style><div><!--SW_C_X--></div><div><div class=\"ZINbbc xpd O9g5cc uUPGi\"><div class=\"kCrYT\"><a href=\"/url?q=https://demia.co.jp/&amp;sa=U&amp;ved=2ahUKEwjQvdy98ejnAhXiGaYKHYbeBykQFjAAegQIBhAB&amp;usg=AOvVaw1cPIffSbPVewdIzFp8SdJR\"><div class=\"BNeawe vvjwJb AP7Wnd\">&#26666;&#24335;&#20250;&#31038;DeMiA</div><div class=\"BNeawe UPmit AP7Wnd\">https://demia.co.jp</div></a></div><div class=\"x54gtf\"></div><div class=\"kCrYT\"><div><div class=\"BNeawe s3v9rd AP7Wnd\"><div><div><div class=\"Ap5OSd\"><div class=\"BNeawe s3v9rd AP7Wnd\">Web&#12469;&#12452;&#12488;&#12420;&#12450;&#12503;&#12522;&#12394;&#12393;&#12434;&#21046;&#20316;&#12377;&#12427;&#20140;&#37117;&#22823;&#23398;&#12398;&#23398;&#29983;&#12395;&#12424;&#12427;IT&#12505;&#12531;&#12481;&#12515;&#12540;&#12290;&#20302;&#20385;&#26684;&#12363;&#12388;&#26989;&#30028;&#38543;&#19968;&#12398;&#26089;&#12373;&#12391;&#25552;&#20379;&#12375;&#12289;&#12456;&#12531;&#12472;&#12491;&#12450;&#26989;&#30028;&#12395;&#38761;&#21629;&#12434;&#36215;&#12371;&#12377;&#12290;</div></div><div class=\"v9i61e\"><div class=\"BNeawe s3v9rd AP7Wnd\"><span class=\"BNeawe\"><a href=\"/url?q=https://demia.co.jp/others/question&amp;sa=U&amp;ved=2ahUKEwjQvdy98ejnAhXiGaYKHYbeBykQjBAwAXoECAYQAw&amp;usg=AOvVaw3_4Lk1LtYEVsR83BDpbf8-\"><span class=\"XLloXe AP7Wnd\">&#12424;&#12367;&#12354;&#12427;&#12372;&#36074;&#21839;/&#26666;&#24335;&#20250;&#31038;DeMiA</span></a></span></div></div><div class=\"v9i61e\"><div class=\"BNeawe s3v9rd AP7Wnd\"><span class=\"BNeawe\"><a href=\"/url?q=https://demia.co.jp/service/demo&amp;sa=U&amp;ved=2ahUKEwjQvdy98ejnAhXiGaYKHYbeBykQjBAwAnoECAYQBQ&amp;usg=AOvVaw14tSZk6on_RP6KoUw4PIiX\"><span class=\"XLloXe AP7Wnd\">&#12487;&#12514;/&#26666;&#24335;&#20250;&#31038;DeMiA | &#26666;&#24335;&#20250;&#31038; ...</span></a></span></div></div><div class=\"v9i61e\"><div class=\"BNeawe s3v9rd AP7Wnd\"><span class=\"BNeawe\"><a href=\"/url?q=https://demia.co.jp/others/link&amp;sa=U&amp;ved=2ahUKEwjQvdy98ejnAhXiGaYKHYbeBykQjBAwA3oECAYQBw&amp;usg=AOvVaw0tAwtY-hdeLigt7Mja9XCe\"><span class=\"XLloXe AP7Wnd\">SNS&#12522;&#12531;&#12463;/&#26666;&#24335;&#20250;&#31038;DeMiA</span></a></span></div></div><div class=\"v9i61e\"><div class=\"BNeawe s3v9rd AP7Wnd\"><span class=\"BNeawe\"><a href=\"/url?q=https://demia.co.jp/en/aboutus/profile&amp;sa=U&amp;ved=2ahUKEwjQvdy98ejnAhXiGaYKHYbeBykQjBAwBHoECAYQCQ&amp;usg=AOvVaw2PFpS8jet5MHcqYjNqNC3c\"><span class=\"XLloXe AP7Wnd\">Company profile</span></a></span></div></div><div class=\"v9i61e\"><div class=\"BNeawe s3v9rd AP7Wnd\"><span class=\"BNeawe\"><a href=\"/url?q=https://demia.co.jp/aboutus/idea&amp;sa=U&amp;ved=2ahUKEwjQvdy98ejnAhXiGaYKHYbeBykQjBAwBXoECAYQCw&amp;usg=AOvVaw1g8cOiH3WWGToBwAj6QFpe\"><span class=\"XLloXe AP7Wnd\">&#29702;&#24565;/&#26666;&#24335;&#20250;&#31038;DeMiA</span></a></span></div></div><div><div class=\"BNeawe s3v9rd AP7Wnd\"><span class=\"BNeawe\"><a href=\"/url?q=https://demia.co.jp/service/example&amp;sa=U&amp;ved=2ahUKEwjQvdy98ejnAhXiGaYKHYbeBykQjBAwBnoECAYQDQ&amp;usg=AOvVaw0SMakwXIRmbjy-iBtCG2kU\"><span class=\"XLloXe AP7Wnd\">&#23455;&#32318;&#12539;&#20107;&#20363;/&#26666;&#24335;&#20250;&#31038;DeMiA</span></a></span></div></div></div></div></div></div></div></div></div><div><div class=\"ZINbbc xpd O9g5cc uUPGi\"><div class=\"kCrYT\"><div class=\"nGphre\"><img class=\"UykT9d\" alt=\"\" src=\"data:image/gif;base64,R0lGODlhAQABAIAAAP///////yH5BAEKAAEALAAAAAABAAEAAAICTAEAOw==\" style=\"max-width:72px;max-height:72px\" id=\"dimg_1\" data-deferred=\"1\"></div><span><div class=\"BNeawe deIvCb AP7Wnd\">&#26666;&#24335;&#20250;&#31038;DeMiA</div></span><span><div class=\"BNeawe tAd8D AP7Wnd\"><span class=\"r0bn4c rQMQod tP9Zud\"> <span aria-hidden=\"true\" class=\"oqSTJd\">5.0</span> <div class=\"Hk2yDb KsR1A\" aria-label=\"&#35413;&#20385; 5.0/5\" role=\"img\"><span style=\"width:70px\"></span></div> <span>(3)</span> </span>\\n&#20225;&#26989;&#12398;&#12458;&#12501;&#12451;&#12473;</div></span><div class=\"nYT7Qb\"></div></div><div class=\"Q0HXG\"></div><div class=\"kCrYT\"><div class=\"skVgpb\"><a class=\"VGHMXd\" href=\"https://maps.google.com/maps?um=1&amp;ie=UTF-8&amp;fb=1&amp;gl=jp&amp;sa=X&amp;geocode=KSHP_gttCQFgMeEj7LhBbNoj&amp;daddr=%E3%80%92606-8316+%E4%BA%AC%E9%83%BD%E5%BA%9C%E4%BA%AC%E9%83%BD%E5%B8%82%E5%B7%A6%E4%BA%AC%E5%8C%BA%E5%90%89%E7%94%B0%E4%BA%8C%E6%9C%AC%E6%9D%BE%E7%94%BA%EF%BC%91+%E6%A0%AA%E5%BC%8F%E4%BC%9A%E7%A4%BEDeMiA&amp;ved=2ahUKEwjQvdy98ejnAhXiGaYKHYbeBykQlDt6BAgHEAM\"><div class=\"LpaDrb S7Jdze\" style=\"width:24px;height:24px\"><img class=\"EYOsld\" alt=\"\" src=\"data:image/gif;base64,R0lGODlhAQABAIAAAP///////yH5BAEKAAEALAAAAAABAAEAAAICTAEAOw==\" style=\"max-width:24px;max-height:24px\" id=\"dimg_3\" data-deferred=\"1\"></div><div class=\"BNeawe ji5jpf uEec3 AP7Wnd\">&#12523;&#12540;&#12488;</div></a><a class=\"VGHMXd\" href=\"/url?q=https://demia.co.jp/&amp;sa=U&amp;ved=2ahUKEwjQvdy98ejnAhXiGaYKHYbeBykQgU96BAgHEAQ&amp;usg=AOvVaw3nvATXB0XWQ5YKs8GGnUcd\"><div class=\"LpaDrb S7Jdze\" style=\"width:24px;height:24px\"><img class=\"EYOsld\" alt=\"\" src=\"data:image/gif;base64,R0lGODlhAQABAIAAAP///////yH5BAEKAAEALAAAAAABAAEAAAICTAEAOw==\" style=\"max-width:24px;max-height:24px\" id=\"dimg_5\" data-deferred=\"1\"></div><div class=\"BNeawe ji5jpf uEec3 AP7Wnd\">&#12454;&#12455;&#12502;&#12469;&#12452;&#12488;</div></a></div></div><div class=\"vbShOe kCrYT\"><div class=\"AVsepf\"><div class=\"BNeawe s3v9rd AP7Wnd\"><span><span class=\"BNeawe s3v9rd AP7Wnd\">&#20303;&#25152;</span></span>&#65306; <span><span class=\"BNeawe tAd8D AP7Wnd\">&#12306;606-8316 &#20140;&#37117;&#24220;&#20140;&#37117;&#24066;&#24038;&#20140;&#21306;&#21513;&#30000;&#20108;&#26412;&#26494;&#30010;&#65297;</span></span></div></div><div class=\"AVsepf\"><div class=\"BNeawe s3v9rd AP7Wnd\"><span><span class=\"BNeawe s3v9rd AP7Wnd\">&#26178;&#38291;</span></span>&#65306; <span><span class=\"BNeawe tAd8D AP7Wnd\">24 &#26178;&#38291;&#21942;&#26989;</span></span></div></div><div class=\"AVsepf u2x1Od\"><div class=\"BNeawe s3v9rd AP7Wnd\"><span><span class=\"BNeawe s3v9rd AP7Wnd\">&#38651;&#35441;&#30058;&#21495;</span></span>&#65306; <span><span class=\"BNeawe tAd8D AP7Wnd\">075-741-8966</span></span></div></div></div></div></div><div><div class=\"ZINbbc xpd O9g5cc uUPGi\"><div class=\"kCrYT\"><a href=\"/url?q=https://twitter.com/demia_inc&amp;sa=U&amp;ved=2ahUKEwjQvdy98ejnAhXiGaYKHYbeBykQFjAQegQIAxAB&amp;usg=AOvVaw0qbGkoXvxVRe3KkyoLEJWB\"><div class=\"BNeawe vvjwJb AP7Wnd\">&#26666;&#24335;&#20250;&#31038;DeMiA (@DeMiA_Inc) | Twitter</div><div class=\"BNeawe UPmit AP7Wnd\">https://twitter.com &#8250; demia_inc</div></a></div><div class=\"x54gtf\"></div><div class=\"kCrYT\"><div><div class=\"BNeawe s3v9rd AP7Wnd\"><div><div><div class=\"BNeawe s3v9rd AP7Wnd\">The latest Tweets from &#26666;&#24335;&#20250;&#31038;DeMiA (@DeMiA_Inc). &#12300;&#12510;&#12490;&#12499;&#12398;&#23455;&#35013;&#12301;&#12434;&#29702;&#24565;&#12395;&#25522;&#12370;&#12383;&#12289;&#20140;&#22823;&#30330;&#12398;&#23398;&#29983;IT&#12505;&#12531;&#12481;&#12515;&#12540;&#12391;&#12377; contact us&#8594;info@demia.co.jp.</div></div></div></div></div></div></div></div><div><div class=\"ZINbbc xpd O9g5cc uUPGi\"><div class=\"kCrYT\"><a href=\"/url?q=https://www.facebook.com/DeMiAInc/&amp;sa=U&amp;ved=2ahUKEwjQvdy98ejnAhXiGaYKHYbeBykQFjARegQIBBAB&amp;usg=AOvVaw3RauMlIlBa-XgOWc3gxcWf\"><div class=\"BNeawe vvjwJb AP7Wnd\">&#26666;&#24335;&#20250;&#31038;DeMiA - Home | Facebook</div><div class=\"BNeawe UPmit AP7Wnd\">https://www.facebook.com &#8250; ... &#8250; Information Technology Company</div></a></div><div class=\"x54gtf\"></div><div class=\"kCrYT\"><div><div class=\"BNeawe s3v9rd AP7Wnd\"><div><div><div class=\"BNeawe s3v9rd AP7Wnd\">&#26666;&#24335;&#20250;&#31038;DeMiA. 14 likes. &#12300;&#12510;&#12490;&#12499;&#12398;&#23455;&#35013;&#12301;&#12434;&#29702;&#24565;&#12395;&#25522;&#12370;&#12383;&#12289;&#20140;&#22823;&#30330;&#12398;&#23398;&#29983;IT &#12505;&#12531;&#12481;&#12515;&#12540;&#12391;&#12377;.</div></div></div></div></div></div></div></div><div><div class=\"ZINbbc xpd O9g5cc uUPGi\"><div class=\"kCrYT\"><a href=\"/url?q=https://www.facebook.com/DeMiAInc/about/%3Fref%3Dpage_internal&amp;sa=U&amp;ved=2ahUKEwjQvdy98ejnAhXiGaYKHYbeBykQFjASegQIARAB&amp;usg=AOvVaw0vIB-Id6PezeYWW4Z5q-25\"><div class=\"BNeawe vvjwJb AP7Wnd\">&#26666;&#24335;&#20250;&#31038;DeMiA - About | Facebook</div><div class=\"BNeawe UPmit AP7Wnd\">https://www.facebook.com &#8250; Places &#8250; Kyoto, Japan &#8250; &#26666;&#24335;&#20250;&#31038;DeMiA</div></a></div><div class=\"x54gtf\"></div><div class=\"kCrYT\"><div><div class=\"BNeawe s3v9rd AP7Wnd\"><div><div><div class=\"BNeawe s3v9rd AP7Wnd\">See contact information and details about &#26666;&#24335;&#20250;&#31038;DeMiA.</div></div></div></div></div></div></div></div><div><div class=\"ZINbbc xpd O9g5cc uUPGi\"><div class=\"kCrYT\"><a href=\"/url?q=https://www.amazon.co.jp/Demia-%25E3%2583%259F%25E3%2583%25A5%25E3%2583%25BC%25E3%2582%25B8%25E3%2583%2583%25E3%2582%25AF%25E3%2582%25B9%25E3%2583%2588%25E3%2582%25A2/s%3Fk%3DDemia%26rh%3Dn%253A561956&amp;sa=U&amp;ved=2ahUKEwjQvdy98ejnAhXiGaYKHYbeBykQFjATegQIABAB&amp;usg=AOvVaw2jaU_dpVfZp7GVAKbo8sly\"><div class=\"BNeawe vvjwJb AP7Wnd\">Demia: &#12511;&#12517;&#12540;&#12472;&#12483;&#12463;&#12473;&#12488;&#12450; - Amazon.co.jp</div><div class=\"BNeawe UPmit AP7Wnd\">https://www.amazon.co.jp &#8250; Demia-&#12511;&#12517;&#12540;&#12472;&#12483;&#12463;&#12473;&#12488;&#12450; &#8250; k=Demia</div></a></div><div class=\"x54gtf\"></div><div class=\"kCrYT\"><div><div class=\"BNeawe s3v9rd AP7Wnd\"><div><div><div class=\"BNeawe s3v9rd AP7Wnd\">&#12511;&#12517;&#12540;&#12472;&#12483;&#12463;&#12473;&#12488;&#12450; &#12398;&#20778;&#12428;&#12383;&#12475;&#12524;&#12463;&#12471;&#12519;&#12531;&#12391;&#12458;&#12531;&#12521;&#12452;&#12531;&#12471;&#12519;&#12483;&#12500;&#12531;&#12464;&#12290;</div></div></div></div></div></div></div></div><div><div class=\"ZINbbc xpd O9g5cc uUPGi\"><div class=\"kCrYT\"><a href=\"/url?q=https://www.pixiv.net/tags/demia&amp;sa=U&amp;ved=2ahUKEwjQvdy98ejnAhXiGaYKHYbeBykQFjAUegQIAhAB&amp;usg=AOvVaw0c0j23q4BVlKRvfml8iAxv\"><div class=\"BNeawe vvjwJb AP7Wnd\">#demia&#12398;&#20154;&#27671;&#12452;&#12521;&#12473;&#12488;&#12420;&#12510;&#12531;&#12460; - pixiv</div><div class=\"BNeawe UPmit AP7Wnd\">https://www.pixiv.net &#8250; tags &#8250; demia</div></a></div><div class=\"x54gtf\"></div><div class=\"kCrYT\"><div><div class=\"BNeawe s3v9rd AP7Wnd\"><div><div><div class=\"BNeawe s3v9rd AP7Wnd\">demia&#12398;&#12452;&#12521;&#12473;&#12488;&#12420;&#12510;&#12531;&#12460;&#12399;1&#20214;&#12289;#demia&#12398;&#23567;&#35500;&#12289;SS&#12399;0&#20214;&#25237;&#31295;&#12373;&#12428;&#12390;&#12356;&#12414;&#12377;&#12290;#demia &#12392;&#19968;&#32210;&#12395;&#20184;&#12369;&#12425;&#12428;&#12390;&#12356;&#12427;&#20027;&#12394;&#12479;&#12464;&#12395;&#12399;#raid&#12289;#crusader&#12289;#king&#12289;#mutang&#12289;#demia&#12289;# &#12461;&#12531;&#12473;&#12524;&#12452;&#12521;&#12467;&#12531;&#12394;&#12393;&#12364;&#12354;&#12426;&#12414;&#12377;&#12290;</div></div></div></div></div></div></div></div><div><div class=\"ZINbbc xpd O9g5cc uUPGi\"><div class=\"kCrYT\"><a href=\"/url?q=https://db.sp.netkeiba.com/horse/horse_news.html%3Fid%3D000a009927%26type%3Dcolumn&amp;sa=U&amp;ved=2ahUKEwjQvdy98ejnAhXiGaYKHYbeBykQFjAVegQIBRAB&amp;usg=AOvVaw0tlVOz1q0_PO9N8-qdWsiu\"><div class=\"BNeawe vvjwJb AP7Wnd\">Demia&#12398;&#12491;&#12517;&#12540;&#12473; | &#31478;&#36208;&#39340;&#12487;&#12540;&#12479; - netkeiba.com</div><div class=\"BNeawe UPmit AP7Wnd\">https://db.sp.netkeiba.com &#8250; horse &#8250; horse_news</div></a></div><div class=\"x54gtf\"></div><div class=\"kCrYT\"><div><div class=\"BNeawe s3v9rd AP7Wnd\"><div><div><div class=\"BNeawe s3v9rd AP7Wnd\">Demia&#12398;&#12491;&#12517;&#12540;&#12473;&#12398;&#31478;&#36208;&#39340;&#12487;&#12540;&#12479;&#12391;&#12377;&#12290;&#31478;&#36208;&#25104;&#32318;&#12289;&#34880;&#32113;&#24773;&#22577;&#12289;&#29987;&#39378;&#24773;&#22577;&#12394;&#12393;&#12434;&#12399;&#12376;&#12417;&#12289; 50&#19975;&#38957;&#20197;&#19978;&#12398;&#31478;&#36208;&#39340;&#12539;&#39438;&#25163;&#12539;&#35519;&#25945;&#24107;&#12539;&#39340;&#20027;&#12539;&#29983;&#29987;&#32773;&#12539;&#12524;&#12540;&#12473;&#12398;&#20840;&#12487;&#12540;&#12479;&#12364;&#12372;&#35239;&#12356;&#12383;&#12384;&#12369;&#12414;&#12377;&#12290;</div></div></div></div></div></div></div></div><footer> <div>  <div class=\"ZINbbc xpd O9g5cc uUPGi BmP5tf\"><div class=\"nMymef MUxGbd lyLwlc\"><a class=\"nBDE1b G5eFlf\" href=\"/search?q=DeMiA&amp;ie=UTF-8&amp;ei=rBJTXtC3OOKzmAWGvZ_IAg&amp;start=10&amp;sa=N\" aria-label=\"&#27425;&#12398;&#12506;&#12540;&#12472;\">&#27425;&#12408; &gt;</a></div></div> </div>   <div id=\"mCljob\"><div><a href=\"/url?q=https://accounts.google.com/ServiceLogin%3Fcontinue%3Dhttps://www.google.com/search%253Fq%253DDeMiA%26hl%3Dja&amp;sa=U&amp;ved=0ahUKEwjQvdy98ejnAhXiGaYKHYbeBykQxs8CCDk&amp;usg=AOvVaw3PQ2GUzZfWoUb6g9EsFUfC\">&#12525;&#12464;&#12452;&#12531;</a></div><div><a class=\"ksTU4c\" href=\"https://www.google.com/preferences?hl=ja&amp;fg=1&amp;sa=X&amp;ved=0ahUKEwjQvdy98ejnAhXiGaYKHYbeBykQ5fUCCDo\">&#35373;&#23450;</a><a class=\"ksTU4c\" href=\"//policies.google.com/privacy?fg=1\">&#12503;&#12521;&#12452;&#12496;&#12471;&#12540;</a><a class=\"ksTU4c\" href=\"//policies.google.com/terms?fg=1\">&#35215;&#32004;</a></div></div>  </footer><script nonce=\"2XxTLueK0bkuq4yac6o6Sw==\">(function(){var hl=\\'ja\\';(function(){\\nvar b=this||self,d=/^[\\\\w+/_-]+[=]{0,2}$/,e=null;var f=document.querySelector(\".l\"),g=document.querySelector(\"#sf\"),k=g.querySelector(\".sbc\"),l=g.querySelector(\"[type=text]\"),m=g.querySelector(\"[type=submit]\"),n=g.querySelector(\".sc\"),p=g.querySelector(\".x\"),q=l.value,r=[],t=-1,u=q,w,x,y;q||(p&&(p.style.display=\"none\"),z(!1));function z(a){if(k.classList.contains(\"esbc\")){var c=k.classList.contains(\"chsbc\"),h=k.classList.contains(\"rtlsbc\");a&&(n.style.display=\"block\",c?(g.style.borderRadius=\"20px 20px 0 0\",n.style.borderBottom=\"1px solid #DFE1E5\",m.style.borderRadius=h?\"20px 0 0 0\":\"0 20px 0 0\"):k.style.borderRadius=h?\"0 8px 0 0\":\"8px 0 0 0\");a||(n.style.display=\"none\",c?(g.style.borderRadius=\"20px\",n.style.borderBottom=\"none\",m.style.borderRadius=h?\"20px 0 0 20px\":\"0 20px 20px 0\"):k.style.borderRadius=h?\"0 8px 8px 0\":\"8px 0 0 8px\")}}function A(){g.querySelector(\"[name=oq]\").value=u;g.querySelector(\"[name=aqs]\").value=\"heirloom-srp.\"+(0<=t?t:\"\")+\".\"+(0<r.length?\"0l\"+r.length:\"\")}\\nfunction C(){w=null;if(x){var a=\"/complete/search?client=heirloom-srp&hl=\"+hl+\"&json=t&callback=hS&q=\"+encodeURIComponent(x);\"undefined\"!==typeof ds&&ds&&(a+=\"&ds=\"+ds);var c=document.createElement(\"script\");c.src=a;if(null===e)a:{a=b.document;if((a=a.querySelector&&a.querySelector(\"script[nonce]\"))&&(a=a.nonce||a.getAttribute(\"nonce\"))&&d.test(a)){e=a;break a}e=\"\"}(a=e)&&c.setAttribute(\"nonce\",a);document.body.appendChild(c);x=null;w=setTimeout(C,500)}}\\nfunction D(){for(;n.firstChild;)n.removeChild(n.firstChild);r=[];t=-1;z(!1)}function E(){var a=n.querySelector(\".scs\");a&&(a.className=\"\");0<=t?(a=n.childNodes[t],a.className=\"scs\",q=a.textContent):q=u;l.value=q}l.addEventListener(\"focus\",function(){f&&(f.style.display=\"none\")},!1);l.addEventListener(\"blur\",function(){D();f&&(f.style.display=\"\")},!1);l.addEventListener(\"keyup\",function(a){q=l.value;y=!1;13==a.which?A():27==a.which?(D(),f&&(f.style.display=\"\"),q=u,l.value=q):40==a.which?(t++,t>=r.length&&(t=-1),E()):38==a.which?(t--,-1>t&&(t=r.length-1),E()):(a=q)?(p&&(p.style.display=\"\"),x=a,w||C(),u=a):(p&&(p.style.display=\"none\"),z(!1),D(),u=\"\",y=!0)},!1);m.addEventListener(\"click\",A,!1);p.addEventListener(\"click\",function(){l.value=\"\";p.style.display=\"none\";z(!1)},!1);k.addEventListener(\"click\",function(){l.focus()},!1);window.hS=function(a){if(!y){D();0==a[1].length&&z(!1);for(var c=0;c<a[1].length;c++){var h=a[1][c][0],v=document.createElement(\"div\");v.innerHTML=h;v.addEventListener(\"mousedown\",function(B){B.preventDefault();return!1},!1);h=h.replace(/<\\\\/?b>/g,\"\");v.addEventListener(\"click\",function(B){return function(){t=B;A();E();D();g.submit()}}(c),!1);n.appendChild(v);z(!0);r.push(h)}}};}).call(this);})();(function(){\\nfunction b(a){for(a=a.target||a.srcElement;a&&\"A\"!=a.nodeName;)a=a.parentElement;a&&(a.href||\"\").match(/\\\\/search.*[?&]tbm=isch/)&&(a.href+=\"&biw=\"+document.documentElement.clientWidth,a.href+=\"&bih=\"+document.documentElement.clientHeight)}document.addEventListener(\"click\",b,!1);document.addEventListener(\"touchStart\",b,!1);}).call(this);</script></div><!-- cctlcm 5 cctlcm --><textarea class=\"csi\" name=\"csi\" style=\"display:none\"></textarea><script nonce=\"2XxTLueK0bkuq4yac6o6Sw==\">(function(){var e=\\'rBJTXtC3OOKzmAWGvZ_IAg\\';var sn=\\'web\\';(function(){\\nfunction x(a){if(!a||\"none\"==a.style.display)return 0;if(document.defaultView&&document.defaultView.getComputedStyle){var b=document.defaultView.getComputedStyle(a);if(b&&(\"hidden\"==b.visibility||\"0px\"==b.height&&\"0px\"==b.width))return 0}if(!a.getBoundingClientRect)return 1;var c=a.getBoundingClientRect();a=c.left+window.pageXOffset;b=c.top+window.pageYOffset;var f=c.width;c=c.height;var h=0;if(0>=c&&0>=f)return h;0>b+c?h=2:b>=(window.innerHeight||document.documentElement.clientHeight)&&(h=4);if(0>\\na+f||a>=(window.innerWidth||document.documentElement.clientWidth))h|=8;return h||1};var y=e,z=sn,H=[];function I(a,b,c){a=\"/gen_204?atyp=csi&s=\"+(z||\"web\")+\"&t=\"+a+(\"&lite=1&ei=\"+y+\"&conn=\"+(window.navigator&&window.navigator.connection?window.navigator.connection.type:-1)+b);b=\"&rt=\";for(var f in c)a+=b+f+\".\"+c[f],b=\",\";return a}function J(a){a={prt:a};window.wsrt&&(a.wsrt=window.wsrt);return a}function K(a){window.ping?window.ping(a):(new Image).src=a}\\n(function(){for(var a=(new Date).getTime()-window.start,b=J(a),c=0,f=0,h=0,A=document.getElementsByTagName(\"img\"),n=\"&imn=\"+A.length+\"&biw=\"+window.innerWidth+\"&bih=\"+window.innerHeight,L=function(g,p){g.onload=function(){f=(new Date).getTime()-window.start;p&&++t==h&&(c=f,B());g.onload=null}},B=function(){n+=\"&ima=\"+h;b.aft=c;K(I(\"aft\",n,b))},t=0,M=0,d=void 0;d=A[M++];){var q=x(d),r=1==q;r&&++h;var m=d.hasAttribute(\"data-ilite\"),u=d.hasAttribute(\"data-deferred\")||m,C=d.getAttribute(\"data-src\")||\\nd.getAttribute(\"data-lzysrc\");H.push([q,u,!u&&C,google.ldi&&d.id&&google.ldi[d.id]||m&&C]);m=(q=d.complete&&!u)&&Number(d.getAttribute(\"data-iml\"))||0;q&&m?(r&&++t,m&&(d=m-window.start,r&&(c=Math.max(c,d)),f=Math.max(f,d))):L(d,r)}c||(c=a);f||(f=c);t==h&&B();google.rglh&&google.rglh();window.addEventListener(\"load\",function(){window.setTimeout(function(){b.ol=(new Date).getTime()-window.start;b.iml=f;var g=window.performance&&window.performance.timing;g&&(b.rqst=g.responseEnd-g.requestStart,b.rspt=\\ng.responseEnd-g.responseStart);for(var p=g=0,D=0,E=0,F=0,N=0,k;k=H[N++];){var l=k[0],v=k[1],O=k[2];k=k[3];var P=0==l,w=l&8,G=l&4;l=1==l||2==l||w&&!G;!l||w||v&&!k||++D;v&&(l&&k&&++g,G&&!k&&++p);P||w?O||++F:v||++E}n+=\"&ime=\"+D+(\"&imex=\"+E+\"&imeh=\"+F)+(\"&imea=\"+g+\"&imeb=\"+p);K(I(\"all\",n,b))},0)},!1)})();}).call(this);})();</script><script nonce=\"2XxTLueK0bkuq4yac6o6Sw==\">function _setImagesSrc(e,c){function f(b){b.onerror=function(){b.style.display=\"none\"};b.src=c}for(var g=0,a=void 0;a=e[g++];){var d=document.getElementById(a)||document.querySelector(\\'img[data-iid=\"\\'+a+\\'\"]\\');d?f(d):(window.google=window.google||{},google.iir=google.iir||{},google.iir[a]=c)}};</script><script nonce=\"2XxTLueK0bkuq4yac6o6Sw==\">(function(){var s=\\'data:image/jpeg;base64,/9j/4AAQSkZJRgABAQAAAQABAAD/4QAqRXhpZgAASUkqAAgAAAABADEBAgAHAAAAGgAAAAAAAABHb29nbGUAAP/bAIQAAwICAwINAwMLAwQLDgoFDw8PCg0FCg0NCw8KCg0NDRENDQ0ODQ0LEAoODw0QDQoKDQ4ODwoPCg4PDQ4NDQ4NEAEDBAQGBQYKBgYKDw4KDg8NDw0QDxAQEA8NDRAPDw8PDQ4NDxAPDQ8ODQ0NDRANEA0PEA0PEA0NDQ0NDQ0PDQ0N/8AAEQgASABIAwERAAIRAQMRAf/EABwAAAIDAQEBAQAAAAAAAAAAAAYHBAUIAwEJAv/EAFEQAAIBAgMEBAUMChMAAAAAAAECAwQRBQYSAAcTIQgxQVEUFSIyYRYjJEJDgZGSobHB8BcmUmJjcZOU0dIJGCUzREVTVHJ0goOGlZaipNPU/8QAGgEAAgMBAQAAAAAAAAAAAAAAAwQBAgUABv/EADYRAAEDAgMEBwcEAwEAAAAAAAEAAhEDIQQSMUFRYXEFExSRocHRFSJSYoGx8DJC4fFjwtIj/9oADAMBAAIRAxEAPwB6mQjt25XUV44n9xj+KNuXLmYYR7hF8QbcoXgWL+Rj+KNuXL0xwn3CP4g25cvY44fJHBj6/uBtCldYIouQ4MXV9wNpUKVDS0/L2ND+TG3KVY09LSmw8Fg/Jj9G3LlRyNbtP197blyl5dwXEcws8EdPGbD2zkfMDstXrik2YlXYwvMIs+xHmaSx8Dpfyzfq7Z3tRvwHvCP2b5kMYXgVRjRrkSpwluEhLezWACrbU1zGAUF+cikr1c+Y2IceWwXU3X5KgoA6OClepSuGo8bBLcAPfxvH5pIAbzfNJKgP1EsBfqvHtH/G5T1HzBS6XImLVQpZ1XC2EklkZcTUhzYtZSFIY6VJ0rc6Qx6gTtB6SaNabvBcMP8AMFawbqsyL/FcH53+L7zaPajPgPgp7Md4Q/jWD1uBO1K8CqQB1SahzHfZfm20KOIbWEgQgvpli508p5c9mUKUr6Xffu9xEiNc64IT3eGJ9NtqucG6kd6uBOiZm7XfTk3KzPUnMeCG46jiMS9/aSdsXGODx7plOU2kapojpg5Bp9KHMmVx/iKlHzkbZoB2DwXFgJ1QJgO93c5lo4s6ZiwA8eJ1KHNtHZFl0awpDa7NoUguzFTfSRdruGrUfEjTgh9WN6sKDfPubp3OJDEMqBy4Yuc10pZmV0fUSXuzMUXUxPMXB85r0c6qbGe5T1Y3q0+zXuprWjlGPZe1CqMg+2+nA1mSOS5tJ5Q1RodJBW2oWsSDGaoP2+A9VHVjeiz9s3lF7jxzlj/UlH+tsDJaI8P5VskHVKHeXvjydjUjVXqpy4twOXjyj7Bbr4g21MGMguq1SDohCLenksW+3PLH+f0X/btrZ270qQVjzc70UsKzvLJQ1MlcF4kVjG8YPrlQqNfXHIDyblYCzczcctsXpDFPoU87Ym+vAfRPYei2o6DpZanj/Y2d2pAYYhmTrHu9J3/1bbybOnsQdQ3x/wClrOwFIb/D0VzS/sXW7Sq8CPjzMPlFtXrtHyta1vY3I8ze9+zq2OOm65DSQ25M68OJSb8PTbm1tEfWfRIvPXQKo4a2fLNFXkomEJKXqFRmLvUTxFRwo0AAWNDzUm5bnawGx7T6ukKlUamPd5TtKC3C53EMPehmu6AmMQ6Z/GmDHyiLKHt5P9nt7wez8W1T01SAu13h6oowDthH59FAquhzPg7Ycsk9M6vNpKRwMG8xmBDlJFHNRyKEkdg69ie1qZYXCbCbjiBv4qnY3AgGFb5O6PO6DFJanLkxzYJfCeGBFDCyq2oqdZenQgA9RAt13I2v22tkzgCCJGzzM+HoI0WZsv8APouPSA6LWUdz/ioww4pKJVv65LBcDSD7WFQCLi4ueu3tbtFPpB7hMDx9eC7s4SNxDLWBRXQYTV+ZfzEPbbsHwbHbjHnYFBoNC+iO6vLiUU9O2i3r0f8AtlU/RsHpkf8AgeTvsjYP9fciffR0t8i7pnTKnFr62skkCrh1FEZqm5sTqCm0TaTcIxEhFmVCOY8ZgujK2IGf9LPidYfTf9lsYjFU6ZgXduF0m8D3/wCJx5lqMv8AhVckc9ckZo3qSjwFKaKoBdYpGS5Lujx+UrOGXUQrDbTOBFLAufAJDiQ6NROXduAPBK9aKrw0n9oEcYlaXwtF8KxGu1v5eBxg3bt8Ilb4OfIbM64VnPyCGBFUjh5qymnsQvHPPs093p2A2lIJjRMZtilRzMzYE2o+TiIP/HmH07HpthruXmEtV2c/VHFTjcr+TfZeEEBZ76RFK2JeLHWMEhnvzHcvftp4emQ0nkh1HXAWeMyZdaQSDwec+jgoB8Ov5be9s9FrIU3RzvklgwKDFas4viFPpw2oYSRMyuNFJIx0svNGFro4Bs9jY2208S3MAIBvodEGkYm8LIW6/fPgMUdbQUddSZbpBAfCMRMhq8XxA3A0RyBUdDLcMVpkjSJtT69F1OZUw784dUmq/Y39NNnMesk7kZr2xDfdG/VxQpXYfTZWmyxnCmw3F8IpRivLFampWXEZg/nScDUNZAXVpgjI1ksr6WYbEFTrA+k5wqOg+4BDBH7S71M8FLmZcrwC0bzqeMenet59H7fphm9enTNInxCNI6ngrJM0CyVPAjGp5VjQRpxDIxMcPIEAhhzUK4jDuo0mstxjQaWBN9muqPRqh7yfznb+k1jnOkex8Lh5/hlt8+2aBFreCdn8urDLuaqPF3holradnSTUUEqkgBSLkA3HnDr7xsyGw1x4eYSr3SQOPkVN3gbyqPKTYNQGdg9TIwT1piPW0LtqYCyAAW1OQNRVR5TAEFKi6pJAsIlVe/Kkrvf3gRYp4LHxom0lupg1rgXF1vYjlyNiO0baVJgY08/VLOJc4LKG8rpH4Lk2U4W2EzMeEGuouOZPey9xvs7TodY3MICE5+UwtMdKehKUOY35csDrOy38Ck9J79tOpq3mhN0PJYE6O0VFkybFce8VpJJBu+qKmIzx08iRVCAmKWNTqFoiAUV1MglvcAeUM3HUjXpdUTDXODXZSQSw2IkQZPDvRqLg12aLgSJvdMPGsCpMUXB82NgNbj2I1VIsgdppZadWZZHlMyqvC4dOSqrTXj9sTYbI4Ol1INCmBSotJa0AQYERB43k3TFYNhrrucQCeGtvpuTq6Om6XMu+7C6SU5tannjzXUu7x0wfSyqIjGAjoqheteGSgjKqBbbZdTEZQLfn5dIGpluSmVU9EPNtclBQtvQxE6HclxQEM+vTpH78dIj0ntN9R8219hsoNDpLLcP6P2VH4kkQ11+N/CR91f7mejdJufqarNrZiq6gtQPHZ6IIx4ksJuX1Fmtot5Q6j18ud69Br6ZaxpB4kEajcAhUsQ5rsz3AjgCP9ijrGK7N61M1RGlNwDRqulqV2bWvFN1ZXXRcsoclJBoVQFBuxHhKFSgw5Ykm9timpjWON9OaVGecg5txXj1aygMVABaGaUAaDe10vyPUpvYXGoi20MwjgI47l3tCnmnhvCzxmTcxi7Sgz4XgMjFgvEkwqS5AVnsg4JubXspYKTa5UXYGbQe232tuvqpGJZUkt0G03743rT+cs+S5jSKFct0bAhgyTxxyxssiFWUpyDagepuXeCOR6rUB0TlNpGqhUHAYORuqyGfYPBB8RQgmI9cfI2ERN7xeb1+TfZM12jvn67+aP1c7ERYTUV0cNRgfqAybHE8Wk064UnBdefksgk0lbk+SVI5k25nYTsQzNmgE74v3qwpGIUjJ5zZl3TQUuVso0cYJbhQUCxxFiACdCSKLsANRHaF9Fz9tbqgdnm0IsOYd6Q5eD5b/ADN//SPrfae3tVeyDcvJ8059gMGvB8EdbHzUde4jnxXuPRbu57SMe3b5qpwg3KPiW8TMtCGPqRw08v5y4+k/XlsRuNagnBs+FCmI7+cVpdV8jUf4vDn/AEH6/IwMUCgnBs+FIDeRvhzVj9RQCLBMGhVkYDWZJCr6QSRdkBIjVytwwDDUwZBYnbXnaqdlY3RqPBnTLKEQNikQP9Brc/SAQPn678+TZjr6LWEoipM0ZfhAIxaKxH336D8vba55MSo5sowlXeG5ywOP1vxxT8u4n5Lj4P7r07CNNWkq6ps74VGSRicK3FrawOvkbeV2am95V7Nh5AVIJUn7IOHSa/3Wpeo8jUJ9yT2t3tb3toyBdJX4rs5YedQ8a0nLq9fXna9uo9ulfh9O1xT4Kpch/FcxUbaovGFMbfhfeHyab+gv27FbTVCUBYxJFX67VFxa/Xfl7xPv+nX26dm2tCC4paZqynBiV4GeZTe4OuxHcRaxHoI7er2uzTAhFf/Z\\';var i=[\\'dimg_1\\'];_setImagesSrc(i,s);})();</script><script nonce=\"2XxTLueK0bkuq4yac6o6Sw==\">(function(){var s=\\'data:image/png;base64,iVBORw0KGgoAAAANSUhEUgAAADAAAAAwBAMAAAClLOS0AAAAMFBMVEVChfRChfRChfRChfRChfRChfRChfRChfRChfRChfRChfRChfRChfRChfRChfRChfTP4QxqAAAAD3RSTlMAV+zrVFv8gKwUU+fl+1Ddcms0AAAAtElEQVR4Xr3NoQ0CURBF0UEQLEHQBgYPihLwWMyWgMbRB72g0JSBATIk8//LTV5W77M3ZyYm3mo7HubDezkajpmncZAp4gBiAGIAYgBiAGIA4gDi4CLiYCFiIAMCqFAEQBABXBsWAdzkIet+hJDnCpseOJWfCrseKhfIb4UDIRvIV4XZQGjgtw99V2jgGSGiAOhEAQCpASAOIA4gACcAJwAnAAjACcAIwAnACMCJgO/+iGn3B1LoV1bI8vckAAAAAElFTkSuQmCC\\';var i=[\\'dimg_3\\'];_setImagesSrc(i,s);})();</script><script nonce=\"2XxTLueK0bkuq4yac6o6Sw==\">(function(){var s=\\'data:image/png;base64,iVBORw0KGgoAAAANSUhEUgAAADAAAAAwCAMAAABg3Am1AAABVlBMVEVChfRChfRChfRChfRChfRChfRChfRChfRChfRChfRChfRChfRChfRChfRChfRChfRChfRChfRChfRChfRChfRChfRChfRChfRChfRChfRChfRChfRChfRChfRChfRChfRChfRChfRChfRChfRChfRChfRChfRChfRChfRChfRChfRChfRChfRChfRChfRChfRChfRChfRChfRChfRChfRChfRChfRChfRChfRChfRChfRChfRChfRChfRChfRChfRChfRChfRChfRChfRChfRChfRChfRChfRChfRChfRChfRChfRChfRChfRChfRChfRChfRChfRChfRChfRChfRChfRChfRChfRChfRChfRChfRChfRChfRChfRChfRChfRChfRChfRChfRChfRChfRChfRChfRChfRChfRChfRChfRChfRChfRChfRChfRChfRChfRChfTpT98bAAAAcXRSTlMAAjl6rtTt+nk4Horl5IgdFpv5mBRd7lkFnQQKuGHZtfNy9ZyvK9smzljv7BP2lnMb2odk4gHoCfI2Tad4yGarMYA10hEV6+pP6TRlZ6aqdwto4YkG34Z19LF7+Br3LbIkM5PeKPC7VS+UswMMrWo6HJh0w+MAAAHlSURBVHhe3dBrU9NAAIXhE2iTchNIaltTlYpQVCoqUAuKVtraekcqoFi8gYqCt/3/N890MjvZzSb9zvvtzOyT2SzOZNbQcCptO46dTmVGrIFgdGxchJo4N5kIpqYdoeV62XhwPicM2XmYK1wQMXm+CRQvimiXLvfHTNHwfdP5Evwrs33hQ++qMDQHYL4smBf5X2EotwCWvSbYde09bxjuM8fzfVHmWqwoYFqoQWn+JsVSGIw6iQC3CNzbITAmkoF/h2IZMmt8AMAKwWpVziGhdVcHtTWKdTmH9fP3oHefYEOuFNeDAMDcQ4K6XGmuR5uJoEHQlMvmamEzCTwmaMvlcFmgiAcFAlcBBYBCrfNEAl8BNlcFBvE05kpprmcwiZifTnE9hxQm8EJ51gzXS0hhAq84tuQa4VqrSWEAr0scDQmsCc4VBJnANke3Ctkb7nIhHuzscuxBhkmH4m0w3olws/sLwHuO3gFCeQQfPqLfJ6GW+/zF5ThEuKxNcTQFhq/fNPG9y9FpQSkvWDMQ+yUR6RhanmC7P4IVAT+h588I1svsGMHJKSIVKdjR9q8oOKnBkO8FD/n7z1/tPqcwl18UhjrHiK2y5Oqgd9hCUv+WV8Ogu3eAQVnrG/Vm23XbzfpWo4qz2H/PsWmExFfJAQAAAABJRU5ErkJggg\\\\x3d\\\\x3d\\';var i=[\\'dimg_5\\'];_setImagesSrc(i,s);})();</script><script nonce=\"2XxTLueK0bkuq4yac6o6Sw==\">(function(){var e=\\'rBJTXtC3OOKzmAWGvZ_IAg\\';(function(){\\nvar a=e,b=window.performance&&window.performance.navigation;b&&2==b.type&&window.ping(\"/gen_204?ct=backbutton&ei=\"+a);}).call(this);})();(function(){\\nvar b=[function(){google.tick&&google.tick(\"load\",\"dcl\")}];google.dclc=function(a){b.length?b.push(a):a()};function c(){for(var a;a=b.shift();)a()}window.addEventListener?(document.addEventListener(\"DOMContentLoaded\",c,!1),window.addEventListener(\"load\",c,!1)):window.attachEvent&&window.attachEvent(\"onload\",c);}).call(this);(function(){(function(){google.csct={};google.csct.ps=\\'AOvVaw1q0WBPn9nYAUaljt6kTA3R\\\\x26ust\\\\x3d1582588972953426\\';})();})();(function(){(function(){google.csct.rd=true;})();})();google.drty&&google.drty();</script></body></html>'"
      ]
     },
     "execution_count": 12,
     "metadata": {},
     "output_type": "execute_result"
    }
   ],
   "source": [
    "r_2.text"
   ]
  },
  {
   "cell_type": "markdown",
   "metadata": {},
   "source": [
    "http://httpbin.org/ \\\n",
    "シンプルなHTTPリクエストとレスポンスを返してくれるサービス。\\\n",
    "自分が送ったパラメータやヘッダー情報をレスポンスしてくれるため、正しくリクエストされているかどうかを簡易的に確認するのに有効。"
   ]
  },
  {
   "cell_type": "code",
   "execution_count": 13,
   "metadata": {},
   "outputs": [],
   "source": [
    "data = {'key1': 'value1', 'key2': 'value2'}\n",
    "r_3 = requests.post(\"http://httpbin.org/post\", data=data)"
   ]
  },
  {
   "cell_type": "code",
   "execution_count": 14,
   "metadata": {},
   "outputs": [
    {
     "data": {
      "text/plain": [
       "200"
      ]
     },
     "execution_count": 14,
     "metadata": {},
     "output_type": "execute_result"
    }
   ],
   "source": [
    "r_3.status_code"
   ]
  },
  {
   "cell_type": "code",
   "execution_count": 15,
   "metadata": {},
   "outputs": [
    {
     "data": {
      "text/plain": [
       "'application/json'"
      ]
     },
     "execution_count": 15,
     "metadata": {},
     "output_type": "execute_result"
    }
   ],
   "source": [
    "r_3.headers['Content-Type']"
   ]
  },
  {
   "cell_type": "code",
   "execution_count": 16,
   "metadata": {},
   "outputs": [
    {
     "name": "stdout",
     "output_type": "stream",
     "text": [
      "<class 'str'>\n"
     ]
    },
    {
     "data": {
      "text/plain": [
       "'{\\n  \"args\": {}, \\n  \"data\": \"\", \\n  \"files\": {}, \\n  \"form\": {\\n    \"key1\": \"value1\", \\n    \"key2\": \"value2\"\\n  }, \\n  \"headers\": {\\n    \"Accept\": \"*/*\", \\n    \"Accept-Encoding\": \"gzip, deflate\", \\n    \"Content-Length\": \"23\", \\n    \"Content-Type\": \"application/x-www-form-urlencoded\", \\n    \"Host\": \"httpbin.org\", \\n    \"User-Agent\": \"python-requests/2.22.0\", \\n    \"X-Amzn-Trace-Id\": \"Root=1-5e5312ad-3395fc9613914b8d75fd73e4\"\\n  }, \\n  \"json\": null, \\n  \"origin\": \"121.102.38.72\", \\n  \"url\": \"http://httpbin.org/post\"\\n}\\n'"
      ]
     },
     "execution_count": 16,
     "metadata": {},
     "output_type": "execute_result"
    }
   ],
   "source": [
    "print(type(r_3.text))\n",
    "r_3.text"
   ]
  },
  {
   "cell_type": "code",
   "execution_count": 17,
   "metadata": {},
   "outputs": [
    {
     "name": "stdout",
     "output_type": "stream",
     "text": [
      "<class 'dict'>\n"
     ]
    },
    {
     "data": {
      "text/plain": [
       "{'args': {},\n",
       " 'data': '',\n",
       " 'files': {},\n",
       " 'form': {'key1': 'value1', 'key2': 'value2'},\n",
       " 'headers': {'Accept': '*/*',\n",
       "  'Accept-Encoding': 'gzip, deflate',\n",
       "  'Content-Length': '23',\n",
       "  'Content-Type': 'application/x-www-form-urlencoded',\n",
       "  'Host': 'httpbin.org',\n",
       "  'User-Agent': 'python-requests/2.22.0',\n",
       "  'X-Amzn-Trace-Id': 'Root=1-5e5312ad-3395fc9613914b8d75fd73e4'},\n",
       " 'json': None,\n",
       " 'origin': '121.102.38.72',\n",
       " 'url': 'http://httpbin.org/post'}"
      ]
     },
     "execution_count": 17,
     "metadata": {},
     "output_type": "execute_result"
    }
   ],
   "source": [
    "print(type(r_3.json()))\n",
    "r_3.json()"
   ]
  },
  {
   "cell_type": "markdown",
   "metadata": {},
   "source": [
    "# 2. Beautifulsoupの基礎\n",
    "tutorial \\\n",
    "http://kondou.com/BS4/"
   ]
  },
  {
   "cell_type": "code",
   "execution_count": 18,
   "metadata": {},
   "outputs": [],
   "source": [
    "from bs4 import BeautifulSoup"
   ]
  },
  {
   "cell_type": "code",
   "execution_count": 19,
   "metadata": {},
   "outputs": [],
   "source": [
    "r_4 = requests.get('https://akademia.tech/blog')\n",
    "soup = BeautifulSoup(r_4.text, 'html.parser')"
   ]
  },
  {
   "cell_type": "code",
   "execution_count": 20,
   "metadata": {},
   "outputs": [
    {
     "data": {
      "text/plain": [
       "\n",
       "<!DOCTYPE html>\n",
       "\n",
       "<html lang=\"ja\">\n",
       "<head>\n",
       "<meta charset=\"utf-8\"/>\n",
       "<meta content=\"width=device-width, initial-scale=1.0\" name=\"viewport\"/>\n",
       "<meta content=\"ie=edge\" http-equiv=\"X-UA-Compatible\"/>\n",
       "<meta content=\"京都大学のIT(プログラミング)・学問・ビジネスサークル、AkaDeMiAのブログ記事一覧。プログラミングや学生起業など、様々な視点から記事を描いている。\" name=\"description\"/>\n",
       "<link href=\"/static/akademia_web/img/favicon.ico\" rel=\"icon\"/>\n",
       "<link href=\"/static/akademia_web/scss/main.css\" rel=\"stylesheet\"/>\n",
       "<title>京都大学の学生団体AkaDeMiAのブログ</title>\n",
       "<!-- Global site tag (gtag.js) - Google Analytics -->\n",
       "<script async=\"\" src=\"https://www.googletagmanager.com/gtag/js?id=UA-135958147-2\"></script>\n",
       "<script>\n",
       "      window.dataLayer = window.dataLayer || [];\n",
       "      function gtag() {\n",
       "        dataLayer.push(arguments);\n",
       "      }\n",
       "      gtag(\"js\", new Date());\n",
       "      gtag(\"config\", \"UA-135958147-2\");\n",
       "    </script>\n",
       "</head>\n",
       "<body>\n",
       "<div class=\"logo-left-pc\">\n",
       "<picture>\n",
       "<a href=\"/\">\n",
       "<img alt=\"AkaDeMiA\" src=\"/static/akademia_web/svg/logo.svg\"/>\n",
       "</a>\n",
       "</picture>\n",
       "</div>\n",
       "<div class=\"blog_list-content\">\n",
       "<div class=\"p-title\">\n",
       "<div class=\"title_img\">\n",
       "<img src=\"/static/akademia_web/svg/blog.svg\"/>\n",
       "</div>\n",
       "<div class=\"title_bg\"></div>\n",
       "</div>\n",
       "<table class=\"p-table\">\n",
       "<tbody>\n",
       "<tr>\n",
       "<td>\n",
       "<a href=\"/blog/post/1\">\n",
       "<img src=\"/media/blog/IMG_20200215_225613.jpg\"/>\n",
       "</a>\n",
       "</td>\n",
       "<th>\n",
       "<a href=\"/blog/post/1\">\n",
       "<span class=\"title\">学生団体AkaDeMiA　Webサイトを公開しました。</span><br/>\n",
       "<span class=\"published\">2020.02.16</span><br/>\n",
       "<span class=\"category\">News</span>\n",
       "<span class=\"category\">Tech</span>\n",
       "</a>\n",
       "</th>\n",
       "</tr>\n",
       "<tr>\n",
       "<td>\n",
       "<a href=\"/blog/post/2\">\n",
       "<img src=\"/media/blog/IMG_20200215_225613_QbRL0aP.jpg\"/>\n",
       "</a>\n",
       "</td>\n",
       "<th>\n",
       "<a href=\"/blog/post/2\">\n",
       "<span class=\"title\">新歓イベントの企画について</span><br/>\n",
       "<span class=\"published\">2020.02.16</span><br/>\n",
       "<span class=\"category\">News</span>\n",
       "<span class=\"category\">Report</span>\n",
       "<span class=\"category\">Others</span>\n",
       "</a>\n",
       "</th>\n",
       "</tr>\n",
       "</tbody>\n",
       "</table>\n",
       "<nav aria-label=\"Page navigation\">\n",
       "<ul class=\"pagination\">\n",
       "<!-- comment -->\n",
       "<li class=\"page-item active\">\n",
       "<a class=\"page-link\" href=\"?page=1\">\n",
       "        1\n",
       "      </a>\n",
       "</li>\n",
       "<!-- prettier-ignore -->\n",
       "<!-- comment -->\n",
       "<!-- comment -->\n",
       "</ul>\n",
       "</nav>\n",
       "</div>\n",
       "<footer class=\"footer\">\n",
       "<!-- <div class=\"sns-wrapper\">\n",
       "        <div class=\"sns-wrapper__icon\">\n",
       "          <a href=\"#\">\n",
       "            <img src=\"/static/akademia_web/svg/facebook.svg\" />\n",
       "          </a>\n",
       "        </div>\n",
       "        <div class=\"sns-wrapper__icon\">\n",
       "          <a href=\"#\">\n",
       "            <img src=\"/static/akademia_web/svg/twitter.svg\" />\n",
       "          </a>\n",
       "        </div>\n",
       "      </div> -->\n",
       "<div class=\"copyright\">© 2020 AkaDeMiA</div>\n",
       "</footer>\n",
       "</body>\n",
       "</html>"
      ]
     },
     "execution_count": 20,
     "metadata": {},
     "output_type": "execute_result"
    }
   ],
   "source": [
    "soup"
   ]
  },
  {
   "cell_type": "code",
   "execution_count": 21,
   "metadata": {},
   "outputs": [],
   "source": [
    "def prettier(soup):\n",
    "    for script in soup([\"script\", \"style\"]):\n",
    "        script.decompose()    # rip it out\n",
    "\n",
    "    # get text\n",
    "    text = soup.get_text()\n",
    "\n",
    "    # break into lines and remove leading and trailing space on each\n",
    "    lines = (line.strip() for line in text.splitlines())\n",
    "    # break multi-headlines into a line each\n",
    "    chunks = (phrase.strip() for line in lines for phrase in line.split(\"  \"))\n",
    "    # drop blank lines\n",
    "    text = '\\n'.join(chunk for chunk in chunks if chunk)\n",
    "\n",
    "    print(text)\n"
   ]
  },
  {
   "cell_type": "code",
   "execution_count": 22,
   "metadata": {},
   "outputs": [
    {
     "name": "stdout",
     "output_type": "stream",
     "text": [
      "京都大学の学生団体AkaDeMiAのブログ\n",
      "学生団体AkaDeMiA　Webサイトを公開しました。\n",
      "2020.02.16\n",
      "News\n",
      "Tech\n",
      "新歓イベントの企画について\n",
      "2020.02.16\n",
      "News\n",
      "Report\n",
      "Others\n",
      "1\n",
      "© 2020 AkaDeMiA\n"
     ]
    }
   ],
   "source": [
    "prettier(soup)"
   ]
  },
  {
   "cell_type": "code",
   "execution_count": 23,
   "metadata": {},
   "outputs": [
    {
     "name": "stdout",
     "output_type": "stream",
     "text": [
      "<title>京都大学の学生団体AkaDeMiAのブログ</title>\n",
      "京都大学の学生団体AkaDeMiAのブログ\n"
     ]
    }
   ],
   "source": [
    "print(soup.title)\n",
    "print(soup.title.text)"
   ]
  },
  {
   "cell_type": "code",
   "execution_count": 24,
   "metadata": {},
   "outputs": [
    {
     "data": {
      "text/plain": [
       "<div class=\"logo-left-pc\">\n",
       "<picture>\n",
       "<a href=\"/\">\n",
       "<img alt=\"AkaDeMiA\" src=\"/static/akademia_web/svg/logo.svg\"/>\n",
       "</a>\n",
       "</picture>\n",
       "</div>"
      ]
     },
     "execution_count": 24,
     "metadata": {},
     "output_type": "execute_result"
    }
   ],
   "source": [
    "soup.div"
   ]
  },
  {
   "cell_type": "code",
   "execution_count": 25,
   "metadata": {},
   "outputs": [
    {
     "data": {
      "text/plain": [
       "{'class': ['logo-left-pc']}"
      ]
     },
     "execution_count": 25,
     "metadata": {},
     "output_type": "execute_result"
    }
   ],
   "source": [
    "soup.div.attrs"
   ]
  },
  {
   "cell_type": "code",
   "execution_count": 26,
   "metadata": {},
   "outputs": [
    {
     "data": {
      "text/plain": [
       "['logo-left-pc']"
      ]
     },
     "execution_count": 26,
     "metadata": {},
     "output_type": "execute_result"
    }
   ],
   "source": [
    "soup.div['class']"
   ]
  },
  {
   "cell_type": "code",
   "execution_count": 27,
   "metadata": {},
   "outputs": [
    {
     "name": "stdout",
     "output_type": "stream",
     "text": [
      "/\n",
      "/blog/post/1\n",
      "/blog/post/1\n",
      "/blog/post/2\n",
      "/blog/post/2\n",
      "?page=1\n"
     ]
    }
   ],
   "source": [
    "for link in soup.find_all('a'):\n",
    "    print(link.get('href')) # または print(link['href'])"
   ]
  },
  {
   "cell_type": "code",
   "execution_count": 28,
   "metadata": {},
   "outputs": [
    {
     "data": {
      "text/plain": [
       "[<span class=\"category\">News</span>,\n",
       " <span class=\"category\">Tech</span>,\n",
       " <span class=\"category\">News</span>,\n",
       " <span class=\"category\">Report</span>,\n",
       " <span class=\"category\">Others</span>]"
      ]
     },
     "execution_count": 28,
     "metadata": {},
     "output_type": "execute_result"
    }
   ],
   "source": [
    "soup.select('.category')"
   ]
  },
  {
   "cell_type": "markdown",
   "metadata": {},
   "source": [
    "# 3. データをDBに保存"
   ]
  },
  {
   "cell_type": "markdown",
   "metadata": {},
   "source": [
    "## はじめに\n",
    "データ保存を手軽に実装したい場合は、わざわざDBを用意する必要はない。  \n",
    "pythonのcsvモジュールやosのパイプラインで標準出力を.csvに保存すればいい。  \n",
    "csvモジュールを用いたデータ書き込みのサンプルコードは以下。  \n",
    "しかし、大規模データや情報の整合性が特に重視されるデータなど、ファイル単位で保存するのが適さないデータはDBを用意し、そこに直接データの書き込みをするといい。  \n",
    "本資料ではpythonでスクレイピングしたデータをPostgreSQLに保存する手順を紹介する。"
   ]
  },
  {
   "cell_type": "code",
   "execution_count": 29,
   "metadata": {},
   "outputs": [],
   "source": [
    "# csv書き込みサンプルコード\n",
    "# import csv\n",
    "\n",
    "# l = [[11, 12, 13, 14], \n",
    "#      [21, 22, 23, 24], \n",
    "#      [31, 32, 33, 34]]\n",
    "\n",
    "# with open('sample.csv', 'w') as f:\n",
    "#     writer = csv.writer(f)\n",
    "#     writer.writerows(l)"
   ]
  },
  {
   "cell_type": "code",
   "execution_count": 30,
   "metadata": {},
   "outputs": [],
   "source": [
    "import psycopg2"
   ]
  },
  {
   "cell_type": "code",
   "execution_count": 31,
   "metadata": {},
   "outputs": [],
   "source": [
    "conn = psycopg2.connect(\n",
    "    database='yusuke', \n",
    "    user='yusuke', \n",
    "    password='thisistest', \n",
    "    host='127.0.0.1', \n",
    "    port=5432)"
   ]
  },
  {
   "cell_type": "code",
   "execution_count": 32,
   "metadata": {},
   "outputs": [],
   "source": [
    "cur = conn.cursor()"
   ]
  },
  {
   "cell_type": "code",
   "execution_count": 33,
   "metadata": {},
   "outputs": [],
   "source": [
    "cur.execute('SELECT * FROM test')"
   ]
  },
  {
   "cell_type": "code",
   "execution_count": 34,
   "metadata": {},
   "outputs": [],
   "source": [
    "results = cur.fetchall()"
   ]
  },
  {
   "cell_type": "code",
   "execution_count": 35,
   "metadata": {},
   "outputs": [
    {
     "name": "stdout",
     "output_type": "stream",
     "text": [
      "(10, 'from ipynb')\n"
     ]
    }
   ],
   "source": [
    "for r in results:\n",
    "  print(r)"
   ]
  },
  {
   "cell_type": "code",
   "execution_count": 36,
   "metadata": {},
   "outputs": [],
   "source": [
    "cur2 = conn.cursor()"
   ]
  },
  {
   "cell_type": "code",
   "execution_count": 37,
   "metadata": {},
   "outputs": [
    {
     "ename": "UniqueViolation",
     "evalue": "duplicate key value violates unique constraint \"test_pkey\"\nDETAIL:  Key (id)=(10) already exists.\n",
     "output_type": "error",
     "traceback": [
      "\u001b[0;31m---------------------------------------------------------------------------\u001b[0m",
      "\u001b[0;31mUniqueViolation\u001b[0m                           Traceback (most recent call last)",
      "\u001b[0;32m<ipython-input-37-552afa6a1d44>\u001b[0m in \u001b[0;36m<module>\u001b[0;34m\u001b[0m\n\u001b[0;32m----> 1\u001b[0;31m \u001b[0mcur2\u001b[0m\u001b[0;34m.\u001b[0m\u001b[0mexecute\u001b[0m\u001b[0;34m(\u001b[0m\u001b[0;34m\"INSERT INTO test VALUES (10, 'from ipynb')\"\u001b[0m\u001b[0;34m)\u001b[0m\u001b[0;34m\u001b[0m\u001b[0;34m\u001b[0m\u001b[0m\n\u001b[0m",
      "\u001b[0;31mUniqueViolation\u001b[0m: duplicate key value violates unique constraint \"test_pkey\"\nDETAIL:  Key (id)=(10) already exists.\n"
     ]
    }
   ],
   "source": [
    "cur2.execute(\"INSERT INTO test VALUES (10, 'from ipynb')\")"
   ]
  },
  {
   "cell_type": "code",
   "execution_count": null,
   "metadata": {},
   "outputs": [],
   "source": [
    "conn.commit()"
   ]
  },
  {
   "cell_type": "code",
   "execution_count": null,
   "metadata": {},
   "outputs": [],
   "source": [
    "conn.close()"
   ]
  },
  {
   "cell_type": "markdown",
   "metadata": {},
   "source": [
    "# 4. クローラーの作成"
   ]
  },
  {
   "cell_type": "markdown",
   "metadata": {},
   "source": [
    "実際にクローリング・スクレイピングを実行する場合は、.pyファイルに一連の処理を記述しておき自動でDB保存まで行ってしまうのが望ましい。  \n",
    "従って、最後に1.~3.までのまとめとしてtest.pyというファイルを用いてクローラーを作成してみる。"
   ]
  },
  {
   "cell_type": "markdown",
   "metadata": {},
   "source": [
    "簡易的なクローラーとして、qiitaの最も人気の記事を取得するスクリプトを実装する。  \n",
    "まずは、qiitaのサイト( 'https://qiita.com' )の検証を開いてhtmlを観察する。\n",
    "結果、スクレイピングで取得すべきhtml要素と、各記事へのリンクのformatが分かる。  \n",
    "各記事へのリンクのformat : https://qiita.com/{author_id}/items/{article_id}"
   ]
  },
  {
   "cell_type": "code",
   "execution_count": 38,
   "metadata": {},
   "outputs": [],
   "source": [
    "r_5 = requests.get(\"https://qiita.com\")"
   ]
  },
  {
   "cell_type": "code",
   "execution_count": 39,
   "metadata": {},
   "outputs": [],
   "source": [
    "soup_2 = BeautifulSoup(r_5.text, 'html.parser')\n",
    "soup_2"
   ]
  },
  {
   "cell_type": "code",
   "execution_count": 44,
   "metadata": {
    "collapsed": true,
    "jupyter": {
     "outputs_hidden": true
    }
   },
   "outputs": [
    {
     "data": {
      "text/plain": [
       "[<div data-hyperapp-app=\"Trend\" data-hyperapp-props='{\"trend\":{\"edges\":[{\"followingLikers\":[],\"isLikedByViewer\":false,\"isNewArrival\":false,\"hasCodeBlock\":true,\"node\":{\"createdAt\":\"2020-02-20T23:05:45Z\",\"likesCount\":233,\"title\":\"最も低コストでプロダクトを公開したい\",\"uuid\":\"cea8c095fe8680ab12f3\",\"author\":{\"profileImageUrl\":\"https://qiita-user-profile-images.imgix.net/https%3A%2F%2Fqiita-image-store.s3.amazonaws.com%2F0%2F259302%2Fprofile-images%2F1529881665?ixlib=rb-1.2.2\\u0026auto=compress%2Cformat\\u0026lossless=0\\u0026w=48\\u0026s=c7b990ffe71d0080e68527ab4fa80a41\",\"urlName\":\"Taro_man\"}}},{\"followingLikers\":[],\"isLikedByViewer\":false,\"isNewArrival\":false,\"hasCodeBlock\":true,\"node\":{\"createdAt\":\"2020-02-21T14:54:52Z\",\"likesCount\":124,\"title\":\"機械学習で画像の高画質化を試みる（備忘録）- Python3\",\"uuid\":\"26c48bba785e5d7847a5\",\"author\":{\"profileImageUrl\":\"https://qiita-user-profile-images.imgix.net/https%3A%2F%2Fs3-ap-northeast-1.amazonaws.com%2Fqiita-image-store%2F0%2F590112%2Faa03e277e07524129822c05247ada7e9928ac067%2Fx_large.png%3F1582460043?ixlib=rb-1.2.2\\u0026auto=compress%2Cformat\\u0026lossless=0\\u0026w=48\\u0026s=ba07f17664c8db32ad6713cf8353b201\",\"urlName\":\"Takacie\"}}},{\"followingLikers\":[],\"isLikedByViewer\":false,\"isNewArrival\":false,\"hasCodeBlock\":true,\"node\":{\"createdAt\":\"2020-02-22T22:50:52Z\",\"likesCount\":56,\"title\":\"Go1.14のcontextは何が変わるのか\",\"uuid\":\"963a6118cec63a4cd2f3\",\"author\":{\"profileImageUrl\":\"https://qiita-user-profile-images.imgix.net/https%3A%2F%2Fs3-ap-northeast-1.amazonaws.com%2Fqiita-image-store%2F0%2F89391%2Fff4d70ae2c7f344102963a24b4b52fc2f0395008%2Fx_large.png%3F1575727084?ixlib=rb-1.2.2\\u0026auto=compress%2Cformat\\u0026lossless=0\\u0026w=48\\u0026s=47409914dcc113aff7e1bca82349cd38\",\"urlName\":\"tutuz\"}}},{\"followingLikers\":[],\"isLikedByViewer\":false,\"isNewArrival\":false,\"hasCodeBlock\":true,\"node\":{\"createdAt\":\"2020-02-21T15:19:27Z\",\"likesCount\":65,\"title\":\"TypeScriptで作るイマドキChrome拡張機能開発入門\",\"uuid\":\"ea9ed18a1a243b39e06e\",\"author\":{\"profileImageUrl\":\"https://qiita-user-profile-images.imgix.net/https%3A%2F%2Fqiita-image-store.s3.amazonaws.com%2F0%2F163381%2Fprofile-images%2F1551252270?ixlib=rb-1.2.2\\u0026auto=compress%2Cformat\\u0026lossless=0\\u0026w=48\\u0026s=879b59add05cb9d8d16d41307c727c0f\",\"urlName\":\"markey\"}}},{\"followingLikers\":[],\"isLikedByViewer\":false,\"isNewArrival\":false,\"hasCodeBlock\":true,\"node\":{\"createdAt\":\"2020-02-21T22:46:03Z\",\"likesCount\":55,\"title\":\"【これで無理なら諦めろ】オブジェクト指向を世界一分かりやすく説明する\",\"uuid\":\"c47b387dd93a0dfc8ec1\",\"author\":{\"profileImageUrl\":\"https://qiita-user-profile-images.imgix.net/https%3A%2F%2Fpbs.twimg.com%2Fprofile_images%2F1151100542883491841%2FZbSrbuen_bigger.jpg?ixlib=rb-1.2.2\\u0026auto=compress%2Cformat\\u0026lossless=0\\u0026w=48\\u0026s=499188964d761f487970dc5f7be40f6f\",\"urlName\":\"okaeri_ryoma\"}}},{\"followingLikers\":[],\"isLikedByViewer\":false,\"isNewArrival\":false,\"hasCodeBlock\":true,\"node\":{\"createdAt\":\"2020-02-22T12:29:52Z\",\"likesCount\":42,\"title\":\"Hello Worldさえ分かれば実質攻略完了？ 簡単すぎる言語Elm\",\"uuid\":\"91c59dfa88d48f7e96ed\",\"author\":{\"profileImageUrl\":\"https://qiita-user-profile-images.imgix.net/https%3A%2F%2Fqiita-image-store.s3.amazonaws.com%2F0%2F48687%2Fprofile-images%2F1473691441?ixlib=rb-1.2.2\\u0026auto=compress%2Cformat\\u0026lossless=0\\u0026w=48\\u0026s=70b9b3730db7aec85e1ba90d9efcc6ac\",\"urlName\":\"ababup1192\"}}},{\"followingLikers\":[],\"isLikedByViewer\":false,\"isNewArrival\":false,\"hasCodeBlock\":true,\"node\":{\"createdAt\":\"2020-02-22T11:18:37Z\",\"likesCount\":43,\"title\":\"AtCoder のレートが上がらなすぎてキレたのでCLIツールをつくった\",\"uuid\":\"37bb4a32ff49ab4a3ac0\",\"author\":{\"profileImageUrl\":\"https://qiita-user-profile-images.imgix.net/https%3A%2F%2Fqiita-image-store.s3.amazonaws.com%2F0%2F40562%2Fprofile-images%2F1473688479?ixlib=rb-1.2.2\\u0026auto=compress%2Cformat\\u0026lossless=0\\u0026w=48\\u0026s=022d8ae0c2503adb29fcc654ee932af9\",\"urlName\":\"sachaos\"}}},{\"followingLikers\":[],\"isLikedByViewer\":false,\"isNewArrival\":false,\"hasCodeBlock\":true,\"node\":{\"createdAt\":\"2020-02-23T04:27:33Z\",\"likesCount\":37,\"title\":\"お前らのコミットは汚い\",\"uuid\":\"c998172872ef49be93f1\",\"author\":{\"profileImageUrl\":\"https://qiita-user-profile-images.imgix.net/https%3A%2F%2Fqiita-image-store.s3.ap-northeast-1.amazonaws.com%2F0%2F265793%2Fprofile-images%2F1582432095?ixlib=rb-1.2.2\\u0026auto=compress%2Cformat\\u0026lossless=0\\u0026w=48\\u0026s=be08cc4630b14ebadf9881204b17c8d2\",\"urlName\":\"rnitta\"}}},{\"followingLikers\":[],\"isLikedByViewer\":false,\"isNewArrival\":false,\"hasCodeBlock\":true,\"node\":{\"createdAt\":\"2020-02-21T10:42:16Z\",\"likesCount\":81,\"title\":\"文章に関わる全ての人のための Git \\u0026 GitHub 入門 1-2「コミットを積み上げる」\",\"uuid\":\"1c60e7eba1ec9c570518\",\"author\":{\"profileImageUrl\":\"https://qiita-user-profile-images.imgix.net/https%3A%2F%2Fqiita-image-store.s3.amazonaws.com%2F0%2F332168%2Fprofile-images%2F1545900171?ixlib=rb-1.2.2\\u0026auto=compress%2Cformat\\u0026lossless=0\\u0026w=48\\u0026s=05539ed76ce7ad7098c6e491939d0d7d\",\"urlName\":\"ktkraoichi\"}}},{\"followingLikers\":[],\"isLikedByViewer\":false,\"isNewArrival\":true,\"hasCodeBlock\":true,\"node\":{\"createdAt\":\"2020-02-23T06:27:19Z\",\"likesCount\":32,\"title\":\"GitHub実践ハンズオン\",\"uuid\":\"79a75026327d8deb9c04\",\"author\":{\"profileImageUrl\":\"https://qiita-user-profile-images.imgix.net/https%3A%2F%2Fs3-ap-northeast-1.amazonaws.com%2Fqiita-image-store%2F0%2F317034%2F28d02936b81959e2512e870e5eb4deb6cfed4435%2Fx_large.png%3F1581554120?ixlib=rb-1.2.2\\u0026auto=compress%2Cformat\\u0026lossless=0\\u0026w=48\\u0026s=e96c2babe2ccf81f744910db486bc8cd\",\"urlName\":\"TakumaKurosawa\"}}},{\"followingLikers\":[],\"isLikedByViewer\":false,\"isNewArrival\":false,\"hasCodeBlock\":true,\"node\":{\"createdAt\":\"2020-02-22T14:24:04Z\",\"likesCount\":28,\"title\":\"オブジェクト指向の継承による肥大化を避ける方法\",\"uuid\":\"0f2eb5877c97735ee374\",\"author\":{\"profileImageUrl\":\"https://qiita-user-profile-images.imgix.net/https%3A%2F%2Fpbs.twimg.com%2Fprofile_images%2F1427199246%2F________2_normal.png?ixlib=rb-1.2.2\\u0026auto=compress%2Cformat\\u0026lossless=0\\u0026w=48\\u0026s=112f6f36c1d09ab0282772c6de66173f\",\"urlName\":\"dd0125\"}}},{\"followingLikers\":[],\"isLikedByViewer\":false,\"isNewArrival\":false,\"hasCodeBlock\":true,\"node\":{\"createdAt\":\"2020-02-22T04:49:05Z\",\"likesCount\":38,\"title\":\"COTOHAを使って大量の有価証券報告書を読む\",\"uuid\":\"b7a16f9bbc5038bce7c0\",\"author\":{\"profileImageUrl\":\"https://qiita-user-profile-images.imgix.net/https%3A%2F%2Fpbs.twimg.com%2Fprofile_images%2F980577579672334337%2FrK2UjVYF_bigger.jpg?ixlib=rb-1.2.2\\u0026auto=compress%2Cformat\\u0026lossless=0\\u0026w=48\\u0026s=92e5050063e8eda4ef0967d3198264cb\",\"urlName\":\"na0ki_ikeda\"}}},{\"followingLikers\":[],\"isLikedByViewer\":false,\"isNewArrival\":false,\"hasCodeBlock\":false,\"node\":{\"createdAt\":\"2020-02-21T08:14:06Z\",\"likesCount\":51,\"title\":\"TypeScript入門Q\\u0026A(フロントエンド初心者向け)\",\"uuid\":\"78970883362e8c8837c2\",\"author\":{\"profileImageUrl\":\"https://qiita-user-profile-images.imgix.net/https%3A%2F%2Fqiita-image-store.s3.ap-northeast-1.amazonaws.com%2F0%2F500716%2Fprofile-images%2F1569302034?ixlib=rb-1.2.2\\u0026auto=compress%2Cformat\\u0026lossless=0\\u0026w=48\\u0026s=8549e6a1152b28bdc3de7cfec443c0d5\",\"urlName\":\"sena_v\"}}},{\"followingLikers\":[],\"isLikedByViewer\":false,\"isNewArrival\":false,\"hasCodeBlock\":true,\"node\":{\"createdAt\":\"2020-02-22T10:47:07Z\",\"likesCount\":16,\"title\":\"Firebase を利用したプッシュ通知の実装\",\"uuid\":\"d51e795c016c0a662dd9\",\"author\":{\"profileImageUrl\":\"https://qiita-user-profile-images.imgix.net/https%3A%2F%2Fqiita-image-store.s3.amazonaws.com%2F0%2F168197%2Fprofile-images%2F1525599819?ixlib=rb-1.2.2\\u0026auto=compress%2Cformat\\u0026lossless=0\\u0026w=48\\u0026s=310105c487260265db8f113e5c7ac1a3\",\"urlName\":\"kurosame\"}}},{\"followingLikers\":[],\"isLikedByViewer\":false,\"isNewArrival\":false,\"hasCodeBlock\":false,\"node\":{\"createdAt\":\"2020-02-20T23:24:36Z\",\"likesCount\":88,\"title\":\"UnityのStandardShaderってダサい気がする人へ贈る言葉\",\"uuid\":\"e2bd7cf4e1c65df774fc\",\"author\":{\"profileImageUrl\":\"https://qiita-user-profile-images.imgix.net/https%3A%2F%2Fqiita-image-store.s3.amazonaws.com%2F0%2F149449%2Fprofile-images%2F1538210905?ixlib=rb-1.2.2\\u0026auto=compress%2Cformat\\u0026lossless=0\\u0026w=48\\u0026s=9c651d63b4c01f35541181a92578aaf0\",\"urlName\":\"Nekomasu\"}}},{\"followingLikers\":[],\"isLikedByViewer\":false,\"isNewArrival\":true,\"hasCodeBlock\":true,\"node\":{\"createdAt\":\"2020-02-23T09:19:21Z\",\"likesCount\":20,\"title\":\"可読性のためなら改行してくれ\",\"uuid\":\"d31302d52494db5c035d\",\"author\":{\"profileImageUrl\":\"https://qiita-user-profile-images.imgix.net/https%3A%2F%2Fpbs.twimg.com%2Fprofile_images%2F1427199246%2F________2_normal.png?ixlib=rb-1.2.2\\u0026auto=compress%2Cformat\\u0026lossless=0\\u0026w=48\\u0026s=112f6f36c1d09ab0282772c6de66173f\",\"urlName\":\"dd0125\"}}},{\"followingLikers\":[],\"isLikedByViewer\":false,\"isNewArrival\":false,\"hasCodeBlock\":true,\"node\":{\"createdAt\":\"2020-02-21T08:04:05Z\",\"likesCount\":53,\"title\":\"【黒い画面恐怖症向け】Linuxとかシェルとかざっくり知りたいのでゆるく図解した\",\"uuid\":\"007409cc67190a6d1832\",\"author\":{\"profileImageUrl\":\"https://qiita-user-profile-images.imgix.net/https%3A%2F%2Fs3-ap-northeast-1.amazonaws.com%2Fqiita-image-store%2F0%2F469936%2F65c93f1b11b16f3ff0d3575f153aa4367e7043be%2Fx_large.png%3F1577114440?ixlib=rb-1.2.2\\u0026auto=compress%2Cformat\\u0026lossless=0\\u0026w=48\\u0026s=5fcd8ade8bbee2f4e168bcf37ee352cf\",\"urlName\":\"akane_kato\"}}},{\"followingLikers\":[],\"isLikedByViewer\":false,\"isNewArrival\":true,\"hasCodeBlock\":false,\"node\":{\"createdAt\":\"2020-02-23T09:20:18Z\",\"likesCount\":19,\"title\":\"7年間使ってきたWordPressを捨ててContentful+Gatsby+Netlifyにしたら爆速になったし経緯とか教訓とか語る\",\"uuid\":\"d0f4a327318b88bd6199\",\"author\":{\"profileImageUrl\":\"https://qiita-user-profile-images.imgix.net/https%3A%2F%2Fqiita-image-store.s3.ap-northeast-1.amazonaws.com%2F0%2F64859%2Fprofile-images%2F1574522863?ixlib=rb-1.2.2\\u0026auto=compress%2Cformat\\u0026lossless=0\\u0026w=48\\u0026s=3bc0a583a635be5d0d60438740f1bfe2\",\"urlName\":\"kfurumiya\"}}},{\"followingLikers\":[],\"isLikedByViewer\":false,\"isNewArrival\":false,\"hasCodeBlock\":true,\"node\":{\"createdAt\":\"2020-02-22T02:53:51Z\",\"likesCount\":18,\"title\":\"代表的なコマンド\",\"uuid\":\"ed038a4b054c6617d421\",\"author\":{\"profileImageUrl\":\"https://qiita-user-profile-images.imgix.net/https%3A%2F%2Fs3-ap-northeast-1.amazonaws.com%2Fqiita-image-store%2F0%2F550467%2Fa47bf34be7632b586bbb04611a2572ac4da7709f%2Flarge.png%3F1582363009?ixlib=rb-1.2.2\\u0026auto=compress%2Cformat\\u0026lossless=0\\u0026w=48\\u0026s=2cad71fdbc86c8e55b3e9da00c4fb5cc\",\"urlName\":\"yukimuneee\"}}},{\"followingLikers\":[],\"isLikedByViewer\":false,\"isNewArrival\":false,\"hasCodeBlock\":true,\"node\":{\"createdAt\":\"2020-02-22T17:44:41Z\",\"likesCount\":18,\"title\":\"COTOHAでクイズ自動生成\",\"uuid\":\"0329e54ef23978a60574\",\"author\":{\"profileImageUrl\":\"https://qiita-user-profile-images.imgix.net/https%3A%2F%2Fqiita-image-store.s3.ap-northeast-1.amazonaws.com%2F0%2F590631%2Fprofile-images%2F1582451551?ixlib=rb-1.2.2\\u0026auto=compress%2Cformat\\u0026lossless=0\\u0026w=48\\u0026s=23e6538786c83aa0c0f2e9bee0371d16\",\"urlName\":\"zakiyama2918\"}}},{\"followingLikers\":[],\"isLikedByViewer\":false,\"isNewArrival\":false,\"hasCodeBlock\":true,\"node\":{\"createdAt\":\"2020-02-23T00:46:26Z\",\"likesCount\":11,\"title\":\"花粉症対策デジタル医療相談Botの開発　ユーザーIDと位置情報をFirestoreで管理\",\"uuid\":\"375a827c8f8e9fbc4937\",\"author\":{\"profileImageUrl\":\"https://qiita-user-profile-images.imgix.net/https%3A%2F%2Fs3-ap-northeast-1.amazonaws.com%2Fqiita-image-store%2F0%2F453374%2Fb80a926daeb9a31cedb6f57942fbfd53f17cce52%2Flarge.png%3F1570976961?ixlib=rb-1.2.2\\u0026auto=compress%2Cformat\\u0026lossless=0\\u0026w=48\\u0026s=057c2ca1b165510b73c9e3df21a86f6d\",\"urlName\":\"doikatsuyuki\"}}},{\"followingLikers\":[],\"isLikedByViewer\":false,\"isNewArrival\":false,\"hasCodeBlock\":true,\"node\":{\"createdAt\":\"2020-02-22T09:00:41Z\",\"likesCount\":14,\"title\":\"Ruby(とC)でRubyを実装してみた（builtinで遊んでみた）\",\"uuid\":\"452c94d6e832789f17ad\",\"author\":{\"profileImageUrl\":\"https://qiita-user-profile-images.imgix.net/https%3A%2F%2Fqiita-image-store.s3.amazonaws.com%2F0%2F191521%2Fprofile-images%2F1531325180?ixlib=rb-1.2.2\\u0026auto=compress%2Cformat\\u0026lossless=0\\u0026w=48\\u0026s=3963f1801167af1d556ab2e3d96011b7\",\"urlName\":\"S_H_\"}}},{\"followingLikers\":[],\"isLikedByViewer\":false,\"isNewArrival\":false,\"hasCodeBlock\":true,\"node\":{\"createdAt\":\"2020-02-20T22:28:42Z\",\"likesCount\":29,\"title\":\"【Python】流体シミュレーション : 拡散方程式を実装する\",\"uuid\":\"97daa509991bb9777a4a\",\"author\":{\"profileImageUrl\":\"https://qiita-user-profile-images.imgix.net/https%3A%2F%2Fs3-ap-northeast-1.amazonaws.com%2Fqiita-image-store%2F0%2F271340%2F8a27ae0339cf5291e6eaeeed00f099e7e338e2b8%2Fx_large.png%3F1581597356?ixlib=rb-1.2.2\\u0026auto=compress%2Cformat\\u0026lossless=0\\u0026w=48\\u0026s=7f5fab3006dbc1c683522a64f9157507\",\"urlName\":\"KQTS\"}}},{\"followingLikers\":[],\"isLikedByViewer\":false,\"isNewArrival\":false,\"hasCodeBlock\":false,\"node\":{\"createdAt\":\"2020-02-22T13:44:40Z\",\"likesCount\":15,\"title\":\"AtCoderで黄色になるまでにやったこと\",\"uuid\":\"79614b93cabc33ea60fc\",\"author\":{\"profileImageUrl\":\"https://qiita-user-profile-images.imgix.net/https%3A%2F%2Fpbs.twimg.com%2Fprofile_images%2F1182965200204398593%2FlZEspKzX_bigger.jpg?ixlib=rb-1.2.2\\u0026auto=compress%2Cformat\\u0026lossless=0\\u0026w=48\\u0026s=26594b26842c1adaecb6205aac78ae77\",\"urlName\":\"ageprocpp\"}}},{\"followingLikers\":[],\"isLikedByViewer\":false,\"isNewArrival\":true,\"hasCodeBlock\":true,\"node\":{\"createdAt\":\"2020-02-21T03:20:31Z\",\"likesCount\":14,\"title\":\"React, Redux 初心者が、Hooks 時代の React, Redux, React-Redux に触れてみて感じたこと \",\"uuid\":\"ae24a951527d709eaa15\",\"author\":{\"profileImageUrl\":\"https://qiita-user-profile-images.imgix.net/https%3A%2F%2Favatars1.githubusercontent.com%2Fu%2F80150%3Fv%3D4?ixlib=rb-1.2.2\\u0026auto=compress%2Cformat\\u0026lossless=0\\u0026w=48\\u0026s=45278d06be4a5e4716541de2d22dd42a\",\"urlName\":\"suketa\"}}},{\"followingLikers\":[],\"isLikedByViewer\":false,\"isNewArrival\":false,\"hasCodeBlock\":true,\"node\":{\"createdAt\":\"2020-02-22T13:40:52Z\",\"likesCount\":12,\"title\":\"ABC156 解説\",\"uuid\":\"4904faa76b2edee2dccf\",\"author\":{\"profileImageUrl\":\"https://qiita-user-profile-images.imgix.net/https%3A%2F%2Fpbs.twimg.com%2Fprofile_images%2F1182965200204398593%2FlZEspKzX_bigger.jpg?ixlib=rb-1.2.2\\u0026auto=compress%2Cformat\\u0026lossless=0\\u0026w=48\\u0026s=26594b26842c1adaecb6205aac78ae77\",\"urlName\":\"ageprocpp\"}}},{\"followingLikers\":[],\"isLikedByViewer\":false,\"isNewArrival\":true,\"hasCodeBlock\":true,\"node\":{\"createdAt\":\"2020-02-23T05:26:19Z\",\"likesCount\":7,\"title\":\"attr_accessorで挫折した君へ\",\"uuid\":\"733761ca46f2eadf8ae7\",\"author\":{\"profileImageUrl\":\"https://qiita-user-profile-images.imgix.net/https%3A%2F%2Fpbs.twimg.com%2Fprofile_images%2F1151100542883491841%2FZbSrbuen_bigger.jpg?ixlib=rb-1.2.2\\u0026auto=compress%2Cformat\\u0026lossless=0\\u0026w=48\\u0026s=499188964d761f487970dc5f7be40f6f\",\"urlName\":\"okaeri_ryoma\"}}},{\"followingLikers\":[],\"isLikedByViewer\":false,\"isNewArrival\":false,\"hasCodeBlock\":true,\"node\":{\"createdAt\":\"2020-02-22T10:27:59Z\",\"likesCount\":11,\"title\":\"[取り置き機能]某フリマアプリにオリジナル機能を実装してみた。\",\"uuid\":\"2f690056f417ccb6494a\",\"author\":{\"profileImageUrl\":\"https://qiita-user-profile-images.imgix.net/https%3A%2F%2Fs3-ap-northeast-1.amazonaws.com%2Fqiita-image-store%2F0%2F513632%2F23beec638a6d4e58026b49848607e922b24a1c34%2Flarge.png%3F1573476437?ixlib=rb-1.2.2\\u0026auto=compress%2Cformat\\u0026lossless=0\\u0026w=48\\u0026s=6cfb64c6a6b15e1b77adfb2085b97bbc\",\"urlName\":\"Tatsu88\"}}},{\"followingLikers\":[],\"isLikedByViewer\":false,\"isNewArrival\":false,\"hasCodeBlock\":true,\"node\":{\"createdAt\":\"2020-02-22T05:06:10Z\",\"likesCount\":24,\"title\":\"ROS2で3D LiDARを用いたGraph SLAMによる三次元地図作成\",\"uuid\":\"c1ad2e746a92b4808a10\",\"author\":{\"profileImageUrl\":\"https://qiita-user-profile-images.imgix.net/https%3A%2F%2Fqiita-image-store.s3.ap-northeast-1.amazonaws.com%2F0%2F229952%2Fprofile-images%2F1561024628?ixlib=rb-1.2.2\\u0026auto=compress%2Cformat\\u0026lossless=0\\u0026w=48\\u0026s=17a3f9a0239660b06e4f36b993ee4cd8\",\"urlName\":\"saitosasaki\"}}},{\"followingLikers\":[],\"isLikedByViewer\":false,\"isNewArrival\":true,\"hasCodeBlock\":true,\"node\":{\"createdAt\":\"2020-02-23T08:08:23Z\",\"likesCount\":6,\"title\":\"Unity オンラインゲームにMicrosoft Azure Functions C# と PlayFab はいかが？\",\"uuid\":\"ea909e37b82731a91ffe\",\"author\":{\"profileImageUrl\":\"https://qiita-user-profile-images.imgix.net/https%3A%2F%2Fqiita-image-store.s3.ap-northeast-1.amazonaws.com%2F0%2F106364%2Fprofile-images%2F1578186607?ixlib=rb-1.2.2\\u0026auto=compress%2Cformat\\u0026lossless=0\\u0026w=48\\u0026s=487f307e68fe68884abfb9b084415f0f\",\"urlName\":\"simplestar\"}}}]},\"scope\":\"daily\"}'></div>]"
      ]
     },
     "execution_count": 44,
     "metadata": {},
     "output_type": "execute_result"
    }
   ],
   "source": [
    "tr_item = soup_2.select('[data-hyperapp-app=\"Trend\"]')\n",
    "tr_item"
   ]
  },
  {
   "cell_type": "code",
   "execution_count": 45,
   "metadata": {
    "collapsed": true,
    "jupyter": {
     "outputs_hidden": true
    }
   },
   "outputs": [
    {
     "data": {
      "text/plain": [
       "'{\"trend\":{\"edges\":[{\"followingLikers\":[],\"isLikedByViewer\":false,\"isNewArrival\":false,\"hasCodeBlock\":true,\"node\":{\"createdAt\":\"2020-02-20T23:05:45Z\",\"likesCount\":233,\"title\":\"最も低コストでプロダクトを公開したい\",\"uuid\":\"cea8c095fe8680ab12f3\",\"author\":{\"profileImageUrl\":\"https://qiita-user-profile-images.imgix.net/https%3A%2F%2Fqiita-image-store.s3.amazonaws.com%2F0%2F259302%2Fprofile-images%2F1529881665?ixlib=rb-1.2.2\\\\u0026auto=compress%2Cformat\\\\u0026lossless=0\\\\u0026w=48\\\\u0026s=c7b990ffe71d0080e68527ab4fa80a41\",\"urlName\":\"Taro_man\"}}},{\"followingLikers\":[],\"isLikedByViewer\":false,\"isNewArrival\":false,\"hasCodeBlock\":true,\"node\":{\"createdAt\":\"2020-02-21T14:54:52Z\",\"likesCount\":124,\"title\":\"機械学習で画像の高画質化を試みる（備忘録）- Python3\",\"uuid\":\"26c48bba785e5d7847a5\",\"author\":{\"profileImageUrl\":\"https://qiita-user-profile-images.imgix.net/https%3A%2F%2Fs3-ap-northeast-1.amazonaws.com%2Fqiita-image-store%2F0%2F590112%2Faa03e277e07524129822c05247ada7e9928ac067%2Fx_large.png%3F1582460043?ixlib=rb-1.2.2\\\\u0026auto=compress%2Cformat\\\\u0026lossless=0\\\\u0026w=48\\\\u0026s=ba07f17664c8db32ad6713cf8353b201\",\"urlName\":\"Takacie\"}}},{\"followingLikers\":[],\"isLikedByViewer\":false,\"isNewArrival\":false,\"hasCodeBlock\":true,\"node\":{\"createdAt\":\"2020-02-22T22:50:52Z\",\"likesCount\":56,\"title\":\"Go1.14のcontextは何が変わるのか\",\"uuid\":\"963a6118cec63a4cd2f3\",\"author\":{\"profileImageUrl\":\"https://qiita-user-profile-images.imgix.net/https%3A%2F%2Fs3-ap-northeast-1.amazonaws.com%2Fqiita-image-store%2F0%2F89391%2Fff4d70ae2c7f344102963a24b4b52fc2f0395008%2Fx_large.png%3F1575727084?ixlib=rb-1.2.2\\\\u0026auto=compress%2Cformat\\\\u0026lossless=0\\\\u0026w=48\\\\u0026s=47409914dcc113aff7e1bca82349cd38\",\"urlName\":\"tutuz\"}}},{\"followingLikers\":[],\"isLikedByViewer\":false,\"isNewArrival\":false,\"hasCodeBlock\":true,\"node\":{\"createdAt\":\"2020-02-21T15:19:27Z\",\"likesCount\":65,\"title\":\"TypeScriptで作るイマドキChrome拡張機能開発入門\",\"uuid\":\"ea9ed18a1a243b39e06e\",\"author\":{\"profileImageUrl\":\"https://qiita-user-profile-images.imgix.net/https%3A%2F%2Fqiita-image-store.s3.amazonaws.com%2F0%2F163381%2Fprofile-images%2F1551252270?ixlib=rb-1.2.2\\\\u0026auto=compress%2Cformat\\\\u0026lossless=0\\\\u0026w=48\\\\u0026s=879b59add05cb9d8d16d41307c727c0f\",\"urlName\":\"markey\"}}},{\"followingLikers\":[],\"isLikedByViewer\":false,\"isNewArrival\":false,\"hasCodeBlock\":true,\"node\":{\"createdAt\":\"2020-02-21T22:46:03Z\",\"likesCount\":55,\"title\":\"【これで無理なら諦めろ】オブジェクト指向を世界一分かりやすく説明する\",\"uuid\":\"c47b387dd93a0dfc8ec1\",\"author\":{\"profileImageUrl\":\"https://qiita-user-profile-images.imgix.net/https%3A%2F%2Fpbs.twimg.com%2Fprofile_images%2F1151100542883491841%2FZbSrbuen_bigger.jpg?ixlib=rb-1.2.2\\\\u0026auto=compress%2Cformat\\\\u0026lossless=0\\\\u0026w=48\\\\u0026s=499188964d761f487970dc5f7be40f6f\",\"urlName\":\"okaeri_ryoma\"}}},{\"followingLikers\":[],\"isLikedByViewer\":false,\"isNewArrival\":false,\"hasCodeBlock\":true,\"node\":{\"createdAt\":\"2020-02-22T12:29:52Z\",\"likesCount\":42,\"title\":\"Hello Worldさえ分かれば実質攻略完了？ 簡単すぎる言語Elm\",\"uuid\":\"91c59dfa88d48f7e96ed\",\"author\":{\"profileImageUrl\":\"https://qiita-user-profile-images.imgix.net/https%3A%2F%2Fqiita-image-store.s3.amazonaws.com%2F0%2F48687%2Fprofile-images%2F1473691441?ixlib=rb-1.2.2\\\\u0026auto=compress%2Cformat\\\\u0026lossless=0\\\\u0026w=48\\\\u0026s=70b9b3730db7aec85e1ba90d9efcc6ac\",\"urlName\":\"ababup1192\"}}},{\"followingLikers\":[],\"isLikedByViewer\":false,\"isNewArrival\":false,\"hasCodeBlock\":true,\"node\":{\"createdAt\":\"2020-02-22T11:18:37Z\",\"likesCount\":43,\"title\":\"AtCoder のレートが上がらなすぎてキレたのでCLIツールをつくった\",\"uuid\":\"37bb4a32ff49ab4a3ac0\",\"author\":{\"profileImageUrl\":\"https://qiita-user-profile-images.imgix.net/https%3A%2F%2Fqiita-image-store.s3.amazonaws.com%2F0%2F40562%2Fprofile-images%2F1473688479?ixlib=rb-1.2.2\\\\u0026auto=compress%2Cformat\\\\u0026lossless=0\\\\u0026w=48\\\\u0026s=022d8ae0c2503adb29fcc654ee932af9\",\"urlName\":\"sachaos\"}}},{\"followingLikers\":[],\"isLikedByViewer\":false,\"isNewArrival\":false,\"hasCodeBlock\":true,\"node\":{\"createdAt\":\"2020-02-23T04:27:33Z\",\"likesCount\":37,\"title\":\"お前らのコミットは汚い\",\"uuid\":\"c998172872ef49be93f1\",\"author\":{\"profileImageUrl\":\"https://qiita-user-profile-images.imgix.net/https%3A%2F%2Fqiita-image-store.s3.ap-northeast-1.amazonaws.com%2F0%2F265793%2Fprofile-images%2F1582432095?ixlib=rb-1.2.2\\\\u0026auto=compress%2Cformat\\\\u0026lossless=0\\\\u0026w=48\\\\u0026s=be08cc4630b14ebadf9881204b17c8d2\",\"urlName\":\"rnitta\"}}},{\"followingLikers\":[],\"isLikedByViewer\":false,\"isNewArrival\":false,\"hasCodeBlock\":true,\"node\":{\"createdAt\":\"2020-02-21T10:42:16Z\",\"likesCount\":81,\"title\":\"文章に関わる全ての人のための Git \\\\u0026 GitHub 入門 1-2「コミットを積み上げる」\",\"uuid\":\"1c60e7eba1ec9c570518\",\"author\":{\"profileImageUrl\":\"https://qiita-user-profile-images.imgix.net/https%3A%2F%2Fqiita-image-store.s3.amazonaws.com%2F0%2F332168%2Fprofile-images%2F1545900171?ixlib=rb-1.2.2\\\\u0026auto=compress%2Cformat\\\\u0026lossless=0\\\\u0026w=48\\\\u0026s=05539ed76ce7ad7098c6e491939d0d7d\",\"urlName\":\"ktkraoichi\"}}},{\"followingLikers\":[],\"isLikedByViewer\":false,\"isNewArrival\":true,\"hasCodeBlock\":true,\"node\":{\"createdAt\":\"2020-02-23T06:27:19Z\",\"likesCount\":32,\"title\":\"GitHub実践ハンズオン\",\"uuid\":\"79a75026327d8deb9c04\",\"author\":{\"profileImageUrl\":\"https://qiita-user-profile-images.imgix.net/https%3A%2F%2Fs3-ap-northeast-1.amazonaws.com%2Fqiita-image-store%2F0%2F317034%2F28d02936b81959e2512e870e5eb4deb6cfed4435%2Fx_large.png%3F1581554120?ixlib=rb-1.2.2\\\\u0026auto=compress%2Cformat\\\\u0026lossless=0\\\\u0026w=48\\\\u0026s=e96c2babe2ccf81f744910db486bc8cd\",\"urlName\":\"TakumaKurosawa\"}}},{\"followingLikers\":[],\"isLikedByViewer\":false,\"isNewArrival\":false,\"hasCodeBlock\":true,\"node\":{\"createdAt\":\"2020-02-22T14:24:04Z\",\"likesCount\":28,\"title\":\"オブジェクト指向の継承による肥大化を避ける方法\",\"uuid\":\"0f2eb5877c97735ee374\",\"author\":{\"profileImageUrl\":\"https://qiita-user-profile-images.imgix.net/https%3A%2F%2Fpbs.twimg.com%2Fprofile_images%2F1427199246%2F________2_normal.png?ixlib=rb-1.2.2\\\\u0026auto=compress%2Cformat\\\\u0026lossless=0\\\\u0026w=48\\\\u0026s=112f6f36c1d09ab0282772c6de66173f\",\"urlName\":\"dd0125\"}}},{\"followingLikers\":[],\"isLikedByViewer\":false,\"isNewArrival\":false,\"hasCodeBlock\":true,\"node\":{\"createdAt\":\"2020-02-22T04:49:05Z\",\"likesCount\":38,\"title\":\"COTOHAを使って大量の有価証券報告書を読む\",\"uuid\":\"b7a16f9bbc5038bce7c0\",\"author\":{\"profileImageUrl\":\"https://qiita-user-profile-images.imgix.net/https%3A%2F%2Fpbs.twimg.com%2Fprofile_images%2F980577579672334337%2FrK2UjVYF_bigger.jpg?ixlib=rb-1.2.2\\\\u0026auto=compress%2Cformat\\\\u0026lossless=0\\\\u0026w=48\\\\u0026s=92e5050063e8eda4ef0967d3198264cb\",\"urlName\":\"na0ki_ikeda\"}}},{\"followingLikers\":[],\"isLikedByViewer\":false,\"isNewArrival\":false,\"hasCodeBlock\":false,\"node\":{\"createdAt\":\"2020-02-21T08:14:06Z\",\"likesCount\":51,\"title\":\"TypeScript入門Q\\\\u0026A(フロントエンド初心者向け)\",\"uuid\":\"78970883362e8c8837c2\",\"author\":{\"profileImageUrl\":\"https://qiita-user-profile-images.imgix.net/https%3A%2F%2Fqiita-image-store.s3.ap-northeast-1.amazonaws.com%2F0%2F500716%2Fprofile-images%2F1569302034?ixlib=rb-1.2.2\\\\u0026auto=compress%2Cformat\\\\u0026lossless=0\\\\u0026w=48\\\\u0026s=8549e6a1152b28bdc3de7cfec443c0d5\",\"urlName\":\"sena_v\"}}},{\"followingLikers\":[],\"isLikedByViewer\":false,\"isNewArrival\":false,\"hasCodeBlock\":true,\"node\":{\"createdAt\":\"2020-02-22T10:47:07Z\",\"likesCount\":16,\"title\":\"Firebase を利用したプッシュ通知の実装\",\"uuid\":\"d51e795c016c0a662dd9\",\"author\":{\"profileImageUrl\":\"https://qiita-user-profile-images.imgix.net/https%3A%2F%2Fqiita-image-store.s3.amazonaws.com%2F0%2F168197%2Fprofile-images%2F1525599819?ixlib=rb-1.2.2\\\\u0026auto=compress%2Cformat\\\\u0026lossless=0\\\\u0026w=48\\\\u0026s=310105c487260265db8f113e5c7ac1a3\",\"urlName\":\"kurosame\"}}},{\"followingLikers\":[],\"isLikedByViewer\":false,\"isNewArrival\":false,\"hasCodeBlock\":false,\"node\":{\"createdAt\":\"2020-02-20T23:24:36Z\",\"likesCount\":88,\"title\":\"UnityのStandardShaderってダサい気がする人へ贈る言葉\",\"uuid\":\"e2bd7cf4e1c65df774fc\",\"author\":{\"profileImageUrl\":\"https://qiita-user-profile-images.imgix.net/https%3A%2F%2Fqiita-image-store.s3.amazonaws.com%2F0%2F149449%2Fprofile-images%2F1538210905?ixlib=rb-1.2.2\\\\u0026auto=compress%2Cformat\\\\u0026lossless=0\\\\u0026w=48\\\\u0026s=9c651d63b4c01f35541181a92578aaf0\",\"urlName\":\"Nekomasu\"}}},{\"followingLikers\":[],\"isLikedByViewer\":false,\"isNewArrival\":true,\"hasCodeBlock\":true,\"node\":{\"createdAt\":\"2020-02-23T09:19:21Z\",\"likesCount\":20,\"title\":\"可読性のためなら改行してくれ\",\"uuid\":\"d31302d52494db5c035d\",\"author\":{\"profileImageUrl\":\"https://qiita-user-profile-images.imgix.net/https%3A%2F%2Fpbs.twimg.com%2Fprofile_images%2F1427199246%2F________2_normal.png?ixlib=rb-1.2.2\\\\u0026auto=compress%2Cformat\\\\u0026lossless=0\\\\u0026w=48\\\\u0026s=112f6f36c1d09ab0282772c6de66173f\",\"urlName\":\"dd0125\"}}},{\"followingLikers\":[],\"isLikedByViewer\":false,\"isNewArrival\":false,\"hasCodeBlock\":true,\"node\":{\"createdAt\":\"2020-02-21T08:04:05Z\",\"likesCount\":53,\"title\":\"【黒い画面恐怖症向け】Linuxとかシェルとかざっくり知りたいのでゆるく図解した\",\"uuid\":\"007409cc67190a6d1832\",\"author\":{\"profileImageUrl\":\"https://qiita-user-profile-images.imgix.net/https%3A%2F%2Fs3-ap-northeast-1.amazonaws.com%2Fqiita-image-store%2F0%2F469936%2F65c93f1b11b16f3ff0d3575f153aa4367e7043be%2Fx_large.png%3F1577114440?ixlib=rb-1.2.2\\\\u0026auto=compress%2Cformat\\\\u0026lossless=0\\\\u0026w=48\\\\u0026s=5fcd8ade8bbee2f4e168bcf37ee352cf\",\"urlName\":\"akane_kato\"}}},{\"followingLikers\":[],\"isLikedByViewer\":false,\"isNewArrival\":true,\"hasCodeBlock\":false,\"node\":{\"createdAt\":\"2020-02-23T09:20:18Z\",\"likesCount\":19,\"title\":\"7年間使ってきたWordPressを捨ててContentful+Gatsby+Netlifyにしたら爆速になったし経緯とか教訓とか語る\",\"uuid\":\"d0f4a327318b88bd6199\",\"author\":{\"profileImageUrl\":\"https://qiita-user-profile-images.imgix.net/https%3A%2F%2Fqiita-image-store.s3.ap-northeast-1.amazonaws.com%2F0%2F64859%2Fprofile-images%2F1574522863?ixlib=rb-1.2.2\\\\u0026auto=compress%2Cformat\\\\u0026lossless=0\\\\u0026w=48\\\\u0026s=3bc0a583a635be5d0d60438740f1bfe2\",\"urlName\":\"kfurumiya\"}}},{\"followingLikers\":[],\"isLikedByViewer\":false,\"isNewArrival\":false,\"hasCodeBlock\":true,\"node\":{\"createdAt\":\"2020-02-22T02:53:51Z\",\"likesCount\":18,\"title\":\"代表的なコマンド\",\"uuid\":\"ed038a4b054c6617d421\",\"author\":{\"profileImageUrl\":\"https://qiita-user-profile-images.imgix.net/https%3A%2F%2Fs3-ap-northeast-1.amazonaws.com%2Fqiita-image-store%2F0%2F550467%2Fa47bf34be7632b586bbb04611a2572ac4da7709f%2Flarge.png%3F1582363009?ixlib=rb-1.2.2\\\\u0026auto=compress%2Cformat\\\\u0026lossless=0\\\\u0026w=48\\\\u0026s=2cad71fdbc86c8e55b3e9da00c4fb5cc\",\"urlName\":\"yukimuneee\"}}},{\"followingLikers\":[],\"isLikedByViewer\":false,\"isNewArrival\":false,\"hasCodeBlock\":true,\"node\":{\"createdAt\":\"2020-02-22T17:44:41Z\",\"likesCount\":18,\"title\":\"COTOHAでクイズ自動生成\",\"uuid\":\"0329e54ef23978a60574\",\"author\":{\"profileImageUrl\":\"https://qiita-user-profile-images.imgix.net/https%3A%2F%2Fqiita-image-store.s3.ap-northeast-1.amazonaws.com%2F0%2F590631%2Fprofile-images%2F1582451551?ixlib=rb-1.2.2\\\\u0026auto=compress%2Cformat\\\\u0026lossless=0\\\\u0026w=48\\\\u0026s=23e6538786c83aa0c0f2e9bee0371d16\",\"urlName\":\"zakiyama2918\"}}},{\"followingLikers\":[],\"isLikedByViewer\":false,\"isNewArrival\":false,\"hasCodeBlock\":true,\"node\":{\"createdAt\":\"2020-02-23T00:46:26Z\",\"likesCount\":11,\"title\":\"花粉症対策デジタル医療相談Botの開発\\u3000ユーザーIDと位置情報をFirestoreで管理\",\"uuid\":\"375a827c8f8e9fbc4937\",\"author\":{\"profileImageUrl\":\"https://qiita-user-profile-images.imgix.net/https%3A%2F%2Fs3-ap-northeast-1.amazonaws.com%2Fqiita-image-store%2F0%2F453374%2Fb80a926daeb9a31cedb6f57942fbfd53f17cce52%2Flarge.png%3F1570976961?ixlib=rb-1.2.2\\\\u0026auto=compress%2Cformat\\\\u0026lossless=0\\\\u0026w=48\\\\u0026s=057c2ca1b165510b73c9e3df21a86f6d\",\"urlName\":\"doikatsuyuki\"}}},{\"followingLikers\":[],\"isLikedByViewer\":false,\"isNewArrival\":false,\"hasCodeBlock\":true,\"node\":{\"createdAt\":\"2020-02-22T09:00:41Z\",\"likesCount\":14,\"title\":\"Ruby(とC)でRubyを実装してみた（builtinで遊んでみた）\",\"uuid\":\"452c94d6e832789f17ad\",\"author\":{\"profileImageUrl\":\"https://qiita-user-profile-images.imgix.net/https%3A%2F%2Fqiita-image-store.s3.amazonaws.com%2F0%2F191521%2Fprofile-images%2F1531325180?ixlib=rb-1.2.2\\\\u0026auto=compress%2Cformat\\\\u0026lossless=0\\\\u0026w=48\\\\u0026s=3963f1801167af1d556ab2e3d96011b7\",\"urlName\":\"S_H_\"}}},{\"followingLikers\":[],\"isLikedByViewer\":false,\"isNewArrival\":false,\"hasCodeBlock\":true,\"node\":{\"createdAt\":\"2020-02-20T22:28:42Z\",\"likesCount\":29,\"title\":\"【Python】流体シミュレーション : 拡散方程式を実装する\",\"uuid\":\"97daa509991bb9777a4a\",\"author\":{\"profileImageUrl\":\"https://qiita-user-profile-images.imgix.net/https%3A%2F%2Fs3-ap-northeast-1.amazonaws.com%2Fqiita-image-store%2F0%2F271340%2F8a27ae0339cf5291e6eaeeed00f099e7e338e2b8%2Fx_large.png%3F1581597356?ixlib=rb-1.2.2\\\\u0026auto=compress%2Cformat\\\\u0026lossless=0\\\\u0026w=48\\\\u0026s=7f5fab3006dbc1c683522a64f9157507\",\"urlName\":\"KQTS\"}}},{\"followingLikers\":[],\"isLikedByViewer\":false,\"isNewArrival\":false,\"hasCodeBlock\":false,\"node\":{\"createdAt\":\"2020-02-22T13:44:40Z\",\"likesCount\":15,\"title\":\"AtCoderで黄色になるまでにやったこと\",\"uuid\":\"79614b93cabc33ea60fc\",\"author\":{\"profileImageUrl\":\"https://qiita-user-profile-images.imgix.net/https%3A%2F%2Fpbs.twimg.com%2Fprofile_images%2F1182965200204398593%2FlZEspKzX_bigger.jpg?ixlib=rb-1.2.2\\\\u0026auto=compress%2Cformat\\\\u0026lossless=0\\\\u0026w=48\\\\u0026s=26594b26842c1adaecb6205aac78ae77\",\"urlName\":\"ageprocpp\"}}},{\"followingLikers\":[],\"isLikedByViewer\":false,\"isNewArrival\":true,\"hasCodeBlock\":true,\"node\":{\"createdAt\":\"2020-02-21T03:20:31Z\",\"likesCount\":14,\"title\":\"React, Redux 初心者が、Hooks 時代の React, Redux, React-Redux に触れてみて感じたこと \",\"uuid\":\"ae24a951527d709eaa15\",\"author\":{\"profileImageUrl\":\"https://qiita-user-profile-images.imgix.net/https%3A%2F%2Favatars1.githubusercontent.com%2Fu%2F80150%3Fv%3D4?ixlib=rb-1.2.2\\\\u0026auto=compress%2Cformat\\\\u0026lossless=0\\\\u0026w=48\\\\u0026s=45278d06be4a5e4716541de2d22dd42a\",\"urlName\":\"suketa\"}}},{\"followingLikers\":[],\"isLikedByViewer\":false,\"isNewArrival\":false,\"hasCodeBlock\":true,\"node\":{\"createdAt\":\"2020-02-22T13:40:52Z\",\"likesCount\":12,\"title\":\"ABC156 解説\",\"uuid\":\"4904faa76b2edee2dccf\",\"author\":{\"profileImageUrl\":\"https://qiita-user-profile-images.imgix.net/https%3A%2F%2Fpbs.twimg.com%2Fprofile_images%2F1182965200204398593%2FlZEspKzX_bigger.jpg?ixlib=rb-1.2.2\\\\u0026auto=compress%2Cformat\\\\u0026lossless=0\\\\u0026w=48\\\\u0026s=26594b26842c1adaecb6205aac78ae77\",\"urlName\":\"ageprocpp\"}}},{\"followingLikers\":[],\"isLikedByViewer\":false,\"isNewArrival\":true,\"hasCodeBlock\":true,\"node\":{\"createdAt\":\"2020-02-23T05:26:19Z\",\"likesCount\":7,\"title\":\"attr_accessorで挫折した君へ\",\"uuid\":\"733761ca46f2eadf8ae7\",\"author\":{\"profileImageUrl\":\"https://qiita-user-profile-images.imgix.net/https%3A%2F%2Fpbs.twimg.com%2Fprofile_images%2F1151100542883491841%2FZbSrbuen_bigger.jpg?ixlib=rb-1.2.2\\\\u0026auto=compress%2Cformat\\\\u0026lossless=0\\\\u0026w=48\\\\u0026s=499188964d761f487970dc5f7be40f6f\",\"urlName\":\"okaeri_ryoma\"}}},{\"followingLikers\":[],\"isLikedByViewer\":false,\"isNewArrival\":false,\"hasCodeBlock\":true,\"node\":{\"createdAt\":\"2020-02-22T10:27:59Z\",\"likesCount\":11,\"title\":\"[取り置き機能]某フリマアプリにオリジナル機能を実装してみた。\",\"uuid\":\"2f690056f417ccb6494a\",\"author\":{\"profileImageUrl\":\"https://qiita-user-profile-images.imgix.net/https%3A%2F%2Fs3-ap-northeast-1.amazonaws.com%2Fqiita-image-store%2F0%2F513632%2F23beec638a6d4e58026b49848607e922b24a1c34%2Flarge.png%3F1573476437?ixlib=rb-1.2.2\\\\u0026auto=compress%2Cformat\\\\u0026lossless=0\\\\u0026w=48\\\\u0026s=6cfb64c6a6b15e1b77adfb2085b97bbc\",\"urlName\":\"Tatsu88\"}}},{\"followingLikers\":[],\"isLikedByViewer\":false,\"isNewArrival\":false,\"hasCodeBlock\":true,\"node\":{\"createdAt\":\"2020-02-22T05:06:10Z\",\"likesCount\":24,\"title\":\"ROS2で3D LiDARを用いたGraph SLAMによる三次元地図作成\",\"uuid\":\"c1ad2e746a92b4808a10\",\"author\":{\"profileImageUrl\":\"https://qiita-user-profile-images.imgix.net/https%3A%2F%2Fqiita-image-store.s3.ap-northeast-1.amazonaws.com%2F0%2F229952%2Fprofile-images%2F1561024628?ixlib=rb-1.2.2\\\\u0026auto=compress%2Cformat\\\\u0026lossless=0\\\\u0026w=48\\\\u0026s=17a3f9a0239660b06e4f36b993ee4cd8\",\"urlName\":\"saitosasaki\"}}},{\"followingLikers\":[],\"isLikedByViewer\":false,\"isNewArrival\":true,\"hasCodeBlock\":true,\"node\":{\"createdAt\":\"2020-02-23T08:08:23Z\",\"likesCount\":6,\"title\":\"Unity オンラインゲームにMicrosoft Azure Functions C# と PlayFab はいかが？\",\"uuid\":\"ea909e37b82731a91ffe\",\"author\":{\"profileImageUrl\":\"https://qiita-user-profile-images.imgix.net/https%3A%2F%2Fqiita-image-store.s3.ap-northeast-1.amazonaws.com%2F0%2F106364%2Fprofile-images%2F1578186607?ixlib=rb-1.2.2\\\\u0026auto=compress%2Cformat\\\\u0026lossless=0\\\\u0026w=48\\\\u0026s=487f307e68fe68884abfb9b084415f0f\",\"urlName\":\"simplestar\"}}}]},\"scope\":\"daily\"}'"
      ]
     },
     "execution_count": 45,
     "metadata": {},
     "output_type": "execute_result"
    }
   ],
   "source": [
    "dic = tr_item[0][\"data-hyperapp-props\"]\n",
    "dic"
   ]
  },
  {
   "cell_type": "code",
   "execution_count": 46,
   "metadata": {},
   "outputs": [
    {
     "data": {
      "text/plain": [
       "str"
      ]
     },
     "execution_count": 46,
     "metadata": {},
     "output_type": "execute_result"
    }
   ],
   "source": [
    "type(dic)"
   ]
  },
  {
   "cell_type": "code",
   "execution_count": 47,
   "metadata": {},
   "outputs": [
    {
     "data": {
      "text/plain": [
       "dict"
      ]
     },
     "execution_count": 47,
     "metadata": {},
     "output_type": "execute_result"
    }
   ],
   "source": [
    "import json\n",
    "json = json.loads(dic)\n",
    "type(json)"
   ]
  },
  {
   "cell_type": "code",
   "execution_count": 52,
   "metadata": {},
   "outputs": [
    {
     "data": {
      "text/plain": [
       "{'createdAt': '2020-02-20T23:05:45Z',\n",
       " 'likesCount': 233,\n",
       " 'title': '最も低コストでプロダクトを公開したい',\n",
       " 'uuid': 'cea8c095fe8680ab12f3',\n",
       " 'author': {'profileImageUrl': 'https://qiita-user-profile-images.imgix.net/https%3A%2F%2Fqiita-image-store.s3.amazonaws.com%2F0%2F259302%2Fprofile-images%2F1529881665?ixlib=rb-1.2.2&auto=compress%2Cformat&lossless=0&w=48&s=c7b990ffe71d0080e68527ab4fa80a41',\n",
       "  'urlName': 'Taro_man'}}"
      ]
     },
     "execution_count": 52,
     "metadata": {},
     "output_type": "execute_result"
    }
   ],
   "source": [
    "top_trend = json['trend']\n",
    "top_trend"
   ]
  },
  {
   "cell_type": "code",
   "execution_count": null,
   "metadata": {},
   "outputs": [],
   "source": []
  },
  {
   "cell_type": "markdown",
   "metadata": {},
   "source": [
    "# A. 予備資料"
   ]
  },
  {
   "cell_type": "code",
   "execution_count": null,
   "metadata": {},
   "outputs": [],
   "source": [
    "url = \"https://qiita.com/\"\n",
    "r_6 = requests.get(url)"
   ]
  },
  {
   "cell_type": "code",
   "execution_count": null,
   "metadata": {},
   "outputs": [],
   "source": [
    "r_6.headers"
   ]
  },
  {
   "cell_type": "code",
   "execution_count": null,
   "metadata": {},
   "outputs": [],
   "source": [
    "from cachecontrol import CacheControl"
   ]
  },
  {
   "cell_type": "code",
   "execution_count": null,
   "metadata": {},
   "outputs": [],
   "source": [
    "session = requests.session()\n",
    "cached_session = CacheControl(session)"
   ]
  },
  {
   "cell_type": "code",
   "execution_count": null,
   "metadata": {},
   "outputs": [],
   "source": [
    "response = cached_session.get(\"https://docs.python.org/3/\")\n",
    "print(response.from_cache)"
   ]
  },
  {
   "cell_type": "code",
   "execution_count": null,
   "metadata": {},
   "outputs": [],
   "source": [
    "response.headers"
   ]
  },
  {
   "cell_type": "code",
   "execution_count": null,
   "metadata": {},
   "outputs": [],
   "source": [
    "response2 = cached_session.get(\"https://docs.python.org/3/\")\n",
    "print(response2.from_cache)"
   ]
  },
  {
   "cell_type": "code",
   "execution_count": null,
   "metadata": {},
   "outputs": [],
   "source": []
  }
 ],
 "metadata": {
  "kernelspec": {
   "display_name": ".venv",
   "language": "python",
   "name": ".venv"
  },
  "language_info": {
   "codemirror_mode": {
    "name": "ipython",
    "version": 3
   },
   "file_extension": ".py",
   "mimetype": "text/x-python",
   "name": "python",
   "nbconvert_exporter": "python",
   "pygments_lexer": "ipython3",
   "version": "3.6.9"
  }
 },
 "nbformat": 4,
 "nbformat_minor": 4
}
