{
 "cells": [
  {
   "cell_type": "markdown",
   "metadata": {},
   "source": [
    "# 1. Requestsの基礎\n",
    "tutorial\\\n",
    "https://requests-docs-ja.readthedocs.io/en/latest/user/quickstart/"
   ]
  },
  {
   "cell_type": "code",
   "execution_count": 1,
   "metadata": {},
   "outputs": [],
   "source": [
    "import requests"
   ]
  },
  {
   "cell_type": "code",
   "execution_count": 2,
   "metadata": {},
   "outputs": [],
   "source": [
    "r = requests.get('https://akademia.tech')"
   ]
  },
  {
   "cell_type": "code",
   "execution_count": 3,
   "metadata": {},
   "outputs": [
    {
     "data": {
      "text/plain": [
       "requests.models.Response"
      ]
     },
     "execution_count": 3,
     "metadata": {},
     "output_type": "execute_result"
    }
   ],
   "source": [
    "type(r)"
   ]
  },
  {
   "cell_type": "code",
   "execution_count": 4,
   "metadata": {},
   "outputs": [
    {
     "data": {
      "text/plain": [
       "{'Server': 'nginx/1.14.0 (Ubuntu)', 'Date': 'Fri, 21 Feb 2020 21:54:48 GMT', 'Content-Type': 'text/html; charset=utf-8', 'Transfer-Encoding': 'chunked', 'Connection': 'keep-alive', 'X-Frame-Options': 'DENY', 'Vary': 'Cookie', 'X-Content-Type-Options': 'nosniff', 'Set-Cookie': 'csrftoken=1BFEjktg97PmkinUBS1AxOvgN4rAB4u5y4OtM8Xk5Zb9dfgcIvSTd5Sx122xeYNK; expires=Fri, 19 Feb 2021 21:54:48 GMT; Max-Age=31449600; Path=/; SameSite=Lax', 'Cache-Control': 'max-age=0, must-revalidate, no-cache, no-store, private', 'Content-Encoding': 'gzip'}"
      ]
     },
     "execution_count": 4,
     "metadata": {},
     "output_type": "execute_result"
    }
   ],
   "source": [
    "r.headers"
   ]
  },
  {
   "cell_type": "code",
   "execution_count": 5,
   "metadata": {
    "collapsed": true,
    "jupyter": {
     "outputs_hidden": true
    }
   },
   "outputs": [
    {
     "data": {
      "text/plain": [
       "'\\n<!DOCTYPE html>\\n<html lang=\"ja\">\\n  <head>\\n    <meta charset=\"utf-8\" />\\n    <meta name=\"viewport\" content=\"width=device-width, initial-scale=1.0\" />\\n    <meta http-equiv=\"X-UA-Compatible\" content=\"ie=edge\" />\\n    \\n<meta\\n  name=\"description\"\\n  content=\"京都大学の工学部と経済学部を中心にIT(プログラミング)と学問とビジネスを繋ぐサークル、AkaDeMiAの紹介ページ。団体理念や活動内容、メンバーの一覧など。\"\\n/>\\n\\n    <link rel=\"icon\" href=\"/static/akademia_web/img/favicon.ico\" />\\n    <link\\n      rel=\"stylesheet\"\\n      href=\"/static/akademia_web/scss/main.css\"\\n    />\\n    \\n    <title>京都大学のITビジネス系学生団体AkaDeMiA</title>\\n    <!-- Global site tag (gtag.js) - Google Analytics -->\\n    <script\\n      async\\n      src=\"https://www.googletagmanager.com/gtag/js?id=UA-135958147-2\"\\n    ></script>\\n    <script>\\n      window.dataLayer = window.dataLayer || [];\\n      function gtag() {\\n        dataLayer.push(arguments);\\n      }\\n      gtag(\"js\", new Date());\\n      gtag(\"config\", \"UA-135958147-2\");\\n    </script>\\n  </head>\\n  <body>\\n    <div class=\"logo-left-pc\">\\n      <picture>\\n        <a href=\"/\">\\n          <img src=\"/static/akademia_web/svg/logo.svg\" alt=\"AkaDeMiA\" />\\n        </a>\\n      </picture>\\n    </div>\\n    \\n<div class=\"nav-right\">\\n  <div class=\"nav-links\">\\n    <div class=\"nav-links__item\" id=\"link-top\">\\n      <a href=\"#top\" class=\"\"\\n        ><img\\n          class=\"nav-right--img\"\\n          src=\"/static/akademia_web/svg/top.svg\"\\n      /></a>\\n      <div></div>\\n    </div>\\n    <div class=\"nav-links__item\" id=\"link-about\">\\n      <a href=\"#about\"\\n        ><img\\n          class=\"nav-right--img\"\\n          src=\"/static/akademia_web/svg/about.svg\"\\n      /></a>\\n      <div></div>\\n    </div>\\n    <div class=\"nav-links__item\" id=\"link-history\">\\n      <a href=\"#history\"\\n        ><img\\n          class=\"nav-right--img\"\\n          src=\"/static/akademia_web/svg/history.svg\"\\n      /></a>\\n      <div></div>\\n    </div>\\n    <div class=\"nav-links__item\" id=\"link-philosophy\">\\n      <a href=\"#philosophy\"\\n        ><img\\n          class=\"nav-right--img\"\\n          src=\"/static/akademia_web/svg/philosophy.svg\"\\n      /></a>\\n      <div></div>\\n    </div>\\n    <div class=\"nav-links__item\" id=\"link-event\">\\n      <a href=\"#event\"\\n        ><img\\n          class=\"nav-right--img\"\\n          src=\"/static/akademia_web/svg/event.svg\"\\n      /></a>\\n      <div></div>\\n    </div>\\n    <div class=\"nav-links__item\" id=\"link-blog\">\\n      <a href=\"#blog\"\\n        ><img\\n          class=\"nav-right--img\"\\n          src=\"/static/akademia_web/svg/blog.svg\"\\n      /></a>\\n      <div></div>\\n    </div>\\n    <div class=\"nav-links__item\" id=\"link-members\">\\n      <a href=\"#members\"\\n        ><img\\n          class=\"nav-right--img\"\\n          src=\"/static/akademia_web/svg/members.svg\"\\n      /></a>\\n      <div></div>\\n    </div>\\n    <div class=\"nav-links__item\" id=\"link-products\">\\n      <a href=\"#products\"\\n        ><img\\n          class=\"nav-right--img\"\\n          src=\"/static/akademia_web/svg/products.svg\"\\n      /></a>\\n      <div></div>\\n    </div>\\n    <div class=\"nav-links__item\" id=\"link-contact\">\\n      <a href=\"#contact\"\\n        ><img\\n          class=\"nav-right--img\"\\n          src=\"/static/akademia_web/svg/contact.svg\"\\n      /></a>\\n      <div></div>\\n    </div>\\n  </div>\\n</div>\\n\\n<div class=\"logo-menu-sp\" id=\"menu_btn\">\\n  <picture>\\n    <img\\n      src=\"/static/akademia_web/svg/logo_sp_menu.svg\"\\n      alt=\"AkaDeMiA\"\\n    />\\n  </picture>\\n</div>\\n<div class=\"popup-menu-wrapper\" id=\"menu\">\\n  <img\\n    class=\"delete_mark\"\\n    src=\"/static/akademia_web/svg/delete.svg\"\\n    id=\"delete_mark\"\\n  />\\n  <div class=\"menu-links\">\\n    <div class=\"menu-links__item\">\\n      <a href=\"#top\" class=\"\" id=\"top-btn\"\\n        ><svg\\n          class=\"menu-links__name\"\\n          xmlns=\"http://www.w3.org/2000/svg\"\\n          viewBox=\"0 0 59.87 21.42\"\\n        >\\n          <defs>\\n            <style>\\n              .cls-1 {\\n                fill: #fff;\\n                stroke: #fff;\\n              }\\n              path {\\n                fill-opacity: 1;\\n              }\\n            </style>\\n          </defs>\\n          <title>top</title>\\n          <g id=\"レイヤー_2\" data-name=\"レイヤー 2\">\\n            <g id=\"レイヤー_1-2\" data-name=\"レイヤー 1\">\\n              <g\\n                id=\"TOP_ABOUT_HISTORY_PHILOSOPHY_EVENT_BLOG_MEMBERS_PRODUCTS_CONTACT\"\\n                data-name=\"TOP ABOUT HISTORY PHILOSOPHY EVENT BLOG MEMBERS PRODUCTS CONTACT\"\\n              >\\n                <path class=\"cls-1\" d=\"M15.29.18V4H0V.18Zm-9.63,7h4v14h-4Z\" />\\n                <path\\n                  class=\"cls-1\"\\n                  d=\"M39.26,10.71c0,6-4.14,10.71-10.17,10.71s-10.2-4.68-10.2-10.71S23.06,0,29.09,0,39.26,4.68,39.26,10.71Zm-4.08,0C35.18,6.87,32.9,4,29.09,4S23,6.87,23,10.71s2.28,6.72,6.12,6.72S35.18,14.55,35.18,10.71Zm-4.08,0a2,2,0,1,1-2-2A2,2,0,0,1,31.1,10.71Z\"\\n                />\\n                <path\\n                  class=\"cls-1\"\\n                  d=\"M59.87,7.08c0,3.84-2.61,6.9-7.29,6.9H48.8v7.2h-4v-11h7.68A3.08,3.08,0,1,0,52.83,4a2,2,0,0,0-.35,0H44.8V.19h7.82C57.26.18,59.87,3.24,59.87,7.08Z\"\\n                />\\n              </g>\\n            </g>\\n          </g></svg\\n      ></a>\\n    </div>\\n    <div class=\"menu-links__item\">\\n      <a href=\"#about\" id=\"about-btn\"\\n        ><svg\\n          class=\"menu-links__name\"\\n          xmlns=\"http://www.w3.org/2000/svg\"\\n          viewBox=\"0 0 671.6 142.8\"\\n        >\\n          <defs>\\n            <style>\\n              .cls-1 {\\n                fill: #fff;\\n              }\\n            </style>\\n          </defs>\\n          <title>about</title>\\n          <g id=\"レイヤー_2\" data-name=\"レイヤー 2\">\\n            <g id=\"レイヤー_1-2\" data-name=\"レイヤー 1\">\\n              <g id=\"ABOUT\">\\n                <path\\n                  class=\"cls-1\"\\n                  d=\"M129.6,141.2H99.4L64.8,41.2l-34.6,100H0L51.2,1.2H78.4Z\"\\n                />\\n                <path\\n                  class=\"cls-1\"\\n                  d=\"M252.8,98.4c0,24.6-16,42.8-46.8,42.8H152.6V55.6h50.6c10.4,0,14.8-6.8,14.8-14.4s-4.4-14.4-14.8-14.4H152.6V1.2h50c26.8,0,42.6,18.2,42.6,40,0,10.2-5,19.4-12.6,26.2C244.8,73.4,252.8,83.8,252.8,98.4Zm-27.8,0c0-10-6.6-17.4-19-17.4H179.2v34.8H206C218.4,115.8,225,108.4,225,98.4Z\"\\n                />\\n                <path\\n                  class=\"cls-1\"\\n                  d=\"M410.6,71.4c0,40.2-27.6,71.4-67.8,71.4s-68-31.2-68-71.4S302.6,0,342.8,0,410.6,31.2,410.6,71.4Zm-27.2,0c0-25.6-15.2-44.8-40.6-44.8-25.6,0-40.8,19.2-40.8,44.8s15.2,44.8,40.8,44.8C368.2,116.2,383.4,97,383.4,71.4Zm-27.2,0a13.5,13.5,0,1,1-13.4-13.6,13.5,13.5,0,0,1,13.4,13.6Z\"\\n                />\\n                <path\\n                  class=\"cls-1\"\\n                  d=\"M463.2,23.8H436.6V1.2h26.6Zm54,59.2,26.2,11.4c-3.2,30.2-23.4,48.4-53.2,48.4-32.6,0-53.6-21.6-53.6-56.6V43.4h26.6V85.6c0,19,10.2,30.6,27,30.6,16.6,0,27-11.6,27-30.6ZM543.8,1.2V70.8L517.2,59.2V1.2Z\"\\n                />\\n                <path\\n                  class=\"cls-1\"\\n                  d=\"M671.6,1.2V26.8h-102V1.2ZM607.4,47.6H634v93.6H607.4Z\"\\n                />\\n              </g>\\n            </g>\\n          </g></svg\\n      ></a>\\n    </div>\\n    <div class=\"menu-links__item\">\\n      <a href=\"#history\" id=\"history-btn\"\\n        ><svg\\n          class=\"menu-links__name\"\\n          xmlns=\"http://www.w3.org/2000/svg\"\\n          viewBox=\"0 0 830.79 143.61\"\\n        >\\n          <defs>\\n            <style>\\n              .cls-1 {\\n                fill: #fff;\\n              }\\n            </style>\\n          </defs>\\n          <title>history</title>\\n          <g id=\"レイヤー_2\" data-name=\"レイヤー 2\">\\n            <g id=\"レイヤー_1-2\" data-name=\"レイヤー 1\">\\n              <g id=\"HISTORY\">\\n                <path\\n                  class=\"cls-1\"\\n                  d=\"M109.6,58.6v82.6H83V84H0V1.2H26.6V58.6ZM0,103.6H26.6v37.6H0ZM109.6,1.2V38.8H83V1.2Z\"\\n                />\\n                <path\\n                  class=\"cls-1\"\\n                  d=\"M168.2,1.2V23.8H141.6V1.2ZM141.6,43.4h26.6v97.8H141.6Z\"\\n                />\\n                <path\\n                  class=\"cls-1\"\\n                  d=\"M217.6,99.4c1,4,3.4,8.4,9.6,12.2L218,137c-13.8-6.4-22.6-16.6-24.8-28.2Zm82.8,1.2c0,23.2-16.2,43.4-52.4,43a87,87,0,0,1-10.2-.6l9-26.4c15.4-.6,25.2-6.8,25.2-14.8,0-8.6-6.2-12-29.6-19C210,73,197,61,197,40.4,197,22,210.4,0,246.4,0a62.83,62.83,0,0,1,17.4,2.4l-16.4,24H246c-13,0-20.8,5.2-20.8,13,0,6.6,5.6,11,27.2,17.6C279.6,65.2,300.4,74.8,300.4,100.6Z\"\\n                />\\n                <path\\n                  class=\"cls-1\"\\n                  d=\"M417.2,1.2V26.8h-102V1.2ZM353,47.6h26.6v93.6H353Z\"\\n                />\\n                <path\\n                  class=\"cls-1\"\\n                  d=\"M567,71.4c0,40.2-27.6,71.4-67.8,71.4s-68-31.2-68-71.4S459,0,499.2,0,567,31.2,567,71.4Zm-27.2,0c0-25.6-15.2-44.8-40.6-44.8-25.6,0-40.8,19.2-40.8,44.8s15.2,44.8,40.8,44.8c25.4,0,40.6-19.2,40.6-44.8Zm-27.2,0a13.5,13.5,0,1,1-13.4-13.6,13.5,13.5,0,0,1,13.4,13.6Z\"\\n                />\\n                <path\\n                  class=\"cls-1\"\\n                  d=\"M640,93.2H620.6v48H594V67.8h51.2c13.2,0,21.6-8.6,21.6-20.6s-8.4-20.4-21.6-20.4H594V1.2h51.8c31.2,0,48.6,20.4,48.6,46,0,18.8-9.2,34.8-26.6,42l30,52h-30Z\"\\n                />\\n                <path\\n                  class=\"cls-1\"\\n                  d=\"M830.79,1.2,782.19,88H755.6L706.8,1.2h30.6l31.4,58.2L800.4,1.2Zm-75.19,110h26.59v30H755.6Z\"\\n                />\\n              </g>\\n            </g>\\n          </g></svg\\n      ></a>\\n    </div>\\n    <div class=\"menu-links__item\">\\n      <a href=\"#philosophy\" id=\"philosophy-btn\"\\n        ><svg\\n          class=\"menu-links__name\"\\n          xmlns=\"http://www.w3.org/2000/svg\"\\n          viewBox=\"0 0 1252.39 143.61\"\\n        >\\n          <defs>\\n            <style>\\n              .cls-1 {\\n                fill: #fff;\\n              }\\n            </style>\\n          </defs>\\n          <title>philosophy</title>\\n          <g id=\"レイヤー_2\" data-name=\"レイヤー 2\">\\n            <g id=\"レイヤー_1-2\" data-name=\"レイヤー 1\">\\n              <g id=\"PHILOSOPHY\">\\n                <path\\n                  class=\"cls-1\"\\n                  d=\"M100.4,47.2c0,25.6-17.4,46-48.6,46H26.6v48H0V67.8H51.2C64.6,67.8,73,59.2,73,47.2S64.6,26.8,51.2,26.8H0V1.2H51.8C83,1.2,100.4,21.6,100.4,47.2Z\"\\n                />\\n                <path\\n                  class=\"cls-1\"\\n                  d=\"M237,58.6v82.6H210.4V84h-83V1.2H154V58.6Zm-109.6,45H154v37.6H127.4ZM237,1.2V38.8H210.4V1.2Z\"\\n                />\\n                <path\\n                  class=\"cls-1\"\\n                  d=\"M295.6,1.2V23.8H269V1.2ZM269,43.4h26.6v97.8H269Z\"\\n                />\\n                <path\\n                  class=\"cls-1\"\\n                  d=\"M354.2,23.8H327.6V1.2h26.6Zm0,73.4-26.6,26.4V43.4h26.6Zm57.39,18.6v25.4H339.2L365,115.8Z\"\\n                />\\n                <path\\n                  class=\"cls-1\"\\n                  d=\"M561.39,71.4c0,40.2-27.6,71.4-67.8,71.4s-68-31.2-68-71.4S453.39,0,493.59,0,561.39,31.2,561.39,71.4Zm-27.2,0c0-25.6-15.2-44.8-40.6-44.8C468,26.6,452.8,45.8,452.8,71.4s15.2,44.8,40.79,44.8C519,116.2,534.19,97,534.19,71.4Zm-27.2,0a13.5,13.5,0,1,1-13.4-13.6A13.5,13.5,0,0,1,507,71.4Z\"\\n                />\\n                <path\\n                  class=\"cls-1\"\\n                  d=\"M604.8,99.4c1,4,3.4,8.4,9.6,12.2L605.2,137c-13.8-6.4-22.6-16.6-24.8-28.2Zm82.79,1.2c0,23.2-16.19,43.4-52.39,43A87,87,0,0,1,625,143l9-26.4c15.4-.6,25.2-6.8,25.2-14.8,0-8.6-6.2-12-29.6-19C597.2,73,584.2,61,584.2,40.4,584.2,22,597.6,0,633.6,0A62.83,62.83,0,0,1,651,2.4l-16.4,24h-1.4c-13,0-20.8,5.2-20.8,13,0,6.6,5.6,11,27.2,17.6,27.2,8.2,48,17.8,48,43.6Z\"\\n                />\\n                <path\\n                  class=\"cls-1\"\\n                  d=\"M843.4,71.4c0,40.2-27.6,71.4-67.8,71.4s-68-31.2-68-71.4S735.4,0,775.6,0,843.4,31.2,843.4,71.4Zm-27.2,0c0-25.6-15.2-44.8-40.6-44.8-25.6,0-40.8,19.2-40.8,44.8s15.2,44.8,40.8,44.8C801,116.2,816.2,97,816.2,71.4Zm-27.2,0a13.5,13.5,0,1,1-13.4-13.6A13.5,13.5,0,0,1,789,71.4Z\"\\n                />\\n                <path\\n                  class=\"cls-1\"\\n                  d=\"M970.8,47.2c0,25.6-17.4,46-48.6,46H897v48H870.4V67.8h51.2c13.4,0,21.8-8.6,21.8-20.6S935,26.8,921.6,26.8H870.4V1.2h51.8C953.4,1.2,970.8,21.6,970.8,47.2Z\"\\n                />\\n                <path\\n                  class=\"cls-1\"\\n                  d=\"M1107.4,58.6v82.6h-26.6V84h-83V1.2h26.6V58.6Zm-109.6,45h26.6v37.6H997.8ZM1107.4,1.2V38.8h-26.6V1.2Z\"\\n                />\\n                <path\\n                  class=\"cls-1\"\\n                  d=\"M1252.39,1.2,1203.79,88h-26.6L1128.4,1.2H1159l31.39,58.2L1222,1.2Zm-75.2,110h26.6v30h-26.6Z\"\\n                />\\n              </g>\\n            </g>\\n          </g></svg\\n      ></a>\\n    </div>\\n    <div class=\"menu-links__item\">\\n      <a href=\"#event\" id=\"event-btn\"\\n        ><svg\\n          class=\"menu-links__name\"\\n          xmlns=\"http://www.w3.org/2000/svg\"\\n          viewBox=\"0 0 628.2 142.8\"\\n        >\\n          <defs>\\n            <style>\\n              .cls-1 {\\n                fill: #fff;\\n              }\\n            </style>\\n          </defs>\\n          <title>event</title>\\n          <g id=\"レイヤー_2\" data-name=\"レイヤー 2\">\\n            <g id=\"レイヤー_1-2\" data-name=\"レイヤー 1\">\\n              <g id=\"EVENT\">\\n                <path\\n                  class=\"cls-1\"\\n                  d=\"M91.8,26.8H0V1.2H91.8ZM85.6,84H0V58.6H85.6ZM93,115.8v25.4H0V115.8Z\"\\n                />\\n                <path\\n                  class=\"cls-1\"\\n                  d=\"M169.2,66.8l-14,40.4L117,1.2h29.6ZM245.4,1.2l-50.6,140H167.6V141L215.8,1.2Z\"\\n                />\\n                <path\\n                  class=\"cls-1\"\\n                  d=\"M360.2,26.8H268.4V1.2h91.8ZM354,84H268.4V58.6H354Zm7.4,31.8v25.4h-93V115.8Z\"\\n                />\\n                <path\\n                  class=\"cls-1\"\\n                  d=\"M472.8,1.2h26.6V142.8h-1.8L417,62.8v78.4H390.4V0h1.8l80.6,79.8Z\"\\n                />\\n                <path\\n                  class=\"cls-1\"\\n                  d=\"M628.2,1.2V26.8h-102V1.2ZM564,47.6h26.6v93.6H564Z\"\\n                />\\n              </g>\\n            </g>\\n          </g></svg\\n      ></a>\\n    </div>\\n    <div class=\"menu-links__item\">\\n      <a href=\"#blog\" id=\"blog-btn\"\\n        ><svg\\n          class=\"menu-links__name\"\\n          xmlns=\"http://www.w3.org/2000/svg\"\\n          viewBox=\"0 0 510 143.32\"\\n        >\\n          <defs>\\n            <style>\\n              .cls-1 {\\n                fill: #fff;\\n              }\\n            </style>\\n          </defs>\\n          <title>blog</title>\\n          <g id=\"レイヤー_2\" data-name=\"レイヤー 2\">\\n            <g id=\"レイヤー_1-2\" data-name=\"レイヤー 1\">\\n              <g id=\"BLOG\">\\n                <path\\n                  class=\"cls-1\"\\n                  d=\"M100.2,98.5c0,24.6-16,42.8-46.8,42.8H0V55.7H50.6c10.4,0,14.8-6.8,14.8-14.4S61,26.9,50.6,26.9H0V1.3H50c26.8,0,42.6,18.2,42.6,40,0,10.2-5,19.4-12.6,26.2C92.2,73.5,100.2,83.9,100.2,98.5Zm-27.8,0c0-10-6.6-17.4-19-17.4H26.6v34.8H53.4c12.4,0,19-7.4,19-17.4Z\"\\n                />\\n                <path\\n                  class=\"cls-1\"\\n                  d=\"M153.8,23.9H127.2V1.3h26.6Zm0,73.4-26.6,26.4V43.5h26.6Zm57.4,18.6v25.4H138.8l25.8-25.4Z\"\\n                />\\n                <path\\n                  class=\"cls-1\"\\n                  d=\"M361,71.5c0,40.2-27.6,71.4-67.8,71.4s-68-31.2-68-71.4S253,.1,293.2.1,361,31.3,361,71.5Zm-27.2,0c0-25.6-15.2-44.8-40.6-44.8-25.6,0-40.8,19.2-40.8,44.8s15.2,44.8,40.8,44.8C318.6,116.3,333.8,97.1,333.8,71.5Zm-27.2,0a13.5,13.5,0,1,1-13.4-13.6A13.5,13.5,0,0,1,306.6,71.5Z\"\\n                />\\n                <path\\n                  class=\"cls-1\"\\n                  d=\"M510,58.5v63.2c-10.2,13.8-35.2,23.8-60.4,21.2-40-4.2-65.6-31.2-65.6-71.4S410,2.3,450.6.1c22-1,42.4,5.4,55.2,15.6L492,35.1a71,71,0,0,0-40.8-8.8c-22.8.8-40,19.6-40,45.2s15.4,41.4,40.6,44.8c13.8,1.8,25.4-.8,32.6-6.2V58.5Z\"\\n                />\\n              </g>\\n            </g>\\n          </g></svg\\n      ></a>\\n    </div>\\n    <div class=\"menu-links__item\">\\n      <a href=\"#members\" id=\"members-btn\"\\n        ><svg\\n          class=\"menu-links__name\"\\n          xmlns=\"http://www.w3.org/2000/svg\"\\n          viewBox=\"0 0 938 143.61\"\\n        >\\n          <defs>\\n            <style>\\n              .cls-1 {\\n                fill: #fff;\\n              }\\n            </style>\\n          </defs>\\n          <title>members</title>\\n          <g id=\"レイヤー_2\" data-name=\"レイヤー 2\">\\n            <g id=\"レイヤー_1-2\" data-name=\"レイヤー 1\">\\n              <g id=\"MEMBERS\">\\n                <path\\n                  class=\"cls-1\"\\n                  d=\"M137.4,0V141.2H110.8V65.6L69.4,109.8H67.6l-41-44.2v75.6H0V0H1.6l67,74,67-74Z\"\\n                />\\n                <path\\n                  class=\"cls-1\"\\n                  d=\"M262.4,115.8v25.4h-93V115.8ZM255,84H169.4V58.6H255Zm6.2-57.2H169.4V1.2h91.8Z\"\\n                />\\n                <path\\n                  class=\"cls-1\"\\n                  d=\"M428.8,0V141.2H402.2V65.6l-41.4,44.2H359L318,65.6v75.6H291.4V0H293l67,74L427,0Z\"\\n                />\\n                <path\\n                  class=\"cls-1\"\\n                  d=\"M561,98.4c0,24.6-16,42.8-46.8,42.8H460.8V55.6h50.6c10.4,0,14.8-6.8,14.8-14.4s-4.4-14.4-14.8-14.4H460.8V1.2h50c26.8,0,42.6,18.2,42.6,40,0,10.2-5,19.4-12.6,26.2C553,73.4,561,83.8,561,98.4Zm-27.8,0c0-10-6.6-17.4-19-17.4H487.4v34.8h26.8C526.6,115.8,533.2,108.4,533.2,98.4Z\"\\n                />\\n                <path\\n                  class=\"cls-1\"\\n                  d=\"M681,115.8v25.4H588V115.8ZM673.6,84H588V58.6h85.6Zm6.2-57.2H588V1.2h91.8Z\"\\n                />\\n                <path\\n                  class=\"cls-1\"\\n                  d=\"M756,93.2H736.6v48H710V67.8h51.2c13.2,0,21.6-8.6,21.6-20.6s-8.4-20.4-21.6-20.4H710V1.2h51.8c31.2,0,48.6,20.4,48.6,46,0,18.8-9.2,34.8-26.6,42l30,52h-30Z\"\\n                />\\n                <path\\n                  class=\"cls-1\"\\n                  d=\"M938,100.6c0,23.2-16.2,43.4-52.4,43a87,87,0,0,1-10.2-.6l9-26.4c15.4-.6,25.2-6.8,25.2-14.8,0-8.6-6.2-12-29.6-19C847.6,73,834.6,61,834.6,40.4,834.6,22,848,0,884,0a62.83,62.83,0,0,1,17.4,2.4L885,26.4h-1.4c-13,0-20.8,5.2-20.8,13,0,6.6,5.6,11,27.2,17.6C917.2,65.2,938,74.8,938,100.6Zm-82.8-1.2c1,4,3.4,8.4,9.6,12.2L855.6,137c-13.8-6.4-22.6-16.6-24.8-28.2Z\"\\n                />\\n              </g>\\n            </g>\\n          </g></svg\\n      ></a>\\n    </div>\\n    <div class=\"menu-links__item\">\\n      <a href=\"#products\" id=\"products-btn\"\\n        ><svg\\n          class=\"menu-links__name\"\\n          xmlns=\"http://www.w3.org/2000/svg\"\\n          viewBox=\"0 0 1065.42 143.61\"\\n        >\\n          <defs>\\n            <style>\\n              .cls-1 {\\n                fill: #fff;\\n              }\\n            </style>\\n          </defs>\\n          <title>products</title>\\n          <g id=\"レイヤー_2\" data-name=\"レイヤー 2\">\\n            <g id=\"レイヤー_1-2\" data-name=\"レイヤー 1\">\\n              <g id=\"PRODUCTS\">\\n                <path\\n                  class=\"cls-1\"\\n                  d=\"M100.4,47.2c0,25.6-17.4,46-48.6,46H26.6v48H0V67.8H51.2C64.6,67.8,73,59.2,73,47.2S64.6,26.8,51.2,26.8H0V1.2H51.8C83,1.2,100.4,21.6,100.4,47.2Z\"\\n                />\\n                <path\\n                  class=\"cls-1\"\\n                  d=\"M173.4,93.2H154v48H127.4V67.8h51.2c13.2,0,21.6-8.6,21.6-20.6s-8.4-20.4-21.6-20.4H127.4V1.2h51.8c31.2,0,48.6,20.4,48.6,46,0,18.8-9.2,34.8-26.6,42l30,52h-30Z\"\\n                />\\n                <path\\n                  class=\"cls-1\"\\n                  d=\"M385,71.4c0,40.2-27.6,71.4-67.8,71.4s-68-31.2-68-71.4S277,0,317.23,0,385,31.2,385,71.4Zm-27.2,0c0-25.6-15.2-44.8-40.6-44.8-25.6,0-40.8,19.2-40.8,44.8s15.2,44.8,40.8,44.8C342.63,116.2,357.83,97,357.83,71.4Zm-27.2,0a13.5,13.5,0,1,1-13.4-13.6A13.5,13.5,0,0,1,330.63,71.4Z\"\\n                />\\n                <path\\n                  class=\"cls-1\"\\n                  d=\"M530.4,71.2c0,41-27,70-73.4,70H412V75.6h26.6v40.2h17.8c29.4,0,47.4-17.8,47.4-44.6,0-26.6-18-44.4-47.4-44.4H412V1.2h45C503.4,1.2,530.4,30.4,530.4,71.2Z\"\\n                />\\n                <path\\n                  class=\"cls-1\"\\n                  d=\"M584,23.8H557.4V1.2H584ZM638,83l26.2,11.4c-3.2,30.2-23.4,48.4-53.2,48.4-32.63,0-53.63-21.6-53.63-56.6V43.4H584V85.6c0,19,10.19,30.6,27,30.6,16.61,0,27-11.6,27-30.6Zm26.6-81.8V70.8L638,59.2V1.2Z\"\\n                />\\n                <path\\n                  class=\"cls-1\"\\n                  d=\"M792.22,98l24.2,12c-11.4,20-32.2,32.8-58,32.8-40.2,0-67.8-31.2-67.8-71.4S718.22,0,758.42,0c25.8,0,46.6,13,58,32.8l-24.2,12c-6.8-11.2-18.4-18.2-33.8-18.2-25.4,0-40.6,19.2-40.6,44.8s15.2,44.8,40.6,44.8C773.82,116.2,785.4,109.2,792.22,98ZM759,58.2a13.5,13.5,0,1,1-13.5,13.5A13.49,13.49,0,0,1,759,58.2Z\"\\n                />\\n                <path\\n                  class=\"cls-1\"\\n                  d=\"M940.22,1.2V26.8h-102V1.2ZM876,47.6h26.6v93.6H876Z\"\\n                />\\n                <path\\n                  class=\"cls-1\"\\n                  d=\"M982.62,99.4c1,4,3.4,8.4,9.6,12.2L983,137c-13.8-6.4-22.6-16.6-24.8-28.2Zm82.8,1.2c0,23.2-16.2,43.4-52.4,43a87,87,0,0,1-10.2-.6l9-26.4c15.4-.6,25.2-6.8,25.2-14.8,0-8.6-6.2-12-29.6-19C975,73,962,61,962,40.4,962,22,975.42,0,1011.42,0a62.83,62.83,0,0,1,17.4,2.4l-16.4,24H1011c-13,0-20.8,5.2-20.8,13,0,6.6,5.6,11,27.2,17.6,27.2,8.2,48,17.8,48,43.6Z\"\\n                />\\n              </g>\\n            </g>\\n          </g></svg\\n      ></a>\\n    </div>\\n    <div class=\"menu-links__item\">\\n      <a href=\"#contact\" id=\"contact-btn\"\\n        ><svg\\n          class=\"menu-links__name\"\\n          xmlns=\"http://www.w3.org/2000/svg\"\\n          viewBox=\"0 0 937.6 142.8\"\\n        >\\n          <defs>\\n            <style>\\n              .cls-1 {\\n                fill: #fff;\\n              }\\n            </style>\\n          </defs>\\n          <title>contact</title>\\n          <g id=\"レイヤー_2\" data-name=\"レイヤー 2\">\\n            <g id=\"レイヤー_1-2\" data-name=\"レイヤー 1\">\\n              <g id=\"CONTACT\">\\n                <path\\n                  class=\"cls-1\"\\n                  d=\"M101.6,98l24.2,12c-11.4,20-32.2,32.8-58,32.8C27.6,142.8,0,111.6,0,71.4S27.6,0,67.8,0c25.8,0,46.6,13,58,32.8l-24.2,12C94.8,33.6,83.2,26.6,67.8,26.6c-25.4,0-40.6,19.2-40.6,44.8s15.2,44.8,40.6,44.8C83.2,116.2,94.8,109.2,101.6,98ZM68.4,58.2A13.5,13.5,0,1,1,54.9,71.7,13.49,13.49,0,0,1,68.4,58.2Z\"\\n                />\\n                <path\\n                  class=\"cls-1\"\\n                  d=\"M279.6,71.4c0,40.2-27.6,71.4-67.8,71.4s-68-31.2-68-71.4S171.6,0,211.8,0,279.6,31.2,279.6,71.4Zm-27.2,0c0-25.6-15.2-44.8-40.6-44.8-25.6,0-40.8,19.2-40.8,44.8s15.2,44.8,40.8,44.8c25.4,0,40.6-19.2,40.6-44.8Zm-27.2,0a13.5,13.5,0,1,1-13.4-13.6,13.5,13.5,0,0,1,13.4,13.6Z\"\\n                />\\n                <path\\n                  class=\"cls-1\"\\n                  d=\"M389,1.2h26.6V142.8h-1.8l-80.6-80v78.4H306.6V0h1.8L389,79.8Z\"\\n                />\\n                <path\\n                  class=\"cls-1\"\\n                  d=\"M544.4,1.2V26.8h-102V1.2ZM480.2,47.6h26.6v93.6H480.2Z\"\\n                />\\n                <path\\n                  class=\"cls-1\"\\n                  d=\"M676,141.2H645.8l-34.6-100-34.6,100H546.4l51.2-140h27.2Z\"\\n                />\\n                <path\\n                  class=\"cls-1\"\\n                  d=\"M789.6,98l24.2,12c-11.4,20-32.2,32.8-58,32.8-40.2,0-67.8-31.2-67.8-71.4S715.6,0,755.8,0c25.8,0,46.6,13,58,32.8l-24.2,12c-6.8-11.2-18.4-18.2-33.8-18.2-25.4,0-40.6,19.2-40.6,44.8s15.2,44.8,40.6,44.8C771.2,116.2,782.8,109.2,789.6,98ZM756.4,58.2a13.5,13.5,0,1,1-13.5,13.5A13.49,13.49,0,0,1,756.4,58.2Z\"\\n                />\\n                <path\\n                  class=\"cls-1\"\\n                  d=\"M937.6,1.2V26.8h-102V1.2ZM873.4,47.6H900v93.6H873.4Z\"\\n                />\\n              </g>\\n            </g>\\n          </g>\\n        </svg>\\n      </a>\\n    </div>\\n  </div>\\n</div>\\n\\n<div class=\"index-content\" id=\"top\">\\n  <div id=\"logo\" class=\"p-logo\">\\n    <svg\\n      id=\"logo_animation\"\\n      xmlns=\"http://www.w3.org/2000/svg\"\\n      width=\"200px\"\\n      viewBox=\"0 0 362.33 387.86\"\\n    >\\n      <defs>\\n        <style>\\n          .cls-1 {\\n            fill: transparent;\\n            stroke: #040000;\\n          }\\n          path {\\n            fill-opacity: 0;\\n            transition: fill-opacity 1s;\\n          }\\n          .fill path {\\n            fill: #040000;\\n            fill-opacity: 1;\\n            stroke: none;\\n          }\\n        </style>\\n      </defs>\\n      <g>\\n        <path\\n          class=\"cls-1\"\\n          d=\"M165,290.29V140.48L294.7,65.55,267.7,50,137.91,124.87V274.69Z\"\\n        />\\n        <path\\n          class=\"cls-1\"\\n          d=\"M78.46,240.35V90.52L208.18,15.6,181.18,0,51.42,74.93V224.75Z\"\\n        />\\n        <path\\n          class=\"cls-1\"\\n          d=\"M121.69,265.32V115.51L251.45,40.58l-27-15.6-129.78,75V249.72Z\"\\n        />\\n        <path\\n          class=\"cls-1\"\\n          d=\"M222.8,148.55c8.27-4.92,16.43-2.62,19.9,4.27L311,113.43V74.93L181.18,149.84V299.68l129.75-74.91V186.25l-68.29,39.43c-3.17,11-10.76,21.76-20,27.17-11,6.41-21.69.21-21.63-12.5.06-14.08,9.51-30.23,21.63-37.46,8.22-4.91,16.34-2.65,19.83,4.16L311,167.52V132.15l-68.17,39.34c-3.22,11-10.76,21.61-20,27-11,6.41-21.69.21-21.63-12.5C201.25,171.93,210.7,155.78,222.8,148.55Z\"\\n        />\\n        <path\\n          class=\"cls-1\"\\n          d=\"M68.87,369h-10v18.13H56V330.52h2.85v35.7H68l13.69-18.06h3.47L70.88,367l16.84,20.16H84.06Z\"\\n        />\\n        <path\\n          class=\"cls-1\"\\n          d=\"M124.18,361.2v26h-2.8v-8a18.39,18.39,0,0,1-15.95,8.58c-5.34,0-12.05-2.2-12.05-9.64,0-7.61,6.8-10.36,14.4-12.14,6.47-1.46,13.53-2.2,13.53-5.92,0-5.25-3.08-9.71-10.78-9.71-7.28,0-11.17,3.88-12.39,8.9l-2.75-.64c1.2-4.79,4.79-11,15.15-11C116.29,347.6,124.18,350.42,124.18,361.2Zm-2.75,4.53c-3.49.74-7.54,1.94-13,3-9,1.85-12.07,4.54-12.07,9.39,0,4.69,4.3,6.89,9.48,6.89,8.83,0,15.54-6.38,15.54-14.08Z\"\\n        />\\n        <path\\n          class=\"cls-1\"\\n          d=\"M183,358.84c0,16.6-10.93,28.32-29.71,28.32H135V360.62h10.78v16.31H153c11.91,0,19.19-7.22,19.19-18.06s-7.28-18-19.19-18H135V330.52h18.22C172,330.52,183,342.33,183,358.84Z\"\\n        />\\n        <path\\n          class=\"cls-1\"\\n          d=\"M197.28,371.56A8.7,8.7,0,0,0,206,378a8.56,8.56,0,0,0,7.22-3.47l8.9,4.37a18.33,18.33,0,0,1-16.12,9c-11.26,0-19.74-8.9-19.74-20.16s8.09-20.06,19.35-20.06,18.06,8.83,18.06,20.06a21.14,21.14,0,0,1-.33,3.89h-26Zm-.09-7.54h16.18c-.87-3.89-3.32-6.64-7.86-6.64s-7.33,2.75-8.33,6.64Z\"\\n        />\\n        <path\\n          class=\"cls-1\"\\n          d=\"M286.07,330v57.13H275.29V356.57l-16.76,17.9h-.72l-16.63-17.9v30.59H230.44V330h.64l27.1,29.9L285.31,330Z\"\\n        />\\n        <path\\n          class=\"cls-1\"\\n          d=\"M292.93,336.76A6,6,0,0,1,305,336.6v.16a6,6,0,0,1-12.07,0Z\"\\n        />\\n        <rect class=\"cls-1\" x=\"293.58\" y=\"348.16\" width=\"10.77\" height=\"39\" />\\n        <path\\n          class=\"cls-1\"\\n          d=\"M330.55,330.52l-20.72,56.64h12.23l19.49-56.64Z\"\\n        />\\n        <path class=\"cls-1\" d=\"M344.33,337.93l18,49.2H350.18l-11.33-33.32Z\" />\\n        <path class=\"cls-1\" d=\"M21.85,330.52,0,387.16H3l21.92-56.64\" />\\n        <path class=\"cls-1\" d=\"M24.9,338.45l18.84,48.71h3l-20.3-52.69Z\" />\\n      </g>\\n    </svg>\\n  </div>\\n\\n  <div id=\"about\" class=\"p-about\">\\n    <img class=\"bg_1\" src=\"/static/akademia_web/svg/asset01.svg\" />\\n    <img class=\"bg_2\" src=\"/static/akademia_web/svg/asset02.svg\" />\\n    <div class=\"p-about__title section-title\">\\n      <img src=\"/static/akademia_web/svg/about.svg\" />\\n    </div>\\n    <div class=\"content\">\\n      <p class=\"content__txt\">\\n        ビジネスは大学生の必修科目である\\n      </p>\\n      <br />\\n      <p class=\"content__txt\">\\n        京都大学で活動している学生団体AkaDeMiA（アカデミア）です。\\n      </p>\\n      <p class=\"content__txt\">\\n        『勉強×ビジネス』を理念に、勉強会·講演会·アプリ開発·サービス開発などを行っています。\\n      </p>\\n      <p class=\"content__txt\">\\n        AkaDeMiA代表、京都大学工学部情報学科2回生の古渡健太です。大学入学以降、ビジネスというキーワードを軸に様々な活動に関わってきましたが、まだまだ日々勉強中です。ですので、AkaDeMiAはトップダウンで運営するような組織ではなく、むしろ自主ゼミのような、メンバーみんなで互いを高め合っていけるような場にしていきたいと思っています。ぜひお気軽にご連絡ください。\\n      </p>\\n    </div>\\n    <div class=\"profile\">\\n      <img\\n        class=\"profile__title\"\\n        src=\"/static/akademia_web/svg/profile_90.svg\"\\n      />\\n      <picture class=\"profile__img\">\\n        <source\\n          srcset=\"/static/akademia_web/img/kowatari_mono.webp\"\\n          type=\"image/webp\"\\n        />\\n        <img src=\"/static/akademia_web/img/kowatari_mono.png\" />\\n      </picture>\\n      <div class=\"profile__name-sp\">古渡健太</div>\\n      <div class=\"content\">\\n        <div class=\"content__txt\">\\n          <p>2019年4月\\u3000京都大学工学部情報学科\\u3000入学</p>\\n          <p>\\n            入学後、国際系のサークルに入った後に、AkaDeMiAにジョイン。高いビジネスマインドと勤勉さで先輩らを驚愕させ、現在の代表をつとめる。哲学的ロマンチスト。メインの開発言語はPythonとWeb言語。年齢より大人に見られることをいい事と思いつつも少しだけ気にしてるらしい。\\n          </p>\\n        </div>\\n        <span class=\"content__name-pc\">古渡健太</span>\\n      </div>\\n    </div>\\n  </div>\\n\\n  <div id=\"history\" class=\"p-history\">\\n    <img class=\"bg_3\" src=\"/static/akademia_web/svg/asset03.svg\" />\\n    <img class=\"bg_4\" src=\"/static/akademia_web/svg/asset04.svg\" />\\n    <div class=\"p-history__title section-title\">\\n      <img src=\"/static/akademia_web/svg/history.svg\" />\\n    </div>\\n\\n    <div class=\"history\">\\n      <h2 class=\"history__year\">2018年</h2>\\n      <h3 class=\"history__month\">5月</h3>\\n      <ul class=\"history-list\">\\n        <li class=\"history-list__item\">自主ゼミとして学生団体AkaDeMiA発足</li>\\n        <li class=\"history-list__item\">Pythonの勉強会</li>\\n        <li class=\"history-list__item\">ビジネス研究</li>\\n        <li class=\"history-list__item\">アイデアソン</li>\\n      </ul>\\n      <h3 class=\"history__month\">7月</h3>\\n      <ul class=\"history-list\">\\n        <li class=\"history-list__item\">RPA制作プロジェクト開始</li>\\n        <li class=\"history-list__item\">VBA·GAS勉強会</li>\\n      </ul>\\n      <h3 class=\"history__month\">8月</h3>\\n      <ul class=\"history-list\">\\n        <li class=\"history-list__item\">野球部よりデータ分析ソフトの依頼</li>\\n        <li class=\"history-list__item\">データ分析ソフトの制作</li>\\n      </ul>\\n      <h3 class=\"history__month\">10月</h3>\\n      <ul class=\"history-list\">\\n        <li class=\"history-list__item\">野球部のデータ分析ソフトを納品</li>\\n      </ul>\\n      <h3 class=\"history__month\">11月</h3>\\n      <ul class=\"history-list\">\\n        <li class=\"history-list__item\">Web事業開始</li>\\n        <li class=\"history-list__item\">DjangoなどWeb関連の勉強会</li>\\n      </ul>\\n\\n      <h2 class=\"history__year\">2019年</h2>\\n      <h3 class=\"history__month\">2月</h3>\\n      <ul class=\"history-list\">\\n        <li class=\"history-list__item\">一般社団法人IMA-Iから依頼</li>\\n        <li class=\"history-list__item\">IMA-IのWebサイトの制作</li>\\n        <li class=\"history-list__item\">その他2サイトの制作</li>\\n        <li class=\"history-list__item\">データ分析などの勉強会</li>\\n      </ul>\\n      <h3 class=\"history__month\">6月</h3>\\n      <ul class=\"history-list\">\\n        <li class=\"p-history-list__item\">IMA-IのWebサイトの納品</li>\\n      </ul>\\n      <h3 class=\"history__month\">8月</h3>\\n      <ul class=\"history-list\">\\n        <li class=\"history-list__item\">サークル内企業、株式会社DeMiA設立</li>\\n        <li class=\"history-list__item\">Webの自主練習</li>\\n        <li class=\"history-list__item\">スマホアプリの勉強会</li>\\n        <li class=\"history-list__item\">JavaScriptの勉強会</li>\\n      </ul>\\n    </div>\\n  </div>\\n\\n  <div id=\"philosophy\" class=\"p-philosophy\">\\n    <img class=\"bg_8\" src=\"/static/akademia_web/svg/asset08.svg\" />\\n    <img class=\"bg_5\" src=\"/static/akademia_web/svg/asset05.svg\" />\\n    <div class=\"p-philosophy__title section-title\">\\n      <img src=\"/static/akademia_web/svg/philosophy.svg\" />\\n    </div>\\n    <div class=\"content\">\\n      <img\\n        class=\"content__title-pc\"\\n        src=\"/static/akademia_web/svg/study-business.svg\"\\n      />\\n      <img\\n        class=\"content__title-sp\"\\n        src=\"/static/akademia_web/svg/study-business_sp.svg\"\\n      />\\n      <div class=\"content__txt\">\\n        <p>\\n          2019年は、これからの時代の働き方を考えさせられる大きな変化が相次いだ年でした。5月には、経団連の中西会長やトヨタ自動車の豊田社長から、「終身雇用を守っていくのは難しい」旨の発言がありました。大学を卒業して就職し、定年まで働くのが当たり前だという大きなパラダイムが崩壊しつつあり、学部時代に起業する人も増えつつあります。\\n        </p>\\n        <!-- prettier-ignore -->\\n        <p>\\n          起業という文脈においては、3月には四条烏丸の京都経済センターに、起業支援の場を提供するKOIN（Kyoto Open Innovation Network）がオープンし、11月には京大のすぐそばに、シード期のスタートアップへの投資を行っているTHE\\n          SEEDの京都オフィスであるSEEDKYOTOがオープンしました。\\n        </p>\\n        <p>\\n          こうした変化の流れの中、我々学生団体AkaDeMiAは、『勉強×ビジネス』という理念のもと、ビジネスにつながる知識を学び、実践できる場を提供していきます。学部での授業では学ぶことのできない重要な知識を勉強会や講演会でインプットし、アプリやサービスの開発を通してその知識のアウトプットを行うことで、これからの時代を自分の力で生き抜く力を身につけることができると強く信じています。ぜひ我々と一緒に時代の変化を捉えていきましょう。\\n        </p>\\n      </div>\\n    </div>\\n  </div>\\n\\n  <div id=\"event\" class=\"p-event\">\\n    <img class=\"bg_7\" src=\"/static/akademia_web/svg/asset07.svg\" />\\n    <img class=\"bg_6\" src=\"/static/akademia_web/svg/asset06.svg\" />\\n    <div class=\"p-event__title section-title\">\\n      <img src=\"/static/akademia_web/svg/event.svg\" />\\n    </div>\\n    <table class=\"p-table\">\\n      <tbody>\\n        \\n        <tr>\\n          <td class=\"img\">\\n            <a href=\"/event/post/1\">\\n              <img src=\"/media/event/images_7.jpeg\" />\\n            </a>\\n          </td>\\n          <th>\\n            <a href=\"/event/post/1\">\\n              <span class=\"title\">2020年4月19日\\u3000デザイナー向けイベントを開催します</span><br />\\n              <span class=\"published\">2020.02.16</span\\n              ><br />\\n              \\n              <span class=\"category\">Tech</span>\\n              \\n              <span class=\"category\">Study</span>\\n              \\n            </a>\\n          </th>\\n          <td class=\"body\">\\n            <a href=\"/event/post/1\">\\n              <div>デザイニングの勉強をしたくても、なかなか体系的な学習を個人で行うのは難しいですよね。<br>\\r\\nそこで、学生団体AkaDeMiAでは、半日でデザイン手法の大枠を学べるようなイベントを開催します。<br>\\r\\n場所は大学付近のオフィスで、少し長いですが、作った名刺を後日お渡しします！大学生でも、自分のことを紹介する名刺が…</div>\\n            </a>\\n          </td>\\n        </tr>\\n        \\n        <tr>\\n          <td class=\"img\">\\n            <a href=\"/event/post/2\">\\n              <img src=\"/media/event/53201c68fefb072eeca2b6f014dd6811_t.jpeg\" />\\n            </a>\\n          </td>\\n          <th>\\n            <a href=\"/event/post/2\">\\n              <span class=\"title\">2020年4月25日\\u3000プログラミングイベントを開催します</span><br />\\n              <span class=\"published\">2020.02.16</span\\n              ><br />\\n              \\n              <span class=\"category\">Tech</span>\\n              \\n              <span class=\"category\">Study</span>\\n              \\n            </a>\\n          </th>\\n          <td class=\"body\">\\n            <a href=\"/event/post/2\">\\n              <div>独学でプログラミングの勉強をするのはなにかと問題が多い、という京大生のあなた！<br>\\r\\n様々な数学の問題をPythonで解いてみませんか？環境構築から丁寧にご説明します！きっと新たな世界を見つけることができると思います。現状、想定しているのは円周率計算・ニュートン法の実現を考えています！数学好き・プログラミング興味…</div>\\n            </a>\\n          </td>\\n        </tr>\\n        \\n      </tbody>\\n    </table>\\n    <div class=\"view-more\">\\n      <a href=\"/event/\">\\n        <img src=\"/static/akademia_web/svg/view-more.svg\" />\\n      </a>\\n    </div>\\n  </div>\\n\\n  <div id=\"blog\" class=\"p-blog\">\\n    <img class=\"bg_9\" src=\"/static/akademia_web/svg/asset09.svg\" />\\n    <div class=\"p-blog__title section-title\">\\n      <img src=\"/static/akademia_web/svg/blog.svg\" />\\n    </div>\\n    <table class=\"p-table\">\\n      <tbody>\\n        \\n        <tr>\\n          <td class=\"img\">\\n            <a href=\"/blog/post/1\">\\n              <img src=\"/media/blog/IMG_20200215_225613.jpg\" />\\n            </a>\\n          </td>\\n          <th>\\n            <a href=\"/blog/post/1\">\\n              <span class=\"title\">学生団体AkaDeMiA\\u3000Webサイトを公開しました。</span><br />\\n              <span class=\"published\">2020.02.16</span\\n              ><br />\\n              \\n              <span class=\"category\">News</span>\\n              \\n              <span class=\"category\">Tech</span>\\n              \\n            </a>\\n          </th>\\n          <td class=\"body\">\\n            <a href=\"/blog/post/1\">\\n              <div>本Webサイトは、<strong>PythonのWebフレームワークであるdjango</strong>を用いて、<strong>AWS</strong>から配信されています。\\r\\nデザインでは<strong>フラットデザイン</strong>を採用し、モノクロ調のテイストで硬さを主張するようにしました。\\r\\n開発はデザ…</div>\\n            </a>\\n          </td>\\n        </tr>\\n        \\n        <tr>\\n          <td class=\"img\">\\n            <a href=\"/blog/post/2\">\\n              <img src=\"/media/blog/IMG_20200215_225613_QbRL0aP.jpg\" />\\n            </a>\\n          </td>\\n          <th>\\n            <a href=\"/blog/post/2\">\\n              <span class=\"title\">新歓イベントの企画について</span><br />\\n              <span class=\"published\">2020.02.16</span\\n              ><br />\\n              \\n              <span class=\"category\">News</span>\\n              \\n              <span class=\"category\">Report</span>\\n              \\n              <span class=\"category\">Others</span>\\n              \\n            </a>\\n          </th>\\n          <td class=\"body\">\\n            <a href=\"/blog/post/2\">\\n              <div>新歓イベントの企画を担当している、<strong>中の人</strong>です。<br>\\r\\n学生団体AkaDeMiAは、多くある他のサークルよりは、<strong>お堅い活動を行っている？</strong>と個人的には思うので、新歓の企画が結構難しいです。例えば安易に<strong>バーベキュー</strong>とか…</div>\\n            </a>\\n          </td>\\n        </tr>\\n        \\n      </tbody>\\n    </table>\\n    <div class=\"view-more\">\\n      <a href=\"/blog/\">\\n        <img src=\"/static/akademia_web/svg/view-more.svg\" />\\n      </a>\\n    </div>\\n  </div>\\n\\n  <div id=\"members\" class=\"p-members\">\\n    <img class=\"bg_10\" src=\"/static/akademia_web/svg/asset10.svg\" />\\n    <div class=\"p-members__title-sp section-title\">\\n      <img src=\"/static/akademia_web/svg/members.svg\" />\\n    </div>\\n    <div class=\"cards-wrapper\">\\n      \\n      <div class=\"card\">\\n        <img\\n          src=\"/media/members/IMG_20200215_190256.jpg\"\\n          alt=\"Luc Khai Hai\"\\n          class=\"card__img\"\\n          id=\"member_btn_0\"\\n        />\\n        <div class=\"card__name\">Luc Khai Hai</div>\\n        <div class=\"detail\" id=\"member_wrapper_0\">\\n          <img\\n            src=\"/static/akademia_web/svg/delete.svg\"\\n            class=\"delete_mark\"\\n            id=\"delete_0\"\\n          />\\n          <img\\n            src=\"/media/members/IMG_20200215_190256.jpg\"\\n            alt=\"Luc Khai Hai\"\\n            class=\"detail__img\"\\n          />\\n          <div class=\"content\">\\n            <div class=\"content__name\">Luc Khai Hai</div>\\n            <div class=\"content__belongs\">京都大学電気電子工学科 3回生</div>\\n            <div class=\"content__txt\">こんにちは。ルックといいます。\\r\\nAkaDeMiAでは、主に講師として、ServerサイドからC、Kotlin及びPythonなどのコーディングを学んでいます。ビジネスサイドにも興味があるので、これからもっと知見を深めていきたいと思っています。\\r\\n好きな食べ物はさやえんどうスナックです。\\r\\n皆さん、よろしくお願いします。</div>\\n          </div>\\n        </div>\\n      </div>\\n      \\n      <div class=\"card\">\\n        <img\\n          src=\"/media/members/IMG_20200215_212111.jpg\"\\n          alt=\"井ノ本 洋斗\"\\n          class=\"card__img\"\\n          id=\"member_btn_1\"\\n        />\\n        <div class=\"card__name\">井ノ本 洋斗</div>\\n        <div class=\"detail\" id=\"member_wrapper_1\">\\n          <img\\n            src=\"/static/akademia_web/svg/delete.svg\"\\n            class=\"delete_mark\"\\n            id=\"delete_1\"\\n          />\\n          <img\\n            src=\"/media/members/IMG_20200215_212111.jpg\"\\n            alt=\"井ノ本 洋斗\"\\n            class=\"detail__img\"\\n          />\\n          <div class=\"content\">\\n            <div class=\"content__name\">井ノ本 洋斗</div>\\n            <div class=\"content__belongs\">京都大学電気電子工学科 3回生</div>\\n            <div class=\"content__txt\">開発フェーズに於いて、持続可能性というのは重要で、システムが安定した後、要件の追加があった際に、コーディングしたエンジニアがいない場合のことまで考えたルール作成・コーディングをせねば、システムエンジニアリングとは言えないと思っています。よろしくお願いします。</div>\\n          </div>\\n        </div>\\n      </div>\\n      \\n      <div class=\"card\">\\n        <img\\n          src=\"/media/members/IMG_20200215_212315.jpg\"\\n          alt=\"林 一成\"\\n          class=\"card__img\"\\n          id=\"member_btn_2\"\\n        />\\n        <div class=\"card__name\">林 一成</div>\\n        <div class=\"detail\" id=\"member_wrapper_2\">\\n          <img\\n            src=\"/static/akademia_web/svg/delete.svg\"\\n            class=\"delete_mark\"\\n            id=\"delete_2\"\\n          />\\n          <img\\n            src=\"/media/members/IMG_20200215_212315.jpg\"\\n            alt=\"林 一成\"\\n            class=\"detail__img\"\\n          />\\n          <div class=\"content\">\\n            <div class=\"content__name\">林 一成</div>\\n            <div class=\"content__belongs\">京都大学経済学部 2回生</div>\\n            <div class=\"content__txt\">フロントエンドエンジニアリングに慣れてきた林と申します。UIに関して、ユーザーの導線を意識するのは当たり前で、取集したデータをいかにUXとして分析・フィードバックするかという時代に達している現在、幅広い分野での知見を持つのは非常に重要です。</div>\\n          </div>\\n        </div>\\n      </div>\\n      \\n      <div class=\"card\">\\n        <img\\n          src=\"/media/members/1270.jpg\"\\n          alt=\"土佐 祐介\"\\n          class=\"card__img\"\\n          id=\"member_btn_3\"\\n        />\\n        <div class=\"card__name\">土佐 祐介</div>\\n        <div class=\"detail\" id=\"member_wrapper_3\">\\n          <img\\n            src=\"/static/akademia_web/svg/delete.svg\"\\n            class=\"delete_mark\"\\n            id=\"delete_3\"\\n          />\\n          <img\\n            src=\"/media/members/1270.jpg\"\\n            alt=\"土佐 祐介\"\\n            class=\"detail__img\"\\n          />\\n          <div class=\"content\">\\n            <div class=\"content__name\">土佐 祐介</div>\\n            <div class=\"content__belongs\">京都大学電気電子工学科 3回生</div>\\n            <div class=\"content__txt\">機械学習とデータ分析に興味があります。既存のデータセットを既存のアルゴリズムで実装するだけではAIエンジニアとは言えません。まずは原理を数理的な観点から認知し、イメージングするところからだと思い、日々研鑽しています。よろしくお願いします。</div>\\n          </div>\\n        </div>\\n      </div>\\n      \\n      <div class=\"card\">\\n        <img\\n          src=\"/media/members/IMG_20200215_213532.jpg\"\\n          alt=\"Saxena Prakhar\"\\n          class=\"card__img\"\\n          id=\"member_btn_4\"\\n        />\\n        <div class=\"card__name\">Saxena Prakhar</div>\\n        <div class=\"detail\" id=\"member_wrapper_4\">\\n          <img\\n            src=\"/static/akademia_web/svg/delete.svg\"\\n            class=\"delete_mark\"\\n            id=\"delete_4\"\\n          />\\n          <img\\n            src=\"/media/members/IMG_20200215_213532.jpg\"\\n            alt=\"Saxena Prakhar\"\\n            class=\"detail__img\"\\n          />\\n          <div class=\"content\">\\n            <div class=\"content__name\">Saxena Prakhar</div>\\n            <div class=\"content__belongs\">京都大学電気電子工学科 3回生</div>\\n            <div class=\"content__txt\">日本に来て四年目のインド人エンジニアです。蓋然性に賭けた包括的な実践よりも、直近のタスクを恣意的に優先することが肝腎である場合も惣別、多かったりしますよね。</div>\\n          </div>\\n        </div>\\n      </div>\\n      \\n      <div class=\"card\">\\n        <img\\n          src=\"/media/members/IMG_20200215_213653.jpg\"\\n          alt=\"梶塚 匠\"\\n          class=\"card__img\"\\n          id=\"member_btn_5\"\\n        />\\n        <div class=\"card__name\">梶塚 匠</div>\\n        <div class=\"detail\" id=\"member_wrapper_5\">\\n          <img\\n            src=\"/static/akademia_web/svg/delete.svg\"\\n            class=\"delete_mark\"\\n            id=\"delete_5\"\\n          />\\n          <img\\n            src=\"/media/members/IMG_20200215_213653.jpg\"\\n            alt=\"梶塚 匠\"\\n            class=\"detail__img\"\\n          />\\n          <div class=\"content\">\\n            <div class=\"content__name\">梶塚 匠</div>\\n            <div class=\"content__belongs\">京都大学経済学部 2回生</div>\\n            <div class=\"content__txt\">集団でのコーディングは、個人でのコーディングと比較して、開発ルールを明確にし、都度確認・更新し、最終的なイメージを結合せねばならないという難点がありますよね。早いうちに体験したいなら入ってみるといいと思います。</div>\\n          </div>\\n        </div>\\n      </div>\\n      \\n    </div>\\n    <div class=\"p-members__title-pc\">\\n      <img src=\"/static/akademia_web/svg/members_270.svg\" />\\n    </div>\\n  </div>\\n\\n  <div id=\"products\" class=\"p-products\">\\n    <img class=\"bg_11\" src=\"/static/akademia_web/svg/asset11.svg\" />\\n    <img class=\"bg_12\" src=\"/static/akademia_web/svg/asset12.svg\" />\\n    <img class=\"bg_13\" src=\"/static/akademia_web/svg/asset13.svg\" />\\n    <div class=\"p-products__title section-title\">\\n      <img src=\"/static/akademia_web/svg/products.svg\" />\\n    </div>\\n    <div class=\"product\">\\n      <picture class=\"product__img\">\\n        <source\\n          srcset=\"/static/akademia_web/img/product-baseball-club.webp\"\\n          type=\"image/webp\"\\n        />\\n        <img\\n          src=\"/static/akademia_web/img/product-baseball-club.png\"\\n          alt=\"野球部のデータ分析ツール\"\\n        />\\n      </picture>\\n      <div class=\"product__caption\">\\n        京都大学硬式野球部様 試合情報分析アプリ\\n      </div>\\n      <div class=\"product__description\">\\n        <p>\\n          京都大学硬式野球部が試合の分析に使う分析ツールを作成いたしました。\\n        </p>\\n        <p>\\n          データを入力するだけで自動で分析を行い、必要な情報を導き出すことで以降の練習や試合に役立てることができるように工夫いたしました。\\n        </p>\\n      </div>\\n    </div>\\n  </div>\\n\\n  <div id=\"contact\" class=\"p-contact\">\\n    <img class=\"bg_14\" src=\"/static/akademia_web/svg/asset14.svg\" />\\n    <div class=\"p-contact__title section-title\">\\n      <img src=\"/static/akademia_web/svg/contact.svg\" />\\n    </div>\\n    <form action=\"\" method=\"post\" class=\"p-contact__form\" name=\"contact\">\\n      <input type=\"hidden\" name=\"csrfmiddlewaretoken\" value=\"4xQxje0e0ZeUldXaDeZQ893UrK5y75XKB0ZmM2uiWRAHeaQsKRQ9OqqbFIGvKZgp\">\\n      <div class=\"p-contact__form-field\">\\n        <div class=\"p-contact__form-label\">氏名（必須）</div>\\n        <input\\n          class=\"p-contact__form-input\"\\n          type=\"text\"\\n          name=\"name\"\\n          id=\"contact-name\"\\n          placeholder=\"赤出 美亜\"\\n          required\\n        />\\n      </div>\\n      <div class=\"p-contact__form-field\">\\n        <div class=\"p-contact__form-label\">所属（必須）</div>\\n        <input\\n          class=\"p-contact__form-input\"\\n          type=\"text\"\\n          name=\"belonging\"\\n          id=\"contact-belonging\"\\n          placeholder=\"AkaDeMiA\"\\n          required\\n        />\\n      </div>\\n      <div class=\"p-contact__form-field\">\\n        <div class=\"p-contact__form-label\">メールアドレス（必須）</div>\\n        <input\\n          class=\"p-contact__form-input\"\\n          type=\"email\"\\n          name=\"email\"\\n          id=\"contact-email\"\\n          placeholder=\"akademia@example.com\"\\n          required\\n        />\\n      </div>\\n      <div class=\"p-contact__form-field\">\\n        <div class=\"p-contact__form-label\">電話番号</div>\\n        <input\\n          class=\"p-contact__form-input\"\\n          type=\"tel\"\\n          name=\"tel\"\\n          id=\"contact-tel\"\\n          placeholder=\"000-0000-0000\"\\n          pattern=\"^[0-9]+(-[0-9]+)*\"\\n        />\\n      </div>\\n      <div class=\"p-contact__form-field\">\\n        <div class=\"p-contact__form-label\">住所</div>\\n        <input\\n          class=\"p-contact__form-input\"\\n          type=\"text\"\\n          name=\"address\"\\n          id=\"contact-address\"\\n          placeholder=\"京都府京都市左京区出美亜町○-○\"\\n        />\\n      </div>\\n      <div class=\"p-contact__form-field\">\\n        <div class=\"p-contact__form-label\">お問い合わせ内容（必須）</div>\\n        <textarea\\n          class=\"p-contact__form-input\"\\n          type=\"text\"\\n          name=\"content\"\\n          id=\"contact-content\"\\n          placeholder=\"お問い合わせ内容をご記入ください。\"\\n          rows=\"7\"\\n          required\\n        ></textarea>\\n      </div>\\n      <div class=\"p-contact__privacy-policy\">\\n        <a href=\"/privacy_policy/\" target=\"_blank\">\\n          <img\\n            src=\"/static/akademia_web/svg/privacy-policy.svg\"\\n            alt=\"Privacy Policy\"\\n          />\\n        </a>\\n      </div>\\n      <div class=\"p-contact__send\">\\n        <button type=\"submit\" class=\"p-contact__send\">\\n          <picture>\\n            <img src=\"/static/akademia_web/svg/send.svg\" alt=\"Send\" />\\n          </picture>\\n        </button>\\n      </div>\\n    </form>\\n  </div>\\n</div>\\n\\n    <footer class=\"footer\">\\n      <!-- <div class=\"sns-wrapper\">\\n        <div class=\"sns-wrapper__icon\">\\n          <a href=\"#\">\\n            <img src=\"/static/akademia_web/svg/facebook.svg\" />\\n          </a>\\n        </div>\\n        <div class=\"sns-wrapper__icon\">\\n          <a href=\"#\">\\n            <img src=\"/static/akademia_web/svg/twitter.svg\" />\\n          </a>\\n        </div>\\n      </div> -->\\n      <div class=\"copyright\">© 2020 AkaDeMiA</div>\\n    </footer>\\n    \\n<script\\n  src=\"https://cdnjs.cloudflare.com/ajax/libs/animejs/3.1.0/anime.min.js\"\\n  integrity=\"sha256-98Q574VkbV+PkxXCKSgL6jVq9mrVbS7uCdA+vt0sLS8=\"\\n  crossorigin=\"anonymous\"\\n></script>\\n<script\\n  src=\"https://cdnjs.cloudflare.com/ajax/libs/vivus/0.4.4/vivus.min.js\"\\n  integrity=\"sha256-u/d/ZywUFyU/VmJ/TjCml5Hvl0GbgEvr3BvOvBGp5P8=\"\\n  crossorigin=\"anonymous\"\\n></script>\\n<script src=\"/static/CACHE/js/index.930839cfb1c0.js\"></script> \\n  </body>\\n</html>\\n'"
      ]
     },
     "execution_count": 5,
     "metadata": {},
     "output_type": "execute_result"
    }
   ],
   "source": [
    "r.text"
   ]
  },
  {
   "cell_type": "code",
   "execution_count": 6,
   "metadata": {},
   "outputs": [
    {
     "data": {
      "text/plain": [
       "<RequestsCookieJar[Cookie(version=0, name='csrftoken', value='1BFEjktg97PmkinUBS1AxOvgN4rAB4u5y4OtM8Xk5Zb9dfgcIvSTd5Sx122xeYNK', port=None, port_specified=False, domain='akademia.tech', domain_specified=False, domain_initial_dot=False, path='/', path_specified=True, secure=False, expires=1613771688, discard=False, comment=None, comment_url=None, rest={'SameSite': 'Lax'}, rfc2109=False)]>"
      ]
     },
     "execution_count": 6,
     "metadata": {},
     "output_type": "execute_result"
    }
   ],
   "source": [
    "r.cookies"
   ]
  },
  {
   "cell_type": "code",
   "execution_count": 7,
   "metadata": {},
   "outputs": [
    {
     "data": {
      "text/plain": [
       "'1BFEjktg97PmkinUBS1AxOvgN4rAB4u5y4OtM8Xk5Zb9dfgcIvSTd5Sx122xeYNK'"
      ]
     },
     "execution_count": 7,
     "metadata": {},
     "output_type": "execute_result"
    }
   ],
   "source": [
    "r.cookies['csrftoken']"
   ]
  },
  {
   "cell_type": "code",
   "execution_count": 8,
   "metadata": {},
   "outputs": [
    {
     "data": {
      "text/plain": [
       "[]"
      ]
     },
     "execution_count": 8,
     "metadata": {},
     "output_type": "execute_result"
    }
   ],
   "source": [
    "r.history"
   ]
  },
  {
   "cell_type": "code",
   "execution_count": 9,
   "metadata": {},
   "outputs": [
    {
     "data": {
      "text/plain": [
       "[<Response [301]>]"
      ]
     },
     "execution_count": 9,
     "metadata": {},
     "output_type": "execute_result"
    }
   ],
   "source": [
    "r_1 = requests.get('http://akademia.tech')\n",
    "r_1.history"
   ]
  },
  {
   "cell_type": "code",
   "execution_count": 10,
   "metadata": {},
   "outputs": [],
   "source": [
    "r_2 = requests.get('https://akademia.tech/complete', params={'status':1})"
   ]
  },
  {
   "cell_type": "code",
   "execution_count": 11,
   "metadata": {},
   "outputs": [
    {
     "data": {
      "text/plain": [
       "'https://akademia.tech/complete/?status=1'"
      ]
     },
     "execution_count": 11,
     "metadata": {},
     "output_type": "execute_result"
    }
   ],
   "source": [
    "r_2.url"
   ]
  },
  {
   "cell_type": "code",
   "execution_count": 12,
   "metadata": {},
   "outputs": [
    {
     "data": {
      "text/plain": [
       "'\\n<!DOCTYPE html>\\n<html lang=\"ja\">\\n  <head>\\n    <meta charset=\"utf-8\" />\\n    <meta name=\"viewport\" content=\"width=device-width, initial-scale=1.0\" />\\n    <meta http-equiv=\"X-UA-Compatible\" content=\"ie=edge\" />\\n    <link rel=\"icon\" href=\"/static/akademia_web/img/favicon.ico\" />\\n    <link\\n      rel=\"stylesheet\"\\n      href=\"/static/akademia_web/scss/main.css\"\\n    />\\n    <title>学生団体AkaDeMiA</title>\\n    <!-- Global site tag (gtag.js) - Google Analytics -->\\n    <script\\n      async\\n      src=\"https://www.googletagmanager.com/gtag/js?id=UA-135958147-2\"\\n    ></script>\\n    <script>\\n      window.dataLayer = window.dataLayer || [];\\n      function gtag() {\\n        dataLayer.push(arguments);\\n      }\\n      gtag(\"js\", new Date());\\n      gtag(\"config\", \"UA-135958147-2\");\\n    </script>\\n  </head>\\n  <body>\\n    <div class=\"logo-left-pc\">\\n      <picture>\\n        <a href=\"/\">\\n          <img src=\"/static/akademia_web/svg/logo.svg\" alt=\"AkaDeMiA\" />\\n        </a>\\n      </picture>\\n    </div>\\n    <div class=\"complete-content\">\\n      <img class=\"bg_15\" src=\"/static/akademia_web/svg/asset09.svg\" />\\n      \\n        <div class=\\'title\\'>送信が完了しました。</div>\\n        <div class=\\'text\\'>この度は、お問い合わせ頂きありがとうございます。</div>\\n        <div class=\\'text\\'>ご記入いただいたメールアドレスに確認のメールを送信させていただきましたので、ご確認ください。</div>\\n        <div class=\\'text\\'>なお、お問い合わせ内容につきましては、後日担当者よりご回答させていただきますので、しばらくお待ちください。</div>\\n        \\n    </div>\\n    <footer class=\"footer\">\\n      <div class=\"copyright\">© 2020 AkaDeMiA</div>\\n    </footer>\\n  </body>\\n</html>\\n'"
      ]
     },
     "execution_count": 12,
     "metadata": {},
     "output_type": "execute_result"
    }
   ],
   "source": [
    "r_2.text"
   ]
  },
  {
   "cell_type": "markdown",
   "metadata": {},
   "source": [
    "http://httpbin.org/post \\\n",
    "シンプルなHTTPリクエストとレスポンスを返してくれるサービス。\\\n",
    "自分が送ったパラメータやヘッダー情報をレスポンスしてくれるため、正しくリクエストされているかどうかを簡易的に確認するのに有効。"
   ]
  },
  {
   "cell_type": "code",
   "execution_count": 13,
   "metadata": {},
   "outputs": [],
   "source": [
    "data = {'key1': 'value1', 'key2': 'value2'}\n",
    "r_3 = requests.post(\"http://httpbin.org/post\", data=data)"
   ]
  },
  {
   "cell_type": "code",
   "execution_count": 14,
   "metadata": {},
   "outputs": [
    {
     "data": {
      "text/plain": [
       "200"
      ]
     },
     "execution_count": 14,
     "metadata": {},
     "output_type": "execute_result"
    }
   ],
   "source": [
    "r_3.status_code"
   ]
  },
  {
   "cell_type": "code",
   "execution_count": 15,
   "metadata": {},
   "outputs": [
    {
     "data": {
      "text/plain": [
       "'application/json'"
      ]
     },
     "execution_count": 15,
     "metadata": {},
     "output_type": "execute_result"
    }
   ],
   "source": [
    "r_3.headers['Content-Type']"
   ]
  },
  {
   "cell_type": "code",
   "execution_count": 16,
   "metadata": {},
   "outputs": [
    {
     "name": "stdout",
     "output_type": "stream",
     "text": [
      "<class 'str'>\n"
     ]
    },
    {
     "data": {
      "text/plain": [
       "'{\\n  \"args\": {}, \\n  \"data\": \"\", \\n  \"files\": {}, \\n  \"form\": {\\n    \"key1\": \"value1\", \\n    \"key2\": \"value2\"\\n  }, \\n  \"headers\": {\\n    \"Accept\": \"*/*\", \\n    \"Accept-Encoding\": \"gzip, deflate\", \\n    \"Content-Length\": \"23\", \\n    \"Content-Type\": \"application/x-www-form-urlencoded\", \\n    \"Host\": \"httpbin.org\", \\n    \"User-Agent\": \"python-requests/2.22.0\", \\n    \"X-Amzn-Trace-Id\": \"Root=1-5e5051a9-a70491c073869420155be920\"\\n  }, \\n  \"json\": null, \\n  \"origin\": \"121.102.66.149\", \\n  \"url\": \"http://httpbin.org/post\"\\n}\\n'"
      ]
     },
     "execution_count": 16,
     "metadata": {},
     "output_type": "execute_result"
    }
   ],
   "source": [
    "print(type(r_3.text))\n",
    "r_3.text"
   ]
  },
  {
   "cell_type": "code",
   "execution_count": 17,
   "metadata": {},
   "outputs": [
    {
     "name": "stdout",
     "output_type": "stream",
     "text": [
      "<class 'dict'>\n"
     ]
    },
    {
     "data": {
      "text/plain": [
       "{'args': {},\n",
       " 'data': '',\n",
       " 'files': {},\n",
       " 'form': {'key1': 'value1', 'key2': 'value2'},\n",
       " 'headers': {'Accept': '*/*',\n",
       "  'Accept-Encoding': 'gzip, deflate',\n",
       "  'Content-Length': '23',\n",
       "  'Content-Type': 'application/x-www-form-urlencoded',\n",
       "  'Host': 'httpbin.org',\n",
       "  'User-Agent': 'python-requests/2.22.0',\n",
       "  'X-Amzn-Trace-Id': 'Root=1-5e5051a9-a70491c073869420155be920'},\n",
       " 'json': None,\n",
       " 'origin': '121.102.66.149',\n",
       " 'url': 'http://httpbin.org/post'}"
      ]
     },
     "execution_count": 17,
     "metadata": {},
     "output_type": "execute_result"
    }
   ],
   "source": [
    "print(type(r_3.json()))\n",
    "r_3.json()"
   ]
  },
  {
   "cell_type": "markdown",
   "metadata": {},
   "source": [
    "# 2. Beautifulsoupの基礎\n",
    "tutorial \\\n",
    "http://kondou.com/BS4/"
   ]
  },
  {
   "cell_type": "code",
   "execution_count": 18,
   "metadata": {},
   "outputs": [],
   "source": [
    "from bs4 import BeautifulSoup"
   ]
  },
  {
   "cell_type": "code",
   "execution_count": 19,
   "metadata": {},
   "outputs": [],
   "source": [
    "r_4 = requests.get('https://akademia.tech/blog')\n",
    "soup = BeautifulSoup(r_4.text)"
   ]
  },
  {
   "cell_type": "code",
   "execution_count": 20,
   "metadata": {
    "collapsed": true,
    "jupyter": {
     "outputs_hidden": true
    }
   },
   "outputs": [
    {
     "data": {
      "text/plain": [
       "\n",
       "<!DOCTYPE html>\n",
       "\n",
       "<html lang=\"ja\">\n",
       "<head>\n",
       "<meta charset=\"utf-8\"/>\n",
       "<meta content=\"width=device-width, initial-scale=1.0\" name=\"viewport\"/>\n",
       "<meta content=\"ie=edge\" http-equiv=\"X-UA-Compatible\"/>\n",
       "<meta content=\"京都大学のIT(プログラミング)・学問・ビジネスサークル、AkaDeMiAのブログ記事一覧。プログラミングや学生起業など、様々な視点から記事を描いている。\" name=\"description\"/>\n",
       "<link href=\"/static/akademia_web/img/favicon.ico\" rel=\"icon\"/>\n",
       "<link href=\"/static/akademia_web/scss/main.css\" rel=\"stylesheet\"/>\n",
       "<title>京都大学の学生団体AkaDeMiAのブログ</title>\n",
       "<!-- Global site tag (gtag.js) - Google Analytics -->\n",
       "<script async=\"\" src=\"https://www.googletagmanager.com/gtag/js?id=UA-135958147-2\"></script>\n",
       "<script>\n",
       "      window.dataLayer = window.dataLayer || [];\n",
       "      function gtag() {\n",
       "        dataLayer.push(arguments);\n",
       "      }\n",
       "      gtag(\"js\", new Date());\n",
       "      gtag(\"config\", \"UA-135958147-2\");\n",
       "    </script>\n",
       "</head>\n",
       "<body>\n",
       "<div class=\"logo-left-pc\">\n",
       "<picture>\n",
       "<a href=\"/\">\n",
       "<img alt=\"AkaDeMiA\" src=\"/static/akademia_web/svg/logo.svg\"/>\n",
       "</a>\n",
       "</picture>\n",
       "</div>\n",
       "<div class=\"blog_list-content\">\n",
       "<div class=\"p-title\">\n",
       "<div class=\"title_img\">\n",
       "<img src=\"/static/akademia_web/svg/blog.svg\"/>\n",
       "</div>\n",
       "<div class=\"title_bg\"></div>\n",
       "</div>\n",
       "<table class=\"p-table\">\n",
       "<tbody>\n",
       "<tr>\n",
       "<td>\n",
       "<a href=\"/blog/post/1\">\n",
       "<img src=\"/media/blog/IMG_20200215_225613.jpg\"/>\n",
       "</a>\n",
       "</td>\n",
       "<th>\n",
       "<a href=\"/blog/post/1\">\n",
       "<span class=\"title\">学生団体AkaDeMiA　Webサイトを公開しました。</span><br/>\n",
       "<span class=\"published\">2020.02.16</span><br/>\n",
       "<span class=\"category\">News</span>\n",
       "<span class=\"category\">Tech</span>\n",
       "</a>\n",
       "</th>\n",
       "</tr>\n",
       "<tr>\n",
       "<td>\n",
       "<a href=\"/blog/post/2\">\n",
       "<img src=\"/media/blog/IMG_20200215_225613_QbRL0aP.jpg\"/>\n",
       "</a>\n",
       "</td>\n",
       "<th>\n",
       "<a href=\"/blog/post/2\">\n",
       "<span class=\"title\">新歓イベントの企画について</span><br/>\n",
       "<span class=\"published\">2020.02.16</span><br/>\n",
       "<span class=\"category\">News</span>\n",
       "<span class=\"category\">Report</span>\n",
       "<span class=\"category\">Others</span>\n",
       "</a>\n",
       "</th>\n",
       "</tr>\n",
       "</tbody>\n",
       "</table>\n",
       "<nav aria-label=\"Page navigation\">\n",
       "<ul class=\"pagination\">\n",
       "<!-- comment -->\n",
       "<li class=\"page-item active\">\n",
       "<a class=\"page-link\" href=\"?page=1\">\n",
       "        1\n",
       "      </a>\n",
       "</li>\n",
       "<!-- prettier-ignore -->\n",
       "<!-- comment -->\n",
       "<!-- comment -->\n",
       "</ul>\n",
       "</nav>\n",
       "</div>\n",
       "<footer class=\"footer\">\n",
       "<!-- <div class=\"sns-wrapper\">\n",
       "        <div class=\"sns-wrapper__icon\">\n",
       "          <a href=\"#\">\n",
       "            <img src=\"/static/akademia_web/svg/facebook.svg\" />\n",
       "          </a>\n",
       "        </div>\n",
       "        <div class=\"sns-wrapper__icon\">\n",
       "          <a href=\"#\">\n",
       "            <img src=\"/static/akademia_web/svg/twitter.svg\" />\n",
       "          </a>\n",
       "        </div>\n",
       "      </div> -->\n",
       "<div class=\"copyright\">© 2020 AkaDeMiA</div>\n",
       "</footer>\n",
       "</body>\n",
       "</html>"
      ]
     },
     "execution_count": 20,
     "metadata": {},
     "output_type": "execute_result"
    }
   ],
   "source": [
    "soup"
   ]
  },
  {
   "cell_type": "code",
   "execution_count": 21,
   "metadata": {},
   "outputs": [],
   "source": [
    "def prettier(soup):\n",
    "    for script in soup([\"script\", \"style\"]):\n",
    "        script.decompose()    # rip it out\n",
    "\n",
    "    # get text\n",
    "    text = soup.get_text()\n",
    "\n",
    "    # break into lines and remove leading and trailing space on each\n",
    "    lines = (line.strip() for line in text.splitlines())\n",
    "    # break multi-headlines into a line each\n",
    "    chunks = (phrase.strip() for line in lines for phrase in line.split(\"  \"))\n",
    "    # drop blank lines\n",
    "    text = '\\n'.join(chunk for chunk in chunks if chunk)\n",
    "\n",
    "    print(text)\n"
   ]
  },
  {
   "cell_type": "code",
   "execution_count": 22,
   "metadata": {},
   "outputs": [
    {
     "name": "stdout",
     "output_type": "stream",
     "text": [
      "京都大学の学生団体AkaDeMiAのブログ\n",
      "学生団体AkaDeMiA　Webサイトを公開しました。\n",
      "2020.02.16\n",
      "News\n",
      "Tech\n",
      "新歓イベントの企画について\n",
      "2020.02.16\n",
      "News\n",
      "Report\n",
      "Others\n",
      "1\n",
      "© 2020 AkaDeMiA\n"
     ]
    }
   ],
   "source": [
    "prettier(soup)"
   ]
  },
  {
   "cell_type": "code",
   "execution_count": 23,
   "metadata": {},
   "outputs": [
    {
     "name": "stdout",
     "output_type": "stream",
     "text": [
      "<title>京都大学の学生団体AkaDeMiAのブログ</title>\n",
      "京都大学の学生団体AkaDeMiAのブログ\n"
     ]
    }
   ],
   "source": [
    "print(soup.title)\n",
    "print(soup.title.text)"
   ]
  },
  {
   "cell_type": "code",
   "execution_count": 24,
   "metadata": {},
   "outputs": [
    {
     "data": {
      "text/plain": [
       "<div class=\"logo-left-pc\">\n",
       "<picture>\n",
       "<a href=\"/\">\n",
       "<img alt=\"AkaDeMiA\" src=\"/static/akademia_web/svg/logo.svg\"/>\n",
       "</a>\n",
       "</picture>\n",
       "</div>"
      ]
     },
     "execution_count": 24,
     "metadata": {},
     "output_type": "execute_result"
    }
   ],
   "source": [
    "soup.div"
   ]
  },
  {
   "cell_type": "code",
   "execution_count": 25,
   "metadata": {},
   "outputs": [
    {
     "data": {
      "text/plain": [
       "{'class': ['logo-left-pc']}"
      ]
     },
     "execution_count": 25,
     "metadata": {},
     "output_type": "execute_result"
    }
   ],
   "source": [
    "soup.div.attrs"
   ]
  },
  {
   "cell_type": "code",
   "execution_count": 26,
   "metadata": {},
   "outputs": [
    {
     "data": {
      "text/plain": [
       "['logo-left-pc']"
      ]
     },
     "execution_count": 26,
     "metadata": {},
     "output_type": "execute_result"
    }
   ],
   "source": [
    "soup.div['class']"
   ]
  },
  {
   "cell_type": "code",
   "execution_count": 27,
   "metadata": {},
   "outputs": [
    {
     "name": "stdout",
     "output_type": "stream",
     "text": [
      "/\n",
      "/blog/post/1\n",
      "/blog/post/1\n",
      "/blog/post/2\n",
      "/blog/post/2\n",
      "?page=1\n"
     ]
    }
   ],
   "source": [
    "for link in soup.find_all('a'):\n",
    "    print(link.get('href')) # または print(link['href'])"
   ]
  },
  {
   "cell_type": "code",
   "execution_count": 28,
   "metadata": {},
   "outputs": [
    {
     "data": {
      "text/plain": [
       "[<span class=\"category\">News</span>,\n",
       " <span class=\"category\">Tech</span>,\n",
       " <span class=\"category\">News</span>,\n",
       " <span class=\"category\">Report</span>,\n",
       " <span class=\"category\">Others</span>]"
      ]
     },
     "execution_count": 28,
     "metadata": {},
     "output_type": "execute_result"
    }
   ],
   "source": [
    "soup.select('.category')"
   ]
  },
  {
   "cell_type": "markdown",
   "metadata": {},
   "source": [
    "# 3. データをDBに保存"
   ]
  },
  {
   "cell_type": "markdown",
   "metadata": {},
   "source": [
    "## はじめに\n",
    "データ保存を手軽に実装したい場合は、わざわざDBを用意する必要はない。  \n",
    "pythonのcsvモジュールやosのパイプラインで標準出力を.csvに保存すればいい。  \n",
    "csvモジュールを用いたデータ書き込みのサンプルコードは以下。  \n",
    "しかし、大規模データや情報の整合性が特に重視されるデータなど、ファイル単位で保存するのが適さないデータはDBを用意し、そこに直接データの書き込みをするといい。  \n",
    "我社ではDBとしてPostgreSQLをよく用いているので、本資料ではpythonでスクレイピングしたデータをPostgreSQLに保存する手順を紹介する。"
   ]
  },
  {
   "cell_type": "code",
   "execution_count": 29,
   "metadata": {},
   "outputs": [],
   "source": [
    "# csv書き込みサンプルコード\n",
    "# import csv\n",
    "\n",
    "# l = [[11, 12, 13, 14], \n",
    "#      [21, 22, 23, 24], \n",
    "#      [31, 32, 33, 34]]\n",
    "\n",
    "# with open('sample.csv', 'w') as f:\n",
    "#     writer = csv.writer(f)\n",
    "#     writer.writerows(l)"
   ]
  },
  {
   "cell_type": "code",
   "execution_count": 30,
   "metadata": {},
   "outputs": [],
   "source": [
    "import psycopg2"
   ]
  },
  {
   "cell_type": "code",
   "execution_count": 31,
   "metadata": {},
   "outputs": [],
   "source": [
    "conn = psycopg2.connect(\n",
    "    database='yusuke', \n",
    "    user='yusuke', \n",
    "    password='thisistest', \n",
    "    host='127.0.0.1', \n",
    "    port=5432)"
   ]
  },
  {
   "cell_type": "code",
   "execution_count": 32,
   "metadata": {},
   "outputs": [],
   "source": [
    "cur = conn.cursor()"
   ]
  },
  {
   "cell_type": "code",
   "execution_count": 33,
   "metadata": {},
   "outputs": [],
   "source": [
    "cur.execute('SELECT * FROM test')"
   ]
  },
  {
   "cell_type": "code",
   "execution_count": 34,
   "metadata": {},
   "outputs": [],
   "source": [
    "results = cur.fetchall()"
   ]
  },
  {
   "cell_type": "code",
   "execution_count": 35,
   "metadata": {},
   "outputs": [
    {
     "name": "stdout",
     "output_type": "stream",
     "text": [
      "(1, 'sample', Decimal('1.0'))\n"
     ]
    }
   ],
   "source": [
    "for r in results:\n",
    "  print(r)"
   ]
  },
  {
   "cell_type": "code",
   "execution_count": 36,
   "metadata": {},
   "outputs": [],
   "source": [
    "conn.commit()"
   ]
  },
  {
   "cell_type": "code",
   "execution_count": 37,
   "metadata": {},
   "outputs": [],
   "source": [
    "conn.close()"
   ]
  },
  {
   "cell_type": "markdown",
   "metadata": {},
   "source": [
    "# 4. クローラーの作成"
   ]
  },
  {
   "cell_type": "markdown",
   "metadata": {},
   "source": [
    "実際にクローリング・スクレイピングを実行する場合は、.pyファイルに一連の処理を記述しておき自動でDB保存まで行ってしまうのが望ましい。  \n",
    "従って、最後に1.~3.までのまとめとしてtest.pyというファイルを用いてクローラーを作成してみる。"
   ]
  },
  {
   "cell_type": "code",
   "execution_count": null,
   "metadata": {},
   "outputs": [],
   "source": []
  }
 ],
 "metadata": {
  "kernelspec": {
   "display_name": ".venv",
   "language": "python",
   "name": ".venv"
  },
  "language_info": {
   "codemirror_mode": {
    "name": "ipython",
    "version": 3
   },
   "file_extension": ".py",
   "mimetype": "text/x-python",
   "name": "python",
   "nbconvert_exporter": "python",
   "pygments_lexer": "ipython3",
   "version": "3.6.9"
  }
 },
 "nbformat": 4,
 "nbformat_minor": 4
}
